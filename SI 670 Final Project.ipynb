{
 "cells": [
  {
   "cell_type": "markdown",
   "id": "nervous-laundry",
   "metadata": {},
   "source": [
    "# SI 670 Final Project - Predicting Soccer Players' Market Value Based on FIFA Stats\n",
    "\n",
    "## By Sammy Stern and Yash Kamat"
   ]
  },
  {
   "cell_type": "markdown",
   "id": "valuable-japanese",
   "metadata": {},
   "source": [
    "### Imports and Basic Data Exploration"
   ]
  },
  {
   "cell_type": "code",
   "execution_count": 1,
   "id": "chronic-compact",
   "metadata": {
    "ExecuteTime": {
     "end_time": "2021-12-14T00:00:04.633407Z",
     "start_time": "2021-12-14T00:00:02.301049Z"
    }
   },
   "outputs": [],
   "source": [
    "import pandas as pd\n",
    "import numpy as np\n",
    "\n",
    "import matplotlib.pyplot as plt\n",
    "import seaborn as sns\n",
    "\n",
    "from sklearn.impute import SimpleImputer\n",
    "from sklearn.tree import ExtraTreeRegressor\n",
    "from sklearn.model_selection import train_test_split, GridSearchCV, cross_val_score, KFold\n",
    "from sklearn.preprocessing import MinMaxScaler, PolynomialFeatures\n",
    "\n",
    "from sklearn.neighbors import KNeighborsRegressor\n",
    "from sklearn.dummy import DummyRegressor\n",
    "from sklearn.naive_bayes import GaussianNB\n",
    "from sklearn.linear_model import LinearRegression, Lasso, Ridge\n",
    "from sklearn.tree import DecisionTreeRegressor\n",
    "from sklearn.ensemble import RandomForestRegressor\n",
    "from sklearn.svm import SVR\n",
    "\n",
    "from sklearn.metrics import r2_score, mean_absolute_error, mean_squared_error\n",
    "from mlxtend.evaluate import bias_variance_decomp\n",
    "\n",
    "from warnings import filterwarnings\n",
    "\n",
    "filterwarnings('ignore')\n",
    "SEED = 0"
   ]
  },
  {
   "cell_type": "code",
   "execution_count": 2,
   "id": "domestic-quebec",
   "metadata": {
    "ExecuteTime": {
     "end_time": "2021-12-14T00:00:04.661491Z",
     "start_time": "2021-12-14T00:00:04.635915Z"
    }
   },
   "outputs": [],
   "source": [
    "df = pd.read_csv('fifa_data.csv')"
   ]
  },
  {
   "cell_type": "code",
   "execution_count": 3,
   "id": "operational-second",
   "metadata": {
    "ExecuteTime": {
     "end_time": "2021-12-14T00:00:04.752494Z",
     "start_time": "2021-12-14T00:00:04.664643Z"
    }
   },
   "outputs": [
    {
     "data": {
      "text/html": [
       "<div>\n",
       "<style scoped>\n",
       "    .dataframe tbody tr th:only-of-type {\n",
       "        vertical-align: middle;\n",
       "    }\n",
       "\n",
       "    .dataframe tbody tr th {\n",
       "        vertical-align: top;\n",
       "    }\n",
       "\n",
       "    .dataframe thead th {\n",
       "        text-align: right;\n",
       "    }\n",
       "</style>\n",
       "<table border=\"1\" class=\"dataframe\">\n",
       "  <thead>\n",
       "    <tr style=\"text-align: right;\">\n",
       "      <th></th>\n",
       "      <th>Player</th>\n",
       "      <th>Overall Score</th>\n",
       "      <th>Potential Score</th>\n",
       "      <th>Market Value</th>\n",
       "      <th>Salary</th>\n",
       "      <th>Height</th>\n",
       "      <th>Weight</th>\n",
       "      <th>Age</th>\n",
       "      <th>Preferred Foot</th>\n",
       "      <th>Ball Control</th>\n",
       "      <th>...</th>\n",
       "      <th>Long Shots</th>\n",
       "      <th>Curve</th>\n",
       "      <th>FK Acc.</th>\n",
       "      <th>Penalties</th>\n",
       "      <th>Volleys</th>\n",
       "      <th>GK Positioning</th>\n",
       "      <th>GK Diving</th>\n",
       "      <th>GK Handling</th>\n",
       "      <th>GK Kicking</th>\n",
       "      <th>GK Reflexes</th>\n",
       "    </tr>\n",
       "  </thead>\n",
       "  <tbody>\n",
       "    <tr>\n",
       "      <th>0</th>\n",
       "      <td>Lionel Messi</td>\n",
       "      <td>93</td>\n",
       "      <td>93</td>\n",
       "      <td>92000000.0</td>\n",
       "      <td>380000.0</td>\n",
       "      <td>170</td>\n",
       "      <td>72</td>\n",
       "      <td>34</td>\n",
       "      <td>Left</td>\n",
       "      <td>96.0</td>\n",
       "      <td>...</td>\n",
       "      <td>94.0</td>\n",
       "      <td>93.0</td>\n",
       "      <td>94.0</td>\n",
       "      <td>75.0</td>\n",
       "      <td>88.0</td>\n",
       "      <td>14.0</td>\n",
       "      <td>6.0</td>\n",
       "      <td>11.0</td>\n",
       "      <td>15.0</td>\n",
       "      <td>8.0</td>\n",
       "    </tr>\n",
       "    <tr>\n",
       "      <th>1</th>\n",
       "      <td>Robert Lewandowski</td>\n",
       "      <td>92</td>\n",
       "      <td>92</td>\n",
       "      <td>141500000.0</td>\n",
       "      <td>320000.0</td>\n",
       "      <td>185</td>\n",
       "      <td>81</td>\n",
       "      <td>33</td>\n",
       "      <td>Right</td>\n",
       "      <td>88.0</td>\n",
       "      <td>...</td>\n",
       "      <td>87.0</td>\n",
       "      <td>79.0</td>\n",
       "      <td>85.0</td>\n",
       "      <td>89.0</td>\n",
       "      <td>89.0</td>\n",
       "      <td>8.0</td>\n",
       "      <td>15.0</td>\n",
       "      <td>6.0</td>\n",
       "      <td>12.0</td>\n",
       "      <td>10.0</td>\n",
       "    </tr>\n",
       "    <tr>\n",
       "      <th>2</th>\n",
       "      <td>Kylian Mbappé</td>\n",
       "      <td>91</td>\n",
       "      <td>95</td>\n",
       "      <td>229000000.0</td>\n",
       "      <td>270000.0</td>\n",
       "      <td>182</td>\n",
       "      <td>73</td>\n",
       "      <td>22</td>\n",
       "      <td>Right</td>\n",
       "      <td>91.0</td>\n",
       "      <td>...</td>\n",
       "      <td>82.0</td>\n",
       "      <td>80.0</td>\n",
       "      <td>69.0</td>\n",
       "      <td>79.0</td>\n",
       "      <td>83.0</td>\n",
       "      <td>11.0</td>\n",
       "      <td>13.0</td>\n",
       "      <td>5.0</td>\n",
       "      <td>7.0</td>\n",
       "      <td>6.0</td>\n",
       "    </tr>\n",
       "    <tr>\n",
       "      <th>3</th>\n",
       "      <td>Jan Oblak</td>\n",
       "      <td>91</td>\n",
       "      <td>93</td>\n",
       "      <td>132500000.0</td>\n",
       "      <td>150000.0</td>\n",
       "      <td>188</td>\n",
       "      <td>87</td>\n",
       "      <td>28</td>\n",
       "      <td>Right</td>\n",
       "      <td>30.0</td>\n",
       "      <td>...</td>\n",
       "      <td>12.0</td>\n",
       "      <td>13.0</td>\n",
       "      <td>14.0</td>\n",
       "      <td>11.0</td>\n",
       "      <td>13.0</td>\n",
       "      <td>90.0</td>\n",
       "      <td>87.0</td>\n",
       "      <td>92.0</td>\n",
       "      <td>78.0</td>\n",
       "      <td>90.0</td>\n",
       "    </tr>\n",
       "    <tr>\n",
       "      <th>4</th>\n",
       "      <td>Kevin De Bruyne</td>\n",
       "      <td>91</td>\n",
       "      <td>91</td>\n",
       "      <td>148000000.0</td>\n",
       "      <td>410000.0</td>\n",
       "      <td>181</td>\n",
       "      <td>70</td>\n",
       "      <td>30</td>\n",
       "      <td>Right</td>\n",
       "      <td>90.0</td>\n",
       "      <td>...</td>\n",
       "      <td>91.0</td>\n",
       "      <td>85.0</td>\n",
       "      <td>83.0</td>\n",
       "      <td>83.0</td>\n",
       "      <td>82.0</td>\n",
       "      <td>10.0</td>\n",
       "      <td>15.0</td>\n",
       "      <td>13.0</td>\n",
       "      <td>5.0</td>\n",
       "      <td>13.0</td>\n",
       "    </tr>\n",
       "  </tbody>\n",
       "</table>\n",
       "<p>5 rows × 43 columns</p>\n",
       "</div>"
      ],
      "text/plain": [
       "               Player  Overall Score  Potential Score  Market Value    Salary  \\\n",
       "0        Lionel Messi             93               93    92000000.0  380000.0   \n",
       "1  Robert Lewandowski             92               92   141500000.0  320000.0   \n",
       "2       Kylian Mbappé             91               95   229000000.0  270000.0   \n",
       "3           Jan Oblak             91               93   132500000.0  150000.0   \n",
       "4     Kevin De Bruyne             91               91   148000000.0  410000.0   \n",
       "\n",
       "   Height  Weight  Age Preferred Foot  Ball Control  ...  Long Shots  Curve  \\\n",
       "0     170      72   34           Left          96.0  ...        94.0   93.0   \n",
       "1     185      81   33          Right          88.0  ...        87.0   79.0   \n",
       "2     182      73   22          Right          91.0  ...        82.0   80.0   \n",
       "3     188      87   28          Right          30.0  ...        12.0   13.0   \n",
       "4     181      70   30          Right          90.0  ...        91.0   85.0   \n",
       "\n",
       "   FK Acc.  Penalties  Volleys  GK Positioning  GK Diving  GK Handling  \\\n",
       "0     94.0       75.0     88.0            14.0        6.0         11.0   \n",
       "1     85.0       89.0     89.0             8.0       15.0          6.0   \n",
       "2     69.0       79.0     83.0            11.0       13.0          5.0   \n",
       "3     14.0       11.0     13.0            90.0       87.0         92.0   \n",
       "4     83.0       83.0     82.0            10.0       15.0         13.0   \n",
       "\n",
       "   GK Kicking  GK Reflexes  \n",
       "0        15.0          8.0  \n",
       "1        12.0         10.0  \n",
       "2         7.0          6.0  \n",
       "3        78.0         90.0  \n",
       "4         5.0         13.0  \n",
       "\n",
       "[5 rows x 43 columns]"
      ]
     },
     "execution_count": 3,
     "metadata": {},
     "output_type": "execute_result"
    }
   ],
   "source": [
    "df.head()"
   ]
  },
  {
   "cell_type": "code",
   "execution_count": 4,
   "id": "latin-conjunction",
   "metadata": {
    "ExecuteTime": {
     "end_time": "2021-12-14T00:00:04.774354Z",
     "start_time": "2021-12-14T00:00:04.755097Z"
    },
    "scrolled": true
   },
   "outputs": [
    {
     "name": "stdout",
     "output_type": "stream",
     "text": [
      "<class 'pandas.core.frame.DataFrame'>\n",
      "RangeIndex: 3000 entries, 0 to 2999\n",
      "Data columns (total 43 columns):\n",
      " #   Column           Non-Null Count  Dtype  \n",
      "---  ------           --------------  -----  \n",
      " 0   Player           3000 non-null   object \n",
      " 1   Overall Score    3000 non-null   int64  \n",
      " 2   Potential Score  3000 non-null   int64  \n",
      " 3   Market Value     2933 non-null   float64\n",
      " 4   Salary           2945 non-null   float64\n",
      " 5   Height           3000 non-null   int64  \n",
      " 6   Weight           3000 non-null   int64  \n",
      " 7   Age              3000 non-null   int64  \n",
      " 8   Preferred Foot   3000 non-null   object \n",
      " 9   Ball Control     2973 non-null   float64\n",
      " 10  Dribbling        2979 non-null   float64\n",
      " 11  Marking          2975 non-null   float64\n",
      " 12  Slide Tackle     2980 non-null   float64\n",
      " 13  Stand Tackle     2977 non-null   float64\n",
      " 14  Aggression       2984 non-null   float64\n",
      " 15  Reactions        2962 non-null   float64\n",
      " 16  Att. Position    2980 non-null   float64\n",
      " 17  Interceptions    2974 non-null   float64\n",
      " 18  Vision           2981 non-null   float64\n",
      " 19  Composure        2981 non-null   float64\n",
      " 20  Crossing         2981 non-null   float64\n",
      " 21  Short Pass       2968 non-null   float64\n",
      " 22  Long Pass        2982 non-null   float64\n",
      " 23  Acceleration     2980 non-null   float64\n",
      " 24  Stamina          2976 non-null   float64\n",
      " 25  Strength         2975 non-null   float64\n",
      " 26  Balance          2994 non-null   float64\n",
      " 27  Sprint Speed     2979 non-null   float64\n",
      " 28  Agility          2986 non-null   float64\n",
      " 29  Jumping          2992 non-null   float64\n",
      " 30  Heading          2984 non-null   float64\n",
      " 31  Shot Power       2988 non-null   float64\n",
      " 32  Finishing        2978 non-null   float64\n",
      " 33  Long Shots       2987 non-null   float64\n",
      " 34  Curve            2990 non-null   float64\n",
      " 35  FK Acc.          2989 non-null   float64\n",
      " 36  Penalties        2996 non-null   float64\n",
      " 37  Volleys          2991 non-null   float64\n",
      " 38  GK Positioning   2998 non-null   float64\n",
      " 39  GK Diving        2999 non-null   float64\n",
      " 40  GK Handling      2999 non-null   float64\n",
      " 41  GK Kicking       3000 non-null   float64\n",
      " 42  GK Reflexes      2998 non-null   float64\n",
      "dtypes: float64(36), int64(5), object(2)\n",
      "memory usage: 1007.9+ KB\n"
     ]
    }
   ],
   "source": [
    "df.info()"
   ]
  },
  {
   "cell_type": "code",
   "execution_count": 5,
   "id": "metallic-grammar",
   "metadata": {
    "ExecuteTime": {
     "end_time": "2021-12-14T00:00:04.784851Z",
     "start_time": "2021-12-14T00:00:04.776315Z"
    },
    "scrolled": true
   },
   "outputs": [
    {
     "data": {
      "text/plain": [
       "Player              0\n",
       "Overall Score       0\n",
       "Potential Score     0\n",
       "Market Value       67\n",
       "Salary             55\n",
       "Height              0\n",
       "Weight              0\n",
       "Age                 0\n",
       "Preferred Foot      0\n",
       "Ball Control       27\n",
       "Dribbling          21\n",
       "Marking            25\n",
       "Slide Tackle       20\n",
       "Stand Tackle       23\n",
       "Aggression         16\n",
       "Reactions          38\n",
       "Att. Position      20\n",
       "Interceptions      26\n",
       "Vision             19\n",
       "Composure          19\n",
       "Crossing           19\n",
       "Short Pass         32\n",
       "Long Pass          18\n",
       "Acceleration       20\n",
       "Stamina            24\n",
       "Strength           25\n",
       "Balance             6\n",
       "Sprint Speed       21\n",
       "Agility            14\n",
       "Jumping             8\n",
       "Heading            16\n",
       "Shot Power         12\n",
       "Finishing          22\n",
       "Long Shots         13\n",
       "Curve              10\n",
       "FK Acc.            11\n",
       "Penalties           4\n",
       "Volleys             9\n",
       "GK Positioning      2\n",
       "GK Diving           1\n",
       "GK Handling         1\n",
       "GK Kicking          0\n",
       "GK Reflexes         2\n",
       "dtype: int64"
      ]
     },
     "execution_count": 5,
     "metadata": {},
     "output_type": "execute_result"
    }
   ],
   "source": [
    "df.isnull().sum()"
   ]
  },
  {
   "cell_type": "markdown",
   "id": "seventh-engineering",
   "metadata": {
    "ExecuteTime": {
     "end_time": "2021-12-07T16:48:01.018563Z",
     "start_time": "2021-12-07T16:48:00.909039Z"
    }
   },
   "source": [
    "We have multiple columns with missing values. Most importantly, the target column, `Market Value` has 67 missing values, which we cannot (and should not) impute, since it's the target column. As such, we will drop the `Market Value` column and impute the missing value in the remaining columns."
   ]
  },
  {
   "cell_type": "code",
   "execution_count": 6,
   "id": "decreased-budapest",
   "metadata": {
    "ExecuteTime": {
     "end_time": "2021-12-14T00:00:04.820888Z",
     "start_time": "2021-12-14T00:00:04.786382Z"
    }
   },
   "outputs": [
    {
     "data": {
      "text/html": [
       "<div>\n",
       "<style scoped>\n",
       "    .dataframe tbody tr th:only-of-type {\n",
       "        vertical-align: middle;\n",
       "    }\n",
       "\n",
       "    .dataframe tbody tr th {\n",
       "        vertical-align: top;\n",
       "    }\n",
       "\n",
       "    .dataframe thead th {\n",
       "        text-align: right;\n",
       "    }\n",
       "</style>\n",
       "<table border=\"1\" class=\"dataframe\">\n",
       "  <thead>\n",
       "    <tr style=\"text-align: right;\">\n",
       "      <th></th>\n",
       "      <th>Player</th>\n",
       "      <th>Overall Score</th>\n",
       "      <th>Potential Score</th>\n",
       "      <th>Market Value</th>\n",
       "      <th>Salary</th>\n",
       "      <th>Height</th>\n",
       "      <th>Weight</th>\n",
       "      <th>Age</th>\n",
       "      <th>Preferred Foot</th>\n",
       "      <th>Ball Control</th>\n",
       "      <th>...</th>\n",
       "      <th>Long Shots</th>\n",
       "      <th>Curve</th>\n",
       "      <th>FK Acc.</th>\n",
       "      <th>Penalties</th>\n",
       "      <th>Volleys</th>\n",
       "      <th>GK Positioning</th>\n",
       "      <th>GK Diving</th>\n",
       "      <th>GK Handling</th>\n",
       "      <th>GK Kicking</th>\n",
       "      <th>GK Reflexes</th>\n",
       "    </tr>\n",
       "  </thead>\n",
       "  <tbody>\n",
       "    <tr>\n",
       "      <th>172</th>\n",
       "      <td>Toby Alderweireld</td>\n",
       "      <td>83</td>\n",
       "      <td>83</td>\n",
       "      <td>NaN</td>\n",
       "      <td>NaN</td>\n",
       "      <td>186</td>\n",
       "      <td>81</td>\n",
       "      <td>32</td>\n",
       "      <td>Right</td>\n",
       "      <td>75.0</td>\n",
       "      <td>...</td>\n",
       "      <td>58.0</td>\n",
       "      <td>63.0</td>\n",
       "      <td>59.0</td>\n",
       "      <td>58.0</td>\n",
       "      <td>38.0</td>\n",
       "      <td>16.0</td>\n",
       "      <td>16.0</td>\n",
       "      <td>6.0</td>\n",
       "      <td>14.0</td>\n",
       "      <td>14.0</td>\n",
       "    </tr>\n",
       "    <tr>\n",
       "      <th>212</th>\n",
       "      <td>Andreas Christensen</td>\n",
       "      <td>82</td>\n",
       "      <td>86</td>\n",
       "      <td>NaN</td>\n",
       "      <td>NaN</td>\n",
       "      <td>188</td>\n",
       "      <td>81</td>\n",
       "      <td>25</td>\n",
       "      <td>Right</td>\n",
       "      <td>NaN</td>\n",
       "      <td>...</td>\n",
       "      <td>20.0</td>\n",
       "      <td>41.0</td>\n",
       "      <td>39.0</td>\n",
       "      <td>36.0</td>\n",
       "      <td>25.0</td>\n",
       "      <td>6.0</td>\n",
       "      <td>10.0</td>\n",
       "      <td>12.0</td>\n",
       "      <td>8.0</td>\n",
       "      <td>8.0</td>\n",
       "    </tr>\n",
       "    <tr>\n",
       "      <th>221</th>\n",
       "      <td>Saúl</td>\n",
       "      <td>82</td>\n",
       "      <td>83</td>\n",
       "      <td>NaN</td>\n",
       "      <td>75000.0</td>\n",
       "      <td>184</td>\n",
       "      <td>75</td>\n",
       "      <td>27</td>\n",
       "      <td>Left</td>\n",
       "      <td>82.0</td>\n",
       "      <td>...</td>\n",
       "      <td>80.0</td>\n",
       "      <td>73.0</td>\n",
       "      <td>60.0</td>\n",
       "      <td>68.0</td>\n",
       "      <td>76.0</td>\n",
       "      <td>10.0</td>\n",
       "      <td>7.0</td>\n",
       "      <td>13.0</td>\n",
       "      <td>12.0</td>\n",
       "      <td>9.0</td>\n",
       "    </tr>\n",
       "    <tr>\n",
       "      <th>310</th>\n",
       "      <td>Andreas Christensen</td>\n",
       "      <td>82</td>\n",
       "      <td>86</td>\n",
       "      <td>NaN</td>\n",
       "      <td>NaN</td>\n",
       "      <td>188</td>\n",
       "      <td>81</td>\n",
       "      <td>25</td>\n",
       "      <td>Right</td>\n",
       "      <td>NaN</td>\n",
       "      <td>...</td>\n",
       "      <td>20.0</td>\n",
       "      <td>41.0</td>\n",
       "      <td>39.0</td>\n",
       "      <td>36.0</td>\n",
       "      <td>25.0</td>\n",
       "      <td>6.0</td>\n",
       "      <td>10.0</td>\n",
       "      <td>12.0</td>\n",
       "      <td>8.0</td>\n",
       "      <td>8.0</td>\n",
       "    </tr>\n",
       "    <tr>\n",
       "      <th>376</th>\n",
       "      <td>Scott McTominay</td>\n",
       "      <td>80</td>\n",
       "      <td>83</td>\n",
       "      <td>NaN</td>\n",
       "      <td>105000.0</td>\n",
       "      <td>193</td>\n",
       "      <td>88</td>\n",
       "      <td>24</td>\n",
       "      <td>Right</td>\n",
       "      <td>76.0</td>\n",
       "      <td>...</td>\n",
       "      <td>81.0</td>\n",
       "      <td>72.0</td>\n",
       "      <td>53.0</td>\n",
       "      <td>60.0</td>\n",
       "      <td>62.0</td>\n",
       "      <td>10.0</td>\n",
       "      <td>9.0</td>\n",
       "      <td>6.0</td>\n",
       "      <td>6.0</td>\n",
       "      <td>11.0</td>\n",
       "    </tr>\n",
       "    <tr>\n",
       "      <th>...</th>\n",
       "      <td>...</td>\n",
       "      <td>...</td>\n",
       "      <td>...</td>\n",
       "      <td>...</td>\n",
       "      <td>...</td>\n",
       "      <td>...</td>\n",
       "      <td>...</td>\n",
       "      <td>...</td>\n",
       "      <td>...</td>\n",
       "      <td>...</td>\n",
       "      <td>...</td>\n",
       "      <td>...</td>\n",
       "      <td>...</td>\n",
       "      <td>...</td>\n",
       "      <td>...</td>\n",
       "      <td>...</td>\n",
       "      <td>...</td>\n",
       "      <td>...</td>\n",
       "      <td>...</td>\n",
       "      <td>...</td>\n",
       "      <td>...</td>\n",
       "    </tr>\n",
       "    <tr>\n",
       "      <th>2782</th>\n",
       "      <td>Guillermo Fernández</td>\n",
       "      <td>73</td>\n",
       "      <td>73</td>\n",
       "      <td>NaN</td>\n",
       "      <td>NaN</td>\n",
       "      <td>178</td>\n",
       "      <td>75</td>\n",
       "      <td>30</td>\n",
       "      <td>Right</td>\n",
       "      <td>76.0</td>\n",
       "      <td>...</td>\n",
       "      <td>76.0</td>\n",
       "      <td>75.0</td>\n",
       "      <td>74.0</td>\n",
       "      <td>59.0</td>\n",
       "      <td>NaN</td>\n",
       "      <td>11.0</td>\n",
       "      <td>9.0</td>\n",
       "      <td>14.0</td>\n",
       "      <td>6.0</td>\n",
       "      <td>6.0</td>\n",
       "    </tr>\n",
       "    <tr>\n",
       "      <th>2843</th>\n",
       "      <td>Jakub Brabec</td>\n",
       "      <td>73</td>\n",
       "      <td>73</td>\n",
       "      <td>NaN</td>\n",
       "      <td>NaN</td>\n",
       "      <td>187</td>\n",
       "      <td>77</td>\n",
       "      <td>29</td>\n",
       "      <td>Right</td>\n",
       "      <td>66.0</td>\n",
       "      <td>...</td>\n",
       "      <td>56.0</td>\n",
       "      <td>39.0</td>\n",
       "      <td>29.0</td>\n",
       "      <td>49.0</td>\n",
       "      <td>51.0</td>\n",
       "      <td>16.0</td>\n",
       "      <td>10.0</td>\n",
       "      <td>12.0</td>\n",
       "      <td>6.0</td>\n",
       "      <td>7.0</td>\n",
       "    </tr>\n",
       "    <tr>\n",
       "      <th>2895</th>\n",
       "      <td>Guido Burgstaller</td>\n",
       "      <td>73</td>\n",
       "      <td>73</td>\n",
       "      <td>NaN</td>\n",
       "      <td>NaN</td>\n",
       "      <td>187</td>\n",
       "      <td>80</td>\n",
       "      <td>32</td>\n",
       "      <td>Right</td>\n",
       "      <td>69.0</td>\n",
       "      <td>...</td>\n",
       "      <td>70.0</td>\n",
       "      <td>62.0</td>\n",
       "      <td>42.0</td>\n",
       "      <td>64.0</td>\n",
       "      <td>72.0</td>\n",
       "      <td>10.0</td>\n",
       "      <td>12.0</td>\n",
       "      <td>7.0</td>\n",
       "      <td>14.0</td>\n",
       "      <td>9.0</td>\n",
       "    </tr>\n",
       "    <tr>\n",
       "      <th>2904</th>\n",
       "      <td>Romain Hamouma</td>\n",
       "      <td>73</td>\n",
       "      <td>73</td>\n",
       "      <td>NaN</td>\n",
       "      <td>NaN</td>\n",
       "      <td>178</td>\n",
       "      <td>76</td>\n",
       "      <td>34</td>\n",
       "      <td>Right</td>\n",
       "      <td>NaN</td>\n",
       "      <td>...</td>\n",
       "      <td>NaN</td>\n",
       "      <td>76.0</td>\n",
       "      <td>70.0</td>\n",
       "      <td>70.0</td>\n",
       "      <td>76.0</td>\n",
       "      <td>7.0</td>\n",
       "      <td>14.0</td>\n",
       "      <td>11.0</td>\n",
       "      <td>14.0</td>\n",
       "      <td>13.0</td>\n",
       "    </tr>\n",
       "    <tr>\n",
       "      <th>2938</th>\n",
       "      <td>Thomas Kaminski</td>\n",
       "      <td>73</td>\n",
       "      <td>74</td>\n",
       "      <td>NaN</td>\n",
       "      <td>32000.0</td>\n",
       "      <td>188</td>\n",
       "      <td>70</td>\n",
       "      <td>29</td>\n",
       "      <td>Right</td>\n",
       "      <td>16.0</td>\n",
       "      <td>...</td>\n",
       "      <td>15.0</td>\n",
       "      <td>11.0</td>\n",
       "      <td>17.0</td>\n",
       "      <td>24.0</td>\n",
       "      <td>17.0</td>\n",
       "      <td>67.0</td>\n",
       "      <td>72.0</td>\n",
       "      <td>75.0</td>\n",
       "      <td>69.0</td>\n",
       "      <td>74.0</td>\n",
       "    </tr>\n",
       "  </tbody>\n",
       "</table>\n",
       "<p>67 rows × 43 columns</p>\n",
       "</div>"
      ],
      "text/plain": [
       "                   Player  Overall Score  Potential Score  Market Value  \\\n",
       "172     Toby Alderweireld             83               83           NaN   \n",
       "212   Andreas Christensen             82               86           NaN   \n",
       "221                  Saúl             82               83           NaN   \n",
       "310   Andreas Christensen             82               86           NaN   \n",
       "376       Scott McTominay             80               83           NaN   \n",
       "...                   ...            ...              ...           ...   \n",
       "2782  Guillermo Fernández             73               73           NaN   \n",
       "2843         Jakub Brabec             73               73           NaN   \n",
       "2895    Guido Burgstaller             73               73           NaN   \n",
       "2904       Romain Hamouma             73               73           NaN   \n",
       "2938      Thomas Kaminski             73               74           NaN   \n",
       "\n",
       "        Salary  Height  Weight  Age Preferred Foot  Ball Control  ...  \\\n",
       "172        NaN     186      81   32          Right          75.0  ...   \n",
       "212        NaN     188      81   25          Right           NaN  ...   \n",
       "221    75000.0     184      75   27           Left          82.0  ...   \n",
       "310        NaN     188      81   25          Right           NaN  ...   \n",
       "376   105000.0     193      88   24          Right          76.0  ...   \n",
       "...        ...     ...     ...  ...            ...           ...  ...   \n",
       "2782       NaN     178      75   30          Right          76.0  ...   \n",
       "2843       NaN     187      77   29          Right          66.0  ...   \n",
       "2895       NaN     187      80   32          Right          69.0  ...   \n",
       "2904       NaN     178      76   34          Right           NaN  ...   \n",
       "2938   32000.0     188      70   29          Right          16.0  ...   \n",
       "\n",
       "      Long Shots  Curve  FK Acc.  Penalties  Volleys  GK Positioning  \\\n",
       "172         58.0   63.0     59.0       58.0     38.0            16.0   \n",
       "212         20.0   41.0     39.0       36.0     25.0             6.0   \n",
       "221         80.0   73.0     60.0       68.0     76.0            10.0   \n",
       "310         20.0   41.0     39.0       36.0     25.0             6.0   \n",
       "376         81.0   72.0     53.0       60.0     62.0            10.0   \n",
       "...          ...    ...      ...        ...      ...             ...   \n",
       "2782        76.0   75.0     74.0       59.0      NaN            11.0   \n",
       "2843        56.0   39.0     29.0       49.0     51.0            16.0   \n",
       "2895        70.0   62.0     42.0       64.0     72.0            10.0   \n",
       "2904         NaN   76.0     70.0       70.0     76.0             7.0   \n",
       "2938        15.0   11.0     17.0       24.0     17.0            67.0   \n",
       "\n",
       "      GK Diving  GK Handling  GK Kicking  GK Reflexes  \n",
       "172        16.0          6.0        14.0         14.0  \n",
       "212        10.0         12.0         8.0          8.0  \n",
       "221         7.0         13.0        12.0          9.0  \n",
       "310        10.0         12.0         8.0          8.0  \n",
       "376         9.0          6.0         6.0         11.0  \n",
       "...         ...          ...         ...          ...  \n",
       "2782        9.0         14.0         6.0          6.0  \n",
       "2843       10.0         12.0         6.0          7.0  \n",
       "2895       12.0          7.0        14.0          9.0  \n",
       "2904       14.0         11.0        14.0         13.0  \n",
       "2938       72.0         75.0        69.0         74.0  \n",
       "\n",
       "[67 rows x 43 columns]"
      ]
     },
     "execution_count": 6,
     "metadata": {},
     "output_type": "execute_result"
    }
   ],
   "source": [
    "df[df['Market Value'].isnull()]"
   ]
  },
  {
   "cell_type": "code",
   "execution_count": 7,
   "id": "preliminary-currency",
   "metadata": {
    "ExecuteTime": {
     "end_time": "2021-12-14T00:00:04.843105Z",
     "start_time": "2021-12-14T00:00:04.822464Z"
    }
   },
   "outputs": [],
   "source": [
    "df.dropna(subset=['Market Value'], inplace=True)"
   ]
  },
  {
   "cell_type": "code",
   "execution_count": 8,
   "id": "backed-manhattan",
   "metadata": {
    "ExecuteTime": {
     "end_time": "2021-12-14T00:00:04.852296Z",
     "start_time": "2021-12-14T00:00:04.849036Z"
    }
   },
   "outputs": [
    {
     "data": {
      "text/plain": [
       "(2933, 43)"
      ]
     },
     "execution_count": 8,
     "metadata": {},
     "output_type": "execute_result"
    }
   ],
   "source": [
    "df.shape"
   ]
  },
  {
   "cell_type": "code",
   "execution_count": 9,
   "id": "dangerous-bottle",
   "metadata": {
    "ExecuteTime": {
     "end_time": "2021-12-14T00:00:04.862561Z",
     "start_time": "2021-12-14T00:00:04.855314Z"
    },
    "scrolled": true
   },
   "outputs": [
    {
     "data": {
      "text/plain": [
       "Player              0\n",
       "Overall Score       0\n",
       "Potential Score     0\n",
       "Market Value        0\n",
       "Salary              0\n",
       "Height              0\n",
       "Weight              0\n",
       "Age                 0\n",
       "Preferred Foot      0\n",
       "Ball Control        4\n",
       "Dribbling           4\n",
       "Marking             7\n",
       "Slide Tackle        8\n",
       "Stand Tackle        8\n",
       "Aggression          9\n",
       "Reactions           7\n",
       "Att. Position       3\n",
       "Interceptions       9\n",
       "Vision              4\n",
       "Composure           4\n",
       "Crossing            3\n",
       "Short Pass          6\n",
       "Long Pass           3\n",
       "Acceleration       12\n",
       "Stamina            12\n",
       "Strength           14\n",
       "Balance             5\n",
       "Sprint Speed       15\n",
       "Agility             7\n",
       "Jumping             2\n",
       "Heading             5\n",
       "Shot Power          4\n",
       "Finishing           6\n",
       "Long Shots          5\n",
       "Curve               3\n",
       "FK Acc.             8\n",
       "Penalties           1\n",
       "Volleys             1\n",
       "GK Positioning      0\n",
       "GK Diving           1\n",
       "GK Handling         0\n",
       "GK Kicking          0\n",
       "GK Reflexes         0\n",
       "dtype: int64"
      ]
     },
     "execution_count": 9,
     "metadata": {},
     "output_type": "execute_result"
    }
   ],
   "source": [
    "df.isnull().sum()"
   ]
  },
  {
   "cell_type": "markdown",
   "id": "noticed-nightmare",
   "metadata": {},
   "source": [
    "## Feature Representation"
   ]
  },
  {
   "cell_type": "markdown",
   "id": "accessory-lambda",
   "metadata": {},
   "source": [
    "Splitting dataframe into two dataframes - one for player information (containing numerical and text data) and one for player statistics (conatining only numerical data)."
   ]
  },
  {
   "cell_type": "code",
   "execution_count": 10,
   "id": "welsh-ranking",
   "metadata": {
    "ExecuteTime": {
     "end_time": "2021-12-14T00:00:04.869134Z",
     "start_time": "2021-12-14T00:00:04.864169Z"
    }
   },
   "outputs": [],
   "source": [
    "df_info = df[['Market Value', 'Salary', 'Height', 'Weight', 'Age', 'Preferred Foot']]\n",
    "df_stat = df.drop(['Player', 'Salary', 'Height', 'Weight', 'Age', 'Preferred Foot'], axis=1)"
   ]
  },
  {
   "cell_type": "code",
   "execution_count": 11,
   "id": "warming-listing",
   "metadata": {
    "ExecuteTime": {
     "end_time": "2021-12-14T00:00:04.880612Z",
     "start_time": "2021-12-14T00:00:04.870884Z"
    }
   },
   "outputs": [
    {
     "data": {
      "text/html": [
       "<div>\n",
       "<style scoped>\n",
       "    .dataframe tbody tr th:only-of-type {\n",
       "        vertical-align: middle;\n",
       "    }\n",
       "\n",
       "    .dataframe tbody tr th {\n",
       "        vertical-align: top;\n",
       "    }\n",
       "\n",
       "    .dataframe thead th {\n",
       "        text-align: right;\n",
       "    }\n",
       "</style>\n",
       "<table border=\"1\" class=\"dataframe\">\n",
       "  <thead>\n",
       "    <tr style=\"text-align: right;\">\n",
       "      <th></th>\n",
       "      <th>Market Value</th>\n",
       "      <th>Salary</th>\n",
       "      <th>Height</th>\n",
       "      <th>Weight</th>\n",
       "      <th>Age</th>\n",
       "      <th>Preferred Foot</th>\n",
       "    </tr>\n",
       "  </thead>\n",
       "  <tbody>\n",
       "    <tr>\n",
       "      <th>0</th>\n",
       "      <td>92000000.0</td>\n",
       "      <td>380000.0</td>\n",
       "      <td>170</td>\n",
       "      <td>72</td>\n",
       "      <td>34</td>\n",
       "      <td>Left</td>\n",
       "    </tr>\n",
       "    <tr>\n",
       "      <th>1</th>\n",
       "      <td>141500000.0</td>\n",
       "      <td>320000.0</td>\n",
       "      <td>185</td>\n",
       "      <td>81</td>\n",
       "      <td>33</td>\n",
       "      <td>Right</td>\n",
       "    </tr>\n",
       "    <tr>\n",
       "      <th>2</th>\n",
       "      <td>229000000.0</td>\n",
       "      <td>270000.0</td>\n",
       "      <td>182</td>\n",
       "      <td>73</td>\n",
       "      <td>22</td>\n",
       "      <td>Right</td>\n",
       "    </tr>\n",
       "    <tr>\n",
       "      <th>3</th>\n",
       "      <td>132500000.0</td>\n",
       "      <td>150000.0</td>\n",
       "      <td>188</td>\n",
       "      <td>87</td>\n",
       "      <td>28</td>\n",
       "      <td>Right</td>\n",
       "    </tr>\n",
       "    <tr>\n",
       "      <th>4</th>\n",
       "      <td>148000000.0</td>\n",
       "      <td>410000.0</td>\n",
       "      <td>181</td>\n",
       "      <td>70</td>\n",
       "      <td>30</td>\n",
       "      <td>Right</td>\n",
       "    </tr>\n",
       "  </tbody>\n",
       "</table>\n",
       "</div>"
      ],
      "text/plain": [
       "   Market Value    Salary  Height  Weight  Age Preferred Foot\n",
       "0    92000000.0  380000.0     170      72   34           Left\n",
       "1   141500000.0  320000.0     185      81   33          Right\n",
       "2   229000000.0  270000.0     182      73   22          Right\n",
       "3   132500000.0  150000.0     188      87   28          Right\n",
       "4   148000000.0  410000.0     181      70   30          Right"
      ]
     },
     "execution_count": 11,
     "metadata": {},
     "output_type": "execute_result"
    }
   ],
   "source": [
    "df_info.head()"
   ]
  },
  {
   "cell_type": "code",
   "execution_count": 12,
   "id": "preceding-purpose",
   "metadata": {
    "ExecuteTime": {
     "end_time": "2021-12-14T00:00:04.919875Z",
     "start_time": "2021-12-14T00:00:04.883096Z"
    },
    "scrolled": true
   },
   "outputs": [
    {
     "data": {
      "text/html": [
       "<div>\n",
       "<style scoped>\n",
       "    .dataframe tbody tr th:only-of-type {\n",
       "        vertical-align: middle;\n",
       "    }\n",
       "\n",
       "    .dataframe tbody tr th {\n",
       "        vertical-align: top;\n",
       "    }\n",
       "\n",
       "    .dataframe thead th {\n",
       "        text-align: right;\n",
       "    }\n",
       "</style>\n",
       "<table border=\"1\" class=\"dataframe\">\n",
       "  <thead>\n",
       "    <tr style=\"text-align: right;\">\n",
       "      <th></th>\n",
       "      <th>0</th>\n",
       "      <th>1</th>\n",
       "      <th>2</th>\n",
       "      <th>3</th>\n",
       "      <th>4</th>\n",
       "    </tr>\n",
       "  </thead>\n",
       "  <tbody>\n",
       "    <tr>\n",
       "      <th>Overall Score</th>\n",
       "      <td>93.0</td>\n",
       "      <td>92.0</td>\n",
       "      <td>91.0</td>\n",
       "      <td>91.0</td>\n",
       "      <td>91.0</td>\n",
       "    </tr>\n",
       "    <tr>\n",
       "      <th>Potential Score</th>\n",
       "      <td>93.0</td>\n",
       "      <td>92.0</td>\n",
       "      <td>95.0</td>\n",
       "      <td>93.0</td>\n",
       "      <td>91.0</td>\n",
       "    </tr>\n",
       "    <tr>\n",
       "      <th>Market Value</th>\n",
       "      <td>92000000.0</td>\n",
       "      <td>141500000.0</td>\n",
       "      <td>229000000.0</td>\n",
       "      <td>132500000.0</td>\n",
       "      <td>148000000.0</td>\n",
       "    </tr>\n",
       "    <tr>\n",
       "      <th>Ball Control</th>\n",
       "      <td>96.0</td>\n",
       "      <td>88.0</td>\n",
       "      <td>91.0</td>\n",
       "      <td>30.0</td>\n",
       "      <td>90.0</td>\n",
       "    </tr>\n",
       "    <tr>\n",
       "      <th>Dribbling</th>\n",
       "      <td>96.0</td>\n",
       "      <td>85.0</td>\n",
       "      <td>93.0</td>\n",
       "      <td>12.0</td>\n",
       "      <td>88.0</td>\n",
       "    </tr>\n",
       "    <tr>\n",
       "      <th>Marking</th>\n",
       "      <td>20.0</td>\n",
       "      <td>35.0</td>\n",
       "      <td>26.0</td>\n",
       "      <td>27.0</td>\n",
       "      <td>68.0</td>\n",
       "    </tr>\n",
       "    <tr>\n",
       "      <th>Slide Tackle</th>\n",
       "      <td>24.0</td>\n",
       "      <td>19.0</td>\n",
       "      <td>32.0</td>\n",
       "      <td>18.0</td>\n",
       "      <td>53.0</td>\n",
       "    </tr>\n",
       "    <tr>\n",
       "      <th>Stand Tackle</th>\n",
       "      <td>35.0</td>\n",
       "      <td>42.0</td>\n",
       "      <td>34.0</td>\n",
       "      <td>12.0</td>\n",
       "      <td>65.0</td>\n",
       "    </tr>\n",
       "    <tr>\n",
       "      <th>Aggression</th>\n",
       "      <td>44.0</td>\n",
       "      <td>81.0</td>\n",
       "      <td>62.0</td>\n",
       "      <td>34.0</td>\n",
       "      <td>75.0</td>\n",
       "    </tr>\n",
       "    <tr>\n",
       "      <th>Reactions</th>\n",
       "      <td>94.0</td>\n",
       "      <td>93.0</td>\n",
       "      <td>93.0</td>\n",
       "      <td>88.0</td>\n",
       "      <td>91.0</td>\n",
       "    </tr>\n",
       "    <tr>\n",
       "      <th>Att. Position</th>\n",
       "      <td>93.0</td>\n",
       "      <td>95.0</td>\n",
       "      <td>92.0</td>\n",
       "      <td>11.0</td>\n",
       "      <td>88.0</td>\n",
       "    </tr>\n",
       "    <tr>\n",
       "      <th>Interceptions</th>\n",
       "      <td>40.0</td>\n",
       "      <td>49.0</td>\n",
       "      <td>38.0</td>\n",
       "      <td>19.0</td>\n",
       "      <td>66.0</td>\n",
       "    </tr>\n",
       "    <tr>\n",
       "      <th>Vision</th>\n",
       "      <td>95.0</td>\n",
       "      <td>81.0</td>\n",
       "      <td>82.0</td>\n",
       "      <td>65.0</td>\n",
       "      <td>94.0</td>\n",
       "    </tr>\n",
       "    <tr>\n",
       "      <th>Composure</th>\n",
       "      <td>96.0</td>\n",
       "      <td>88.0</td>\n",
       "      <td>88.0</td>\n",
       "      <td>68.0</td>\n",
       "      <td>89.0</td>\n",
       "    </tr>\n",
       "    <tr>\n",
       "      <th>Crossing</th>\n",
       "      <td>85.0</td>\n",
       "      <td>71.0</td>\n",
       "      <td>78.0</td>\n",
       "      <td>13.0</td>\n",
       "      <td>94.0</td>\n",
       "    </tr>\n",
       "    <tr>\n",
       "      <th>Short Pass</th>\n",
       "      <td>91.0</td>\n",
       "      <td>85.0</td>\n",
       "      <td>85.0</td>\n",
       "      <td>43.0</td>\n",
       "      <td>93.0</td>\n",
       "    </tr>\n",
       "    <tr>\n",
       "      <th>Long Pass</th>\n",
       "      <td>91.0</td>\n",
       "      <td>70.0</td>\n",
       "      <td>71.0</td>\n",
       "      <td>40.0</td>\n",
       "      <td>93.0</td>\n",
       "    </tr>\n",
       "    <tr>\n",
       "      <th>Acceleration</th>\n",
       "      <td>91.0</td>\n",
       "      <td>77.0</td>\n",
       "      <td>97.0</td>\n",
       "      <td>43.0</td>\n",
       "      <td>76.0</td>\n",
       "    </tr>\n",
       "    <tr>\n",
       "      <th>Stamina</th>\n",
       "      <td>72.0</td>\n",
       "      <td>76.0</td>\n",
       "      <td>88.0</td>\n",
       "      <td>41.0</td>\n",
       "      <td>88.0</td>\n",
       "    </tr>\n",
       "    <tr>\n",
       "      <th>Strength</th>\n",
       "      <td>69.0</td>\n",
       "      <td>86.0</td>\n",
       "      <td>77.0</td>\n",
       "      <td>78.0</td>\n",
       "      <td>74.0</td>\n",
       "    </tr>\n",
       "    <tr>\n",
       "      <th>Balance</th>\n",
       "      <td>95.0</td>\n",
       "      <td>82.0</td>\n",
       "      <td>83.0</td>\n",
       "      <td>49.0</td>\n",
       "      <td>78.0</td>\n",
       "    </tr>\n",
       "    <tr>\n",
       "      <th>Sprint Speed</th>\n",
       "      <td>80.0</td>\n",
       "      <td>79.0</td>\n",
       "      <td>97.0</td>\n",
       "      <td>60.0</td>\n",
       "      <td>76.0</td>\n",
       "    </tr>\n",
       "    <tr>\n",
       "      <th>Agility</th>\n",
       "      <td>91.0</td>\n",
       "      <td>77.0</td>\n",
       "      <td>92.0</td>\n",
       "      <td>67.0</td>\n",
       "      <td>79.0</td>\n",
       "    </tr>\n",
       "    <tr>\n",
       "      <th>Jumping</th>\n",
       "      <td>68.0</td>\n",
       "      <td>85.0</td>\n",
       "      <td>78.0</td>\n",
       "      <td>78.0</td>\n",
       "      <td>63.0</td>\n",
       "    </tr>\n",
       "    <tr>\n",
       "      <th>Heading</th>\n",
       "      <td>70.0</td>\n",
       "      <td>90.0</td>\n",
       "      <td>72.0</td>\n",
       "      <td>15.0</td>\n",
       "      <td>55.0</td>\n",
       "    </tr>\n",
       "    <tr>\n",
       "      <th>Shot Power</th>\n",
       "      <td>86.0</td>\n",
       "      <td>90.0</td>\n",
       "      <td>86.0</td>\n",
       "      <td>59.0</td>\n",
       "      <td>91.0</td>\n",
       "    </tr>\n",
       "    <tr>\n",
       "      <th>Finishing</th>\n",
       "      <td>95.0</td>\n",
       "      <td>95.0</td>\n",
       "      <td>93.0</td>\n",
       "      <td>11.0</td>\n",
       "      <td>81.0</td>\n",
       "    </tr>\n",
       "    <tr>\n",
       "      <th>Long Shots</th>\n",
       "      <td>94.0</td>\n",
       "      <td>87.0</td>\n",
       "      <td>82.0</td>\n",
       "      <td>12.0</td>\n",
       "      <td>91.0</td>\n",
       "    </tr>\n",
       "    <tr>\n",
       "      <th>Curve</th>\n",
       "      <td>93.0</td>\n",
       "      <td>79.0</td>\n",
       "      <td>80.0</td>\n",
       "      <td>13.0</td>\n",
       "      <td>85.0</td>\n",
       "    </tr>\n",
       "    <tr>\n",
       "      <th>FK Acc.</th>\n",
       "      <td>94.0</td>\n",
       "      <td>85.0</td>\n",
       "      <td>69.0</td>\n",
       "      <td>14.0</td>\n",
       "      <td>83.0</td>\n",
       "    </tr>\n",
       "    <tr>\n",
       "      <th>Penalties</th>\n",
       "      <td>75.0</td>\n",
       "      <td>89.0</td>\n",
       "      <td>79.0</td>\n",
       "      <td>11.0</td>\n",
       "      <td>83.0</td>\n",
       "    </tr>\n",
       "    <tr>\n",
       "      <th>Volleys</th>\n",
       "      <td>88.0</td>\n",
       "      <td>89.0</td>\n",
       "      <td>83.0</td>\n",
       "      <td>13.0</td>\n",
       "      <td>82.0</td>\n",
       "    </tr>\n",
       "    <tr>\n",
       "      <th>GK Positioning</th>\n",
       "      <td>14.0</td>\n",
       "      <td>8.0</td>\n",
       "      <td>11.0</td>\n",
       "      <td>90.0</td>\n",
       "      <td>10.0</td>\n",
       "    </tr>\n",
       "    <tr>\n",
       "      <th>GK Diving</th>\n",
       "      <td>6.0</td>\n",
       "      <td>15.0</td>\n",
       "      <td>13.0</td>\n",
       "      <td>87.0</td>\n",
       "      <td>15.0</td>\n",
       "    </tr>\n",
       "    <tr>\n",
       "      <th>GK Handling</th>\n",
       "      <td>11.0</td>\n",
       "      <td>6.0</td>\n",
       "      <td>5.0</td>\n",
       "      <td>92.0</td>\n",
       "      <td>13.0</td>\n",
       "    </tr>\n",
       "    <tr>\n",
       "      <th>GK Kicking</th>\n",
       "      <td>15.0</td>\n",
       "      <td>12.0</td>\n",
       "      <td>7.0</td>\n",
       "      <td>78.0</td>\n",
       "      <td>5.0</td>\n",
       "    </tr>\n",
       "    <tr>\n",
       "      <th>GK Reflexes</th>\n",
       "      <td>8.0</td>\n",
       "      <td>10.0</td>\n",
       "      <td>6.0</td>\n",
       "      <td>90.0</td>\n",
       "      <td>13.0</td>\n",
       "    </tr>\n",
       "  </tbody>\n",
       "</table>\n",
       "</div>"
      ],
      "text/plain": [
       "                          0            1            2            3  \\\n",
       "Overall Score          93.0         92.0         91.0         91.0   \n",
       "Potential Score        93.0         92.0         95.0         93.0   \n",
       "Market Value     92000000.0  141500000.0  229000000.0  132500000.0   \n",
       "Ball Control           96.0         88.0         91.0         30.0   \n",
       "Dribbling              96.0         85.0         93.0         12.0   \n",
       "Marking                20.0         35.0         26.0         27.0   \n",
       "Slide Tackle           24.0         19.0         32.0         18.0   \n",
       "Stand Tackle           35.0         42.0         34.0         12.0   \n",
       "Aggression             44.0         81.0         62.0         34.0   \n",
       "Reactions              94.0         93.0         93.0         88.0   \n",
       "Att. Position          93.0         95.0         92.0         11.0   \n",
       "Interceptions          40.0         49.0         38.0         19.0   \n",
       "Vision                 95.0         81.0         82.0         65.0   \n",
       "Composure              96.0         88.0         88.0         68.0   \n",
       "Crossing               85.0         71.0         78.0         13.0   \n",
       "Short Pass             91.0         85.0         85.0         43.0   \n",
       "Long Pass              91.0         70.0         71.0         40.0   \n",
       "Acceleration           91.0         77.0         97.0         43.0   \n",
       "Stamina                72.0         76.0         88.0         41.0   \n",
       "Strength               69.0         86.0         77.0         78.0   \n",
       "Balance                95.0         82.0         83.0         49.0   \n",
       "Sprint Speed           80.0         79.0         97.0         60.0   \n",
       "Agility                91.0         77.0         92.0         67.0   \n",
       "Jumping                68.0         85.0         78.0         78.0   \n",
       "Heading                70.0         90.0         72.0         15.0   \n",
       "Shot Power             86.0         90.0         86.0         59.0   \n",
       "Finishing              95.0         95.0         93.0         11.0   \n",
       "Long Shots             94.0         87.0         82.0         12.0   \n",
       "Curve                  93.0         79.0         80.0         13.0   \n",
       "FK Acc.                94.0         85.0         69.0         14.0   \n",
       "Penalties              75.0         89.0         79.0         11.0   \n",
       "Volleys                88.0         89.0         83.0         13.0   \n",
       "GK Positioning         14.0          8.0         11.0         90.0   \n",
       "GK Diving               6.0         15.0         13.0         87.0   \n",
       "GK Handling            11.0          6.0          5.0         92.0   \n",
       "GK Kicking             15.0         12.0          7.0         78.0   \n",
       "GK Reflexes             8.0         10.0          6.0         90.0   \n",
       "\n",
       "                           4  \n",
       "Overall Score           91.0  \n",
       "Potential Score         91.0  \n",
       "Market Value     148000000.0  \n",
       "Ball Control            90.0  \n",
       "Dribbling               88.0  \n",
       "Marking                 68.0  \n",
       "Slide Tackle            53.0  \n",
       "Stand Tackle            65.0  \n",
       "Aggression              75.0  \n",
       "Reactions               91.0  \n",
       "Att. Position           88.0  \n",
       "Interceptions           66.0  \n",
       "Vision                  94.0  \n",
       "Composure               89.0  \n",
       "Crossing                94.0  \n",
       "Short Pass              93.0  \n",
       "Long Pass               93.0  \n",
       "Acceleration            76.0  \n",
       "Stamina                 88.0  \n",
       "Strength                74.0  \n",
       "Balance                 78.0  \n",
       "Sprint Speed            76.0  \n",
       "Agility                 79.0  \n",
       "Jumping                 63.0  \n",
       "Heading                 55.0  \n",
       "Shot Power              91.0  \n",
       "Finishing               81.0  \n",
       "Long Shots              91.0  \n",
       "Curve                   85.0  \n",
       "FK Acc.                 83.0  \n",
       "Penalties               83.0  \n",
       "Volleys                 82.0  \n",
       "GK Positioning          10.0  \n",
       "GK Diving               15.0  \n",
       "GK Handling             13.0  \n",
       "GK Kicking               5.0  \n",
       "GK Reflexes             13.0  "
      ]
     },
     "execution_count": 12,
     "metadata": {},
     "output_type": "execute_result"
    }
   ],
   "source": [
    "df_stat.head().T"
   ]
  },
  {
   "cell_type": "markdown",
   "id": "adult-textbook",
   "metadata": {},
   "source": [
    "### Encode Categorical Features"
   ]
  },
  {
   "cell_type": "code",
   "execution_count": 13,
   "id": "younger-dylan",
   "metadata": {
    "ExecuteTime": {
     "end_time": "2021-12-14T00:00:04.925838Z",
     "start_time": "2021-12-14T00:00:04.921782Z"
    }
   },
   "outputs": [],
   "source": [
    "df_info['Preferred Foot'] = df_info['Preferred Foot'].apply(lambda x: 0 if x=='Left' else 1)"
   ]
  },
  {
   "cell_type": "markdown",
   "id": "smaller-income",
   "metadata": {},
   "source": [
    "### Impute Missing Values"
   ]
  },
  {
   "cell_type": "code",
   "execution_count": 14,
   "id": "specified-limit",
   "metadata": {
    "ExecuteTime": {
     "end_time": "2021-12-14T00:00:04.932855Z",
     "start_time": "2021-12-14T00:00:04.927511Z"
    },
    "scrolled": true
   },
   "outputs": [
    {
     "data": {
      "text/plain": [
       "Market Value      0\n",
       "Salary            0\n",
       "Height            0\n",
       "Weight            0\n",
       "Age               0\n",
       "Preferred Foot    0\n",
       "dtype: int64"
      ]
     },
     "execution_count": 14,
     "metadata": {},
     "output_type": "execute_result"
    }
   ],
   "source": [
    "df_info.isnull().sum()"
   ]
  },
  {
   "cell_type": "code",
   "execution_count": 15,
   "id": "chemical-milan",
   "metadata": {
    "ExecuteTime": {
     "end_time": "2021-12-14T00:00:04.939637Z",
     "start_time": "2021-12-14T00:00:04.934165Z"
    },
    "scrolled": true
   },
   "outputs": [
    {
     "data": {
      "text/plain": [
       "Overall Score       0\n",
       "Potential Score     0\n",
       "Market Value        0\n",
       "Ball Control        4\n",
       "Dribbling           4\n",
       "Marking             7\n",
       "Slide Tackle        8\n",
       "Stand Tackle        8\n",
       "Aggression          9\n",
       "Reactions           7\n",
       "Att. Position       3\n",
       "Interceptions       9\n",
       "Vision              4\n",
       "Composure           4\n",
       "Crossing            3\n",
       "Short Pass          6\n",
       "Long Pass           3\n",
       "Acceleration       12\n",
       "Stamina            12\n",
       "Strength           14\n",
       "Balance             5\n",
       "Sprint Speed       15\n",
       "Agility             7\n",
       "Jumping             2\n",
       "Heading             5\n",
       "Shot Power          4\n",
       "Finishing           6\n",
       "Long Shots          5\n",
       "Curve               3\n",
       "FK Acc.             8\n",
       "Penalties           1\n",
       "Volleys             1\n",
       "GK Positioning      0\n",
       "GK Diving           1\n",
       "GK Handling         0\n",
       "GK Kicking          0\n",
       "GK Reflexes         0\n",
       "dtype: int64"
      ]
     },
     "execution_count": 15,
     "metadata": {},
     "output_type": "execute_result"
    }
   ],
   "source": [
    "df_stat.isnull().sum()"
   ]
  },
  {
   "cell_type": "code",
   "execution_count": 16,
   "id": "dependent-roommate",
   "metadata": {
    "ExecuteTime": {
     "end_time": "2021-12-14T00:00:04.991708Z",
     "start_time": "2021-12-14T00:00:04.941245Z"
    }
   },
   "outputs": [
    {
     "data": {
      "text/html": [
       "<div>\n",
       "<style scoped>\n",
       "    .dataframe tbody tr th:only-of-type {\n",
       "        vertical-align: middle;\n",
       "    }\n",
       "\n",
       "    .dataframe tbody tr th {\n",
       "        vertical-align: top;\n",
       "    }\n",
       "\n",
       "    .dataframe thead th {\n",
       "        text-align: right;\n",
       "    }\n",
       "</style>\n",
       "<table border=\"1\" class=\"dataframe\">\n",
       "  <thead>\n",
       "    <tr style=\"text-align: right;\">\n",
       "      <th></th>\n",
       "      <th>Overall Score</th>\n",
       "      <th>Potential Score</th>\n",
       "      <th>Market Value</th>\n",
       "      <th>Ball Control</th>\n",
       "      <th>Dribbling</th>\n",
       "      <th>Marking</th>\n",
       "      <th>Slide Tackle</th>\n",
       "      <th>Stand Tackle</th>\n",
       "      <th>Aggression</th>\n",
       "      <th>Reactions</th>\n",
       "      <th>...</th>\n",
       "      <th>Long Shots</th>\n",
       "      <th>Curve</th>\n",
       "      <th>FK Acc.</th>\n",
       "      <th>Penalties</th>\n",
       "      <th>Volleys</th>\n",
       "      <th>GK Positioning</th>\n",
       "      <th>GK Diving</th>\n",
       "      <th>GK Handling</th>\n",
       "      <th>GK Kicking</th>\n",
       "      <th>GK Reflexes</th>\n",
       "    </tr>\n",
       "  </thead>\n",
       "  <tbody>\n",
       "    <tr>\n",
       "      <th>0</th>\n",
       "      <td>93.0</td>\n",
       "      <td>93.0</td>\n",
       "      <td>92000000.0</td>\n",
       "      <td>96.0</td>\n",
       "      <td>96.0</td>\n",
       "      <td>20.0</td>\n",
       "      <td>24.0</td>\n",
       "      <td>35.0</td>\n",
       "      <td>44.0</td>\n",
       "      <td>94.0</td>\n",
       "      <td>...</td>\n",
       "      <td>94.0</td>\n",
       "      <td>93.0</td>\n",
       "      <td>94.0</td>\n",
       "      <td>75.0</td>\n",
       "      <td>88.0</td>\n",
       "      <td>14.0</td>\n",
       "      <td>6.0</td>\n",
       "      <td>11.0</td>\n",
       "      <td>15.0</td>\n",
       "      <td>8.0</td>\n",
       "    </tr>\n",
       "    <tr>\n",
       "      <th>1</th>\n",
       "      <td>92.0</td>\n",
       "      <td>92.0</td>\n",
       "      <td>141500000.0</td>\n",
       "      <td>88.0</td>\n",
       "      <td>85.0</td>\n",
       "      <td>35.0</td>\n",
       "      <td>19.0</td>\n",
       "      <td>42.0</td>\n",
       "      <td>81.0</td>\n",
       "      <td>93.0</td>\n",
       "      <td>...</td>\n",
       "      <td>87.0</td>\n",
       "      <td>79.0</td>\n",
       "      <td>85.0</td>\n",
       "      <td>89.0</td>\n",
       "      <td>89.0</td>\n",
       "      <td>8.0</td>\n",
       "      <td>15.0</td>\n",
       "      <td>6.0</td>\n",
       "      <td>12.0</td>\n",
       "      <td>10.0</td>\n",
       "    </tr>\n",
       "    <tr>\n",
       "      <th>2</th>\n",
       "      <td>91.0</td>\n",
       "      <td>95.0</td>\n",
       "      <td>229000000.0</td>\n",
       "      <td>91.0</td>\n",
       "      <td>93.0</td>\n",
       "      <td>26.0</td>\n",
       "      <td>32.0</td>\n",
       "      <td>34.0</td>\n",
       "      <td>62.0</td>\n",
       "      <td>93.0</td>\n",
       "      <td>...</td>\n",
       "      <td>82.0</td>\n",
       "      <td>80.0</td>\n",
       "      <td>69.0</td>\n",
       "      <td>79.0</td>\n",
       "      <td>83.0</td>\n",
       "      <td>11.0</td>\n",
       "      <td>13.0</td>\n",
       "      <td>5.0</td>\n",
       "      <td>7.0</td>\n",
       "      <td>6.0</td>\n",
       "    </tr>\n",
       "    <tr>\n",
       "      <th>3</th>\n",
       "      <td>91.0</td>\n",
       "      <td>93.0</td>\n",
       "      <td>132500000.0</td>\n",
       "      <td>30.0</td>\n",
       "      <td>12.0</td>\n",
       "      <td>27.0</td>\n",
       "      <td>18.0</td>\n",
       "      <td>12.0</td>\n",
       "      <td>34.0</td>\n",
       "      <td>88.0</td>\n",
       "      <td>...</td>\n",
       "      <td>12.0</td>\n",
       "      <td>13.0</td>\n",
       "      <td>14.0</td>\n",
       "      <td>11.0</td>\n",
       "      <td>13.0</td>\n",
       "      <td>90.0</td>\n",
       "      <td>87.0</td>\n",
       "      <td>92.0</td>\n",
       "      <td>78.0</td>\n",
       "      <td>90.0</td>\n",
       "    </tr>\n",
       "    <tr>\n",
       "      <th>4</th>\n",
       "      <td>91.0</td>\n",
       "      <td>91.0</td>\n",
       "      <td>148000000.0</td>\n",
       "      <td>90.0</td>\n",
       "      <td>88.0</td>\n",
       "      <td>68.0</td>\n",
       "      <td>53.0</td>\n",
       "      <td>65.0</td>\n",
       "      <td>75.0</td>\n",
       "      <td>91.0</td>\n",
       "      <td>...</td>\n",
       "      <td>91.0</td>\n",
       "      <td>85.0</td>\n",
       "      <td>83.0</td>\n",
       "      <td>83.0</td>\n",
       "      <td>82.0</td>\n",
       "      <td>10.0</td>\n",
       "      <td>15.0</td>\n",
       "      <td>13.0</td>\n",
       "      <td>5.0</td>\n",
       "      <td>13.0</td>\n",
       "    </tr>\n",
       "    <tr>\n",
       "      <th>...</th>\n",
       "      <td>...</td>\n",
       "      <td>...</td>\n",
       "      <td>...</td>\n",
       "      <td>...</td>\n",
       "      <td>...</td>\n",
       "      <td>...</td>\n",
       "      <td>...</td>\n",
       "      <td>...</td>\n",
       "      <td>...</td>\n",
       "      <td>...</td>\n",
       "      <td>...</td>\n",
       "      <td>...</td>\n",
       "      <td>...</td>\n",
       "      <td>...</td>\n",
       "      <td>...</td>\n",
       "      <td>...</td>\n",
       "      <td>...</td>\n",
       "      <td>...</td>\n",
       "      <td>...</td>\n",
       "      <td>...</td>\n",
       "      <td>...</td>\n",
       "    </tr>\n",
       "    <tr>\n",
       "      <th>2995</th>\n",
       "      <td>73.0</td>\n",
       "      <td>73.0</td>\n",
       "      <td>1200000.0</td>\n",
       "      <td>79.0</td>\n",
       "      <td>75.0</td>\n",
       "      <td>44.0</td>\n",
       "      <td>25.0</td>\n",
       "      <td>29.0</td>\n",
       "      <td>73.0</td>\n",
       "      <td>70.0</td>\n",
       "      <td>...</td>\n",
       "      <td>74.0</td>\n",
       "      <td>80.0</td>\n",
       "      <td>75.0</td>\n",
       "      <td>80.0</td>\n",
       "      <td>66.0</td>\n",
       "      <td>15.0</td>\n",
       "      <td>6.0</td>\n",
       "      <td>11.0</td>\n",
       "      <td>12.0</td>\n",
       "      <td>6.0</td>\n",
       "    </tr>\n",
       "    <tr>\n",
       "      <th>2996</th>\n",
       "      <td>73.0</td>\n",
       "      <td>73.0</td>\n",
       "      <td>1200000.0</td>\n",
       "      <td>82.0</td>\n",
       "      <td>82.0</td>\n",
       "      <td>23.0</td>\n",
       "      <td>35.0</td>\n",
       "      <td>40.0</td>\n",
       "      <td>52.0</td>\n",
       "      <td>70.0</td>\n",
       "      <td>...</td>\n",
       "      <td>76.0</td>\n",
       "      <td>80.0</td>\n",
       "      <td>74.0</td>\n",
       "      <td>73.0</td>\n",
       "      <td>78.0</td>\n",
       "      <td>6.0</td>\n",
       "      <td>10.0</td>\n",
       "      <td>14.0</td>\n",
       "      <td>10.0</td>\n",
       "      <td>15.0</td>\n",
       "    </tr>\n",
       "    <tr>\n",
       "      <th>2997</th>\n",
       "      <td>73.0</td>\n",
       "      <td>73.0</td>\n",
       "      <td>1400000.0</td>\n",
       "      <td>74.0</td>\n",
       "      <td>71.0</td>\n",
       "      <td>50.0</td>\n",
       "      <td>50.0</td>\n",
       "      <td>54.0</td>\n",
       "      <td>58.0</td>\n",
       "      <td>71.0</td>\n",
       "      <td>...</td>\n",
       "      <td>76.0</td>\n",
       "      <td>81.0</td>\n",
       "      <td>75.0</td>\n",
       "      <td>80.0</td>\n",
       "      <td>69.0</td>\n",
       "      <td>12.0</td>\n",
       "      <td>14.0</td>\n",
       "      <td>9.0</td>\n",
       "      <td>12.0</td>\n",
       "      <td>9.0</td>\n",
       "    </tr>\n",
       "    <tr>\n",
       "      <th>2998</th>\n",
       "      <td>73.0</td>\n",
       "      <td>73.0</td>\n",
       "      <td>1200000.0</td>\n",
       "      <td>76.0</td>\n",
       "      <td>75.0</td>\n",
       "      <td>57.0</td>\n",
       "      <td>26.0</td>\n",
       "      <td>30.0</td>\n",
       "      <td>73.0</td>\n",
       "      <td>72.0</td>\n",
       "      <td>...</td>\n",
       "      <td>75.0</td>\n",
       "      <td>76.0</td>\n",
       "      <td>71.0</td>\n",
       "      <td>77.0</td>\n",
       "      <td>71.0</td>\n",
       "      <td>9.0</td>\n",
       "      <td>15.0</td>\n",
       "      <td>11.0</td>\n",
       "      <td>15.0</td>\n",
       "      <td>9.0</td>\n",
       "    </tr>\n",
       "    <tr>\n",
       "      <th>2999</th>\n",
       "      <td>72.0</td>\n",
       "      <td>72.0</td>\n",
       "      <td>2700000.0</td>\n",
       "      <td>75.0</td>\n",
       "      <td>75.0</td>\n",
       "      <td>33.0</td>\n",
       "      <td>28.0</td>\n",
       "      <td>27.0</td>\n",
       "      <td>53.0</td>\n",
       "      <td>65.0</td>\n",
       "      <td>...</td>\n",
       "      <td>72.0</td>\n",
       "      <td>68.0</td>\n",
       "      <td>74.0</td>\n",
       "      <td>64.0</td>\n",
       "      <td>63.0</td>\n",
       "      <td>10.0</td>\n",
       "      <td>8.0</td>\n",
       "      <td>13.0</td>\n",
       "      <td>12.0</td>\n",
       "      <td>10.0</td>\n",
       "    </tr>\n",
       "  </tbody>\n",
       "</table>\n",
       "<p>2933 rows × 37 columns</p>\n",
       "</div>"
      ],
      "text/plain": [
       "      Overall Score  Potential Score  Market Value  Ball Control  Dribbling  \\\n",
       "0              93.0             93.0    92000000.0          96.0       96.0   \n",
       "1              92.0             92.0   141500000.0          88.0       85.0   \n",
       "2              91.0             95.0   229000000.0          91.0       93.0   \n",
       "3              91.0             93.0   132500000.0          30.0       12.0   \n",
       "4              91.0             91.0   148000000.0          90.0       88.0   \n",
       "...             ...              ...           ...           ...        ...   \n",
       "2995           73.0             73.0     1200000.0          79.0       75.0   \n",
       "2996           73.0             73.0     1200000.0          82.0       82.0   \n",
       "2997           73.0             73.0     1400000.0          74.0       71.0   \n",
       "2998           73.0             73.0     1200000.0          76.0       75.0   \n",
       "2999           72.0             72.0     2700000.0          75.0       75.0   \n",
       "\n",
       "      Marking  Slide Tackle  Stand Tackle  Aggression  Reactions  ...  \\\n",
       "0        20.0          24.0          35.0        44.0       94.0  ...   \n",
       "1        35.0          19.0          42.0        81.0       93.0  ...   \n",
       "2        26.0          32.0          34.0        62.0       93.0  ...   \n",
       "3        27.0          18.0          12.0        34.0       88.0  ...   \n",
       "4        68.0          53.0          65.0        75.0       91.0  ...   \n",
       "...       ...           ...           ...         ...        ...  ...   \n",
       "2995     44.0          25.0          29.0        73.0       70.0  ...   \n",
       "2996     23.0          35.0          40.0        52.0       70.0  ...   \n",
       "2997     50.0          50.0          54.0        58.0       71.0  ...   \n",
       "2998     57.0          26.0          30.0        73.0       72.0  ...   \n",
       "2999     33.0          28.0          27.0        53.0       65.0  ...   \n",
       "\n",
       "      Long Shots  Curve  FK Acc.  Penalties  Volleys  GK Positioning  \\\n",
       "0           94.0   93.0     94.0       75.0     88.0            14.0   \n",
       "1           87.0   79.0     85.0       89.0     89.0             8.0   \n",
       "2           82.0   80.0     69.0       79.0     83.0            11.0   \n",
       "3           12.0   13.0     14.0       11.0     13.0            90.0   \n",
       "4           91.0   85.0     83.0       83.0     82.0            10.0   \n",
       "...          ...    ...      ...        ...      ...             ...   \n",
       "2995        74.0   80.0     75.0       80.0     66.0            15.0   \n",
       "2996        76.0   80.0     74.0       73.0     78.0             6.0   \n",
       "2997        76.0   81.0     75.0       80.0     69.0            12.0   \n",
       "2998        75.0   76.0     71.0       77.0     71.0             9.0   \n",
       "2999        72.0   68.0     74.0       64.0     63.0            10.0   \n",
       "\n",
       "      GK Diving  GK Handling  GK Kicking  GK Reflexes  \n",
       "0           6.0         11.0        15.0          8.0  \n",
       "1          15.0          6.0        12.0         10.0  \n",
       "2          13.0          5.0         7.0          6.0  \n",
       "3          87.0         92.0        78.0         90.0  \n",
       "4          15.0         13.0         5.0         13.0  \n",
       "...         ...          ...         ...          ...  \n",
       "2995        6.0         11.0        12.0          6.0  \n",
       "2996       10.0         14.0        10.0         15.0  \n",
       "2997       14.0          9.0        12.0          9.0  \n",
       "2998       15.0         11.0        15.0          9.0  \n",
       "2999        8.0         13.0        12.0         10.0  \n",
       "\n",
       "[2933 rows x 37 columns]"
      ]
     },
     "execution_count": 16,
     "metadata": {},
     "output_type": "execute_result"
    }
   ],
   "source": [
    "imputer = SimpleImputer(strategy='median')\n",
    "df_stat_index = df_stat.index\n",
    "df_stat_columns = df_stat.columns\n",
    "df_stat = pd.DataFrame(imputer.fit_transform(df_stat), index=df_stat_index, columns=df_stat_columns)\n",
    "df_stat"
   ]
  },
  {
   "cell_type": "code",
   "execution_count": 17,
   "id": "integral-particular",
   "metadata": {
    "ExecuteTime": {
     "end_time": "2021-12-14T00:00:04.998496Z",
     "start_time": "2021-12-14T00:00:04.994048Z"
    },
    "scrolled": true
   },
   "outputs": [
    {
     "data": {
      "text/plain": [
       "0"
      ]
     },
     "execution_count": 17,
     "metadata": {},
     "output_type": "execute_result"
    }
   ],
   "source": [
    "df_stat.isnull().sum().sum()"
   ]
  },
  {
   "cell_type": "markdown",
   "id": "public-heart",
   "metadata": {},
   "source": [
    "### Create Custom Features"
   ]
  },
  {
   "cell_type": "code",
   "execution_count": 18,
   "id": "dirty-director",
   "metadata": {
    "ExecuteTime": {
     "end_time": "2021-12-14T00:00:05.016577Z",
     "start_time": "2021-12-14T00:00:05.000578Z"
    }
   },
   "outputs": [],
   "source": [
    "df_stat['Pace'] = (df_stat['Acceleration'] + df_stat['Sprint Speed'])/2\n",
    "df_stat['Shooting'] = round((df_stat['Att. Position'] + df_stat['Finishing'] + df_stat['Shot Power'] + \n",
    "                       df_stat['Long Shots'] + df_stat['Volleys'] + df_stat['Penalties'])/6, 1)\n",
    "df_stat['Passing'] = round((df_stat['Vision'] + df_stat['Crossing'] + df_stat['FK Acc.'] + \n",
    "                       df_stat['Short Pass'] + df_stat['Long Pass'] + df_stat['Curve'])/6, 1)\n",
    "df_stat['Dribbling_Ovr'] = round((df_stat['Agility'] + df_stat['Balance'] + df_stat['Reactions'] + \n",
    "                       df_stat['Ball Control'] + df_stat['Dribbling'] + df_stat['Composure'])/6, 1)\n",
    "df_stat['Defending'] = round((df_stat['Interceptions'] + df_stat['Heading']  + \n",
    "                       df_stat['Stand Tackle'] + df_stat['Slide Tackle'])/4, 1)\n",
    "df_stat['Physical'] = round((df_stat['Jumping'] + df_stat['Stamina'] + df_stat['Strength'] + \n",
    "                       df_stat['Aggression'])/4, 1)"
   ]
  },
  {
   "cell_type": "code",
   "execution_count": 19,
   "id": "bronze-seminar",
   "metadata": {
    "ExecuteTime": {
     "end_time": "2021-12-14T00:00:05.052158Z",
     "start_time": "2021-12-14T00:00:05.020345Z"
    }
   },
   "outputs": [
    {
     "data": {
      "text/html": [
       "<div>\n",
       "<style scoped>\n",
       "    .dataframe tbody tr th:only-of-type {\n",
       "        vertical-align: middle;\n",
       "    }\n",
       "\n",
       "    .dataframe tbody tr th {\n",
       "        vertical-align: top;\n",
       "    }\n",
       "\n",
       "    .dataframe thead th {\n",
       "        text-align: right;\n",
       "    }\n",
       "</style>\n",
       "<table border=\"1\" class=\"dataframe\">\n",
       "  <thead>\n",
       "    <tr style=\"text-align: right;\">\n",
       "      <th></th>\n",
       "      <th>Overall Score</th>\n",
       "      <th>Potential Score</th>\n",
       "      <th>Market Value</th>\n",
       "      <th>Ball Control</th>\n",
       "      <th>Dribbling</th>\n",
       "      <th>Marking</th>\n",
       "      <th>Slide Tackle</th>\n",
       "      <th>Stand Tackle</th>\n",
       "      <th>Aggression</th>\n",
       "      <th>Reactions</th>\n",
       "      <th>...</th>\n",
       "      <th>GK Diving</th>\n",
       "      <th>GK Handling</th>\n",
       "      <th>GK Kicking</th>\n",
       "      <th>GK Reflexes</th>\n",
       "      <th>Pace</th>\n",
       "      <th>Shooting</th>\n",
       "      <th>Passing</th>\n",
       "      <th>Dribbling_Ovr</th>\n",
       "      <th>Defending</th>\n",
       "      <th>Physical</th>\n",
       "    </tr>\n",
       "  </thead>\n",
       "  <tbody>\n",
       "    <tr>\n",
       "      <th>0</th>\n",
       "      <td>93.0</td>\n",
       "      <td>93.0</td>\n",
       "      <td>92000000.0</td>\n",
       "      <td>96.0</td>\n",
       "      <td>96.0</td>\n",
       "      <td>20.0</td>\n",
       "      <td>24.0</td>\n",
       "      <td>35.0</td>\n",
       "      <td>44.0</td>\n",
       "      <td>94.0</td>\n",
       "      <td>...</td>\n",
       "      <td>6.0</td>\n",
       "      <td>11.0</td>\n",
       "      <td>15.0</td>\n",
       "      <td>8.0</td>\n",
       "      <td>85.5</td>\n",
       "      <td>88.5</td>\n",
       "      <td>91.5</td>\n",
       "      <td>94.7</td>\n",
       "      <td>42.2</td>\n",
       "      <td>63.2</td>\n",
       "    </tr>\n",
       "    <tr>\n",
       "      <th>1</th>\n",
       "      <td>92.0</td>\n",
       "      <td>92.0</td>\n",
       "      <td>141500000.0</td>\n",
       "      <td>88.0</td>\n",
       "      <td>85.0</td>\n",
       "      <td>35.0</td>\n",
       "      <td>19.0</td>\n",
       "      <td>42.0</td>\n",
       "      <td>81.0</td>\n",
       "      <td>93.0</td>\n",
       "      <td>...</td>\n",
       "      <td>15.0</td>\n",
       "      <td>6.0</td>\n",
       "      <td>12.0</td>\n",
       "      <td>10.0</td>\n",
       "      <td>78.0</td>\n",
       "      <td>90.8</td>\n",
       "      <td>78.5</td>\n",
       "      <td>85.5</td>\n",
       "      <td>50.0</td>\n",
       "      <td>82.0</td>\n",
       "    </tr>\n",
       "    <tr>\n",
       "      <th>2</th>\n",
       "      <td>91.0</td>\n",
       "      <td>95.0</td>\n",
       "      <td>229000000.0</td>\n",
       "      <td>91.0</td>\n",
       "      <td>93.0</td>\n",
       "      <td>26.0</td>\n",
       "      <td>32.0</td>\n",
       "      <td>34.0</td>\n",
       "      <td>62.0</td>\n",
       "      <td>93.0</td>\n",
       "      <td>...</td>\n",
       "      <td>13.0</td>\n",
       "      <td>5.0</td>\n",
       "      <td>7.0</td>\n",
       "      <td>6.0</td>\n",
       "      <td>97.0</td>\n",
       "      <td>85.8</td>\n",
       "      <td>77.5</td>\n",
       "      <td>90.0</td>\n",
       "      <td>44.0</td>\n",
       "      <td>76.2</td>\n",
       "    </tr>\n",
       "    <tr>\n",
       "      <th>3</th>\n",
       "      <td>91.0</td>\n",
       "      <td>93.0</td>\n",
       "      <td>132500000.0</td>\n",
       "      <td>30.0</td>\n",
       "      <td>12.0</td>\n",
       "      <td>27.0</td>\n",
       "      <td>18.0</td>\n",
       "      <td>12.0</td>\n",
       "      <td>34.0</td>\n",
       "      <td>88.0</td>\n",
       "      <td>...</td>\n",
       "      <td>87.0</td>\n",
       "      <td>92.0</td>\n",
       "      <td>78.0</td>\n",
       "      <td>90.0</td>\n",
       "      <td>51.5</td>\n",
       "      <td>19.5</td>\n",
       "      <td>31.3</td>\n",
       "      <td>52.3</td>\n",
       "      <td>16.0</td>\n",
       "      <td>57.8</td>\n",
       "    </tr>\n",
       "    <tr>\n",
       "      <th>4</th>\n",
       "      <td>91.0</td>\n",
       "      <td>91.0</td>\n",
       "      <td>148000000.0</td>\n",
       "      <td>90.0</td>\n",
       "      <td>88.0</td>\n",
       "      <td>68.0</td>\n",
       "      <td>53.0</td>\n",
       "      <td>65.0</td>\n",
       "      <td>75.0</td>\n",
       "      <td>91.0</td>\n",
       "      <td>...</td>\n",
       "      <td>15.0</td>\n",
       "      <td>13.0</td>\n",
       "      <td>5.0</td>\n",
       "      <td>13.0</td>\n",
       "      <td>76.0</td>\n",
       "      <td>86.0</td>\n",
       "      <td>90.3</td>\n",
       "      <td>85.8</td>\n",
       "      <td>59.8</td>\n",
       "      <td>75.0</td>\n",
       "    </tr>\n",
       "  </tbody>\n",
       "</table>\n",
       "<p>5 rows × 43 columns</p>\n",
       "</div>"
      ],
      "text/plain": [
       "   Overall Score  Potential Score  Market Value  Ball Control  Dribbling  \\\n",
       "0           93.0             93.0    92000000.0          96.0       96.0   \n",
       "1           92.0             92.0   141500000.0          88.0       85.0   \n",
       "2           91.0             95.0   229000000.0          91.0       93.0   \n",
       "3           91.0             93.0   132500000.0          30.0       12.0   \n",
       "4           91.0             91.0   148000000.0          90.0       88.0   \n",
       "\n",
       "   Marking  Slide Tackle  Stand Tackle  Aggression  Reactions  ...  GK Diving  \\\n",
       "0     20.0          24.0          35.0        44.0       94.0  ...        6.0   \n",
       "1     35.0          19.0          42.0        81.0       93.0  ...       15.0   \n",
       "2     26.0          32.0          34.0        62.0       93.0  ...       13.0   \n",
       "3     27.0          18.0          12.0        34.0       88.0  ...       87.0   \n",
       "4     68.0          53.0          65.0        75.0       91.0  ...       15.0   \n",
       "\n",
       "   GK Handling  GK Kicking  GK Reflexes  Pace  Shooting  Passing  \\\n",
       "0         11.0        15.0          8.0  85.5      88.5     91.5   \n",
       "1          6.0        12.0         10.0  78.0      90.8     78.5   \n",
       "2          5.0         7.0          6.0  97.0      85.8     77.5   \n",
       "3         92.0        78.0         90.0  51.5      19.5     31.3   \n",
       "4         13.0         5.0         13.0  76.0      86.0     90.3   \n",
       "\n",
       "   Dribbling_Ovr  Defending  Physical  \n",
       "0           94.7       42.2      63.2  \n",
       "1           85.5       50.0      82.0  \n",
       "2           90.0       44.0      76.2  \n",
       "3           52.3       16.0      57.8  \n",
       "4           85.8       59.8      75.0  \n",
       "\n",
       "[5 rows x 43 columns]"
      ]
     },
     "execution_count": 19,
     "metadata": {},
     "output_type": "execute_result"
    }
   ],
   "source": [
    "df_stat.head()"
   ]
  },
  {
   "cell_type": "markdown",
   "id": "aerial-diary",
   "metadata": {},
   "source": [
    "## Correlation & Feature Importance"
   ]
  },
  {
   "cell_type": "markdown",
   "id": "sweet-opportunity",
   "metadata": {},
   "source": [
    "### For df_info"
   ]
  },
  {
   "cell_type": "code",
   "execution_count": 20,
   "id": "extensive-leave",
   "metadata": {
    "ExecuteTime": {
     "end_time": "2021-12-14T00:00:05.060265Z",
     "start_time": "2021-12-14T00:00:05.053832Z"
    }
   },
   "outputs": [
    {
     "data": {
      "text/plain": [
       "Market Value      1.000000\n",
       "Salary            0.745820\n",
       "Age              -0.241776\n",
       "Weight           -0.014645\n",
       "Preferred Foot   -0.007229\n",
       "Height            0.001692\n",
       "Name: Market Value, dtype: float64"
      ]
     },
     "execution_count": 20,
     "metadata": {},
     "output_type": "execute_result"
    }
   ],
   "source": [
    "df_info.corr()['Market Value'].sort_values(key=abs, ascending=False)"
   ]
  },
  {
   "cell_type": "code",
   "execution_count": 21,
   "id": "norman-columbia",
   "metadata": {
    "ExecuteTime": {
     "end_time": "2021-12-14T00:00:05.247871Z",
     "start_time": "2021-12-14T00:00:05.061768Z"
    }
   },
   "outputs": [
    {
     "data": {
      "image/png": "[encoded data removed]",
      "text/plain": [
       "<Figure size 1152x144 with 2 Axes>"
      ]
     },
     "metadata": {
      "needs_background": "light"
     },
     "output_type": "display_data"
    }
   ],
   "source": [
    "plt.figure(figsize=(16,2))\n",
    "sns.heatmap(df_info.corr().loc[['Market Value'],:], annot=True)\n",
    "plt.show()"
   ]
  },
  {
   "cell_type": "code",
   "execution_count": 22,
   "id": "enhanced-manhattan",
   "metadata": {
    "ExecuteTime": {
     "end_time": "2021-12-14T00:00:05.263853Z",
     "start_time": "2021-12-14T00:00:05.249535Z"
    }
   },
   "outputs": [
    {
     "data": {
      "text/plain": [
       "ExtraTreeRegressor(random_state=0)"
      ]
     },
     "execution_count": 22,
     "metadata": {},
     "output_type": "execute_result"
    }
   ],
   "source": [
    "feat_import_tree = ExtraTreeRegressor(random_state=SEED)\n",
    "\n",
    "temp_X = df_info.drop('Market Value', axis=1)\n",
    "temp_y = df_info['Market Value']\n",
    "feat_import_tree.fit(temp_X, temp_y)"
   ]
  },
  {
   "cell_type": "code",
   "execution_count": 23,
   "id": "dramatic-insulation",
   "metadata": {
    "ExecuteTime": {
     "end_time": "2021-12-14T00:00:05.411241Z",
     "start_time": "2021-12-14T00:00:05.270412Z"
    }
   },
   "outputs": [
    {
     "data": {
      "image/png": "[encoded data removed]",
      "text/plain": [
       "<Figure size 1152x432 with 1 Axes>"
      ]
     },
     "metadata": {
      "needs_background": "light"
     },
     "output_type": "display_data"
    }
   ],
   "source": [
    "plt.figure(figsize=(16,6))\n",
    "plt.xticks(rotation=90)\n",
    "sns.barplot(y=feat_import_tree.feature_importances_, x=temp_X.columns, palette='Blues_r')\n",
    "plt.title('Tree-Based Feature Importances')\n",
    "plt.xlabel('Feature Name')\n",
    "plt.ylabel('Feature Importance')\n",
    "plt.show()"
   ]
  },
  {
   "cell_type": "markdown",
   "id": "tender-indonesia",
   "metadata": {},
   "source": [
    "**Observation**: Given that most features in the player information dataset do not perform well in either correlation or in tree based feature importance, we will pivot to feature **ablation** moving forward, where we will build models using two datasets: a) **df_stat**: containing only numerical data and b) **df_full**: Entire dataset containing numerical and categorical features."
   ]
  },
  {
   "cell_type": "markdown",
   "id": "binary-tablet",
   "metadata": {},
   "source": [
    "### For df_stat"
   ]
  },
  {
   "cell_type": "code",
   "execution_count": 24,
   "id": "purple-turtle",
   "metadata": {
    "ExecuteTime": {
     "end_time": "2021-12-14T00:00:05.434113Z",
     "start_time": "2021-12-14T00:00:05.415604Z"
    },
    "scrolled": true
   },
   "outputs": [
    {
     "data": {
      "text/plain": [
       "Market Value       1.000000\n",
       "Overall Score      0.830664\n",
       "Potential Score    0.768756\n",
       "Reactions          0.639481\n",
       "Composure          0.369874\n",
       "Dribbling_Ovr      0.301930\n",
       "Vision             0.293824\n",
       "Short Pass         0.259410\n",
       "Ball Control       0.235474\n",
       "Passing            0.233918\n",
       "Shot Power         0.231843\n",
       "Long Pass          0.224415\n",
       "Sprint Speed       0.221873\n",
       "Pace               0.221788\n",
       "Dribbling          0.217812\n",
       "Acceleration       0.211144\n",
       "Shooting           0.201896\n",
       "Finishing          0.200563\n",
       "Agility            0.197206\n",
       "Att. Position      0.195520\n",
       "Volleys            0.194799\n",
       "Curve              0.194696\n",
       "Stamina            0.186976\n",
       "Long Shots         0.174376\n",
       "Crossing           0.172144\n",
       "Balance            0.161680\n",
       "FK Acc.            0.156342\n",
       "Penalties          0.145591\n",
       "Physical           0.129772\n",
       "Heading            0.096706\n",
       "Aggression         0.083467\n",
       "Defending          0.067284\n",
       "Marking            0.059357\n",
       "GK Handling       -0.058691\n",
       "Interceptions      0.057963\n",
       "Stand Tackle       0.057285\n",
       "GK Diving         -0.056650\n",
       "GK Positioning    -0.055740\n",
       "GK Kicking        -0.052316\n",
       "GK Reflexes       -0.050004\n",
       "Strength           0.042978\n",
       "Jumping            0.040349\n",
       "Slide Tackle       0.039260\n",
       "Name: Market Value, dtype: float64"
      ]
     },
     "execution_count": 24,
     "metadata": {},
     "output_type": "execute_result"
    }
   ],
   "source": [
    "df_stat.corr()['Market Value'].sort_values(key=abs, ascending=False)"
   ]
  },
  {
   "cell_type": "code",
   "execution_count": 25,
   "id": "collect-accounting",
   "metadata": {
    "ExecuteTime": {
     "end_time": "2021-12-14T00:00:06.091797Z",
     "start_time": "2021-12-14T00:00:05.436135Z"
    },
    "scrolled": true
   },
   "outputs": [
    {
     "data": {
      "image/png": "[encoded data removed]",
      "text/plain": [
       "<Figure size 432x1440 with 2 Axes>"
      ]
     },
     "metadata": {
      "needs_background": "light"
     },
     "output_type": "display_data"
    }
   ],
   "source": [
    "plt.figure(figsize=(6,20))\n",
    "sns.heatmap(df_stat.corr().loc[['Market Value'],:].T, annot=True)\n",
    "plt.show()"
   ]
  },
  {
   "cell_type": "code",
   "execution_count": 26,
   "id": "tough-cooper",
   "metadata": {
    "ExecuteTime": {
     "end_time": "2021-12-14T00:00:06.116890Z",
     "start_time": "2021-12-14T00:00:06.093476Z"
    }
   },
   "outputs": [
    {
     "data": {
      "text/plain": [
       "ExtraTreeRegressor(random_state=0)"
      ]
     },
     "execution_count": 26,
     "metadata": {},
     "output_type": "execute_result"
    }
   ],
   "source": [
    "feat_import_tree = ExtraTreeRegressor(random_state=SEED)\n",
    "\n",
    "temp_X = df_stat.drop('Market Value', axis=1)\n",
    "temp_y = df_stat['Market Value']\n",
    "feat_import_tree.fit(temp_X, temp_y)"
   ]
  },
  {
   "cell_type": "code",
   "execution_count": 27,
   "id": "perfect-carry",
   "metadata": {
    "ExecuteTime": {
     "end_time": "2021-12-14T00:00:06.627134Z",
     "start_time": "2021-12-14T00:00:06.118646Z"
    }
   },
   "outputs": [
    {
     "data": {
      "image/png": "[encoded data removed]",
      "text/plain": [
       "<Figure size 1152x432 with 1 Axes>"
      ]
     },
     "metadata": {
      "needs_background": "light"
     },
     "output_type": "display_data"
    }
   ],
   "source": [
    "plt.figure(figsize=(16,6))\n",
    "plt.xticks(rotation=90)\n",
    "sns.barplot(y=feat_import_tree.feature_importances_, x=temp_X.columns)\n",
    "plt.title('Tree-Based Feature Importances')\n",
    "plt.xlabel('Feature Name')\n",
    "plt.ylabel('Feature Importance')\n",
    "plt.show()"
   ]
  },
  {
   "cell_type": "code",
   "execution_count": 28,
   "id": "seeing-triangle",
   "metadata": {
    "ExecuteTime": {
     "end_time": "2021-12-14T00:00:06.646133Z",
     "start_time": "2021-12-14T00:00:06.628774Z"
    }
   },
   "outputs": [
    {
     "data": {
      "text/plain": [
       "Market Value       1.000000\n",
       "Overall Score      0.830664\n",
       "Potential Score    0.768756\n",
       "Reactions          0.639481\n",
       "Composure          0.369874\n",
       "Dribbling_Ovr      0.301930\n",
       "Vision             0.293824\n",
       "Short Pass         0.259410\n",
       "Ball Control       0.235474\n",
       "Passing            0.233918\n",
       "Name: Market Value, dtype: float64"
      ]
     },
     "execution_count": 28,
     "metadata": {},
     "output_type": "execute_result"
    }
   ],
   "source": [
    "df_stat.corr()['Market Value'].sort_values(key=abs, ascending=False)[:10]"
   ]
  },
  {
   "cell_type": "markdown",
   "id": "regulation-feeling",
   "metadata": {},
   "source": [
    "**Observation**: We wish to pick features with a correlation threshold of at least 0.25, hence we will pick the top 7 features for df_stat."
   ]
  },
  {
   "cell_type": "markdown",
   "id": "material-siemens",
   "metadata": {
    "ExecuteTime": {
     "end_time": "2021-12-13T12:36:47.579253Z",
     "start_time": "2021-12-13T12:36:46.996126Z"
    }
   },
   "source": [
    "### For df_full"
   ]
  },
  {
   "cell_type": "code",
   "execution_count": 29,
   "id": "overall-cyprus",
   "metadata": {
    "ExecuteTime": {
     "end_time": "2021-12-14T00:00:06.674206Z",
     "start_time": "2021-12-14T00:00:06.648206Z"
    }
   },
   "outputs": [
    {
     "data": {
      "text/html": [
       "<div>\n",
       "<style scoped>\n",
       "    .dataframe tbody tr th:only-of-type {\n",
       "        vertical-align: middle;\n",
       "    }\n",
       "\n",
       "    .dataframe tbody tr th {\n",
       "        vertical-align: top;\n",
       "    }\n",
       "\n",
       "    .dataframe thead th {\n",
       "        text-align: right;\n",
       "    }\n",
       "</style>\n",
       "<table border=\"1\" class=\"dataframe\">\n",
       "  <thead>\n",
       "    <tr style=\"text-align: right;\">\n",
       "      <th></th>\n",
       "      <th>Overall Score</th>\n",
       "      <th>Potential Score</th>\n",
       "      <th>Market Value</th>\n",
       "      <th>Ball Control</th>\n",
       "      <th>Dribbling</th>\n",
       "      <th>Marking</th>\n",
       "      <th>Slide Tackle</th>\n",
       "      <th>Stand Tackle</th>\n",
       "      <th>Aggression</th>\n",
       "      <th>Reactions</th>\n",
       "      <th>...</th>\n",
       "      <th>Shooting</th>\n",
       "      <th>Passing</th>\n",
       "      <th>Dribbling_Ovr</th>\n",
       "      <th>Defending</th>\n",
       "      <th>Physical</th>\n",
       "      <th>Salary</th>\n",
       "      <th>Height</th>\n",
       "      <th>Weight</th>\n",
       "      <th>Age</th>\n",
       "      <th>Preferred Foot</th>\n",
       "    </tr>\n",
       "  </thead>\n",
       "  <tbody>\n",
       "    <tr>\n",
       "      <th>0</th>\n",
       "      <td>93.0</td>\n",
       "      <td>93.0</td>\n",
       "      <td>92000000.0</td>\n",
       "      <td>96.0</td>\n",
       "      <td>96.0</td>\n",
       "      <td>20.0</td>\n",
       "      <td>24.0</td>\n",
       "      <td>35.0</td>\n",
       "      <td>44.0</td>\n",
       "      <td>94.0</td>\n",
       "      <td>...</td>\n",
       "      <td>88.5</td>\n",
       "      <td>91.5</td>\n",
       "      <td>94.7</td>\n",
       "      <td>42.2</td>\n",
       "      <td>63.2</td>\n",
       "      <td>380000.0</td>\n",
       "      <td>170</td>\n",
       "      <td>72</td>\n",
       "      <td>34</td>\n",
       "      <td>0</td>\n",
       "    </tr>\n",
       "    <tr>\n",
       "      <th>1</th>\n",
       "      <td>92.0</td>\n",
       "      <td>92.0</td>\n",
       "      <td>141500000.0</td>\n",
       "      <td>88.0</td>\n",
       "      <td>85.0</td>\n",
       "      <td>35.0</td>\n",
       "      <td>19.0</td>\n",
       "      <td>42.0</td>\n",
       "      <td>81.0</td>\n",
       "      <td>93.0</td>\n",
       "      <td>...</td>\n",
       "      <td>90.8</td>\n",
       "      <td>78.5</td>\n",
       "      <td>85.5</td>\n",
       "      <td>50.0</td>\n",
       "      <td>82.0</td>\n",
       "      <td>320000.0</td>\n",
       "      <td>185</td>\n",
       "      <td>81</td>\n",
       "      <td>33</td>\n",
       "      <td>1</td>\n",
       "    </tr>\n",
       "    <tr>\n",
       "      <th>2</th>\n",
       "      <td>91.0</td>\n",
       "      <td>95.0</td>\n",
       "      <td>229000000.0</td>\n",
       "      <td>91.0</td>\n",
       "      <td>93.0</td>\n",
       "      <td>26.0</td>\n",
       "      <td>32.0</td>\n",
       "      <td>34.0</td>\n",
       "      <td>62.0</td>\n",
       "      <td>93.0</td>\n",
       "      <td>...</td>\n",
       "      <td>85.8</td>\n",
       "      <td>77.5</td>\n",
       "      <td>90.0</td>\n",
       "      <td>44.0</td>\n",
       "      <td>76.2</td>\n",
       "      <td>270000.0</td>\n",
       "      <td>182</td>\n",
       "      <td>73</td>\n",
       "      <td>22</td>\n",
       "      <td>1</td>\n",
       "    </tr>\n",
       "    <tr>\n",
       "      <th>3</th>\n",
       "      <td>91.0</td>\n",
       "      <td>93.0</td>\n",
       "      <td>132500000.0</td>\n",
       "      <td>30.0</td>\n",
       "      <td>12.0</td>\n",
       "      <td>27.0</td>\n",
       "      <td>18.0</td>\n",
       "      <td>12.0</td>\n",
       "      <td>34.0</td>\n",
       "      <td>88.0</td>\n",
       "      <td>...</td>\n",
       "      <td>19.5</td>\n",
       "      <td>31.3</td>\n",
       "      <td>52.3</td>\n",
       "      <td>16.0</td>\n",
       "      <td>57.8</td>\n",
       "      <td>150000.0</td>\n",
       "      <td>188</td>\n",
       "      <td>87</td>\n",
       "      <td>28</td>\n",
       "      <td>1</td>\n",
       "    </tr>\n",
       "    <tr>\n",
       "      <th>4</th>\n",
       "      <td>91.0</td>\n",
       "      <td>91.0</td>\n",
       "      <td>148000000.0</td>\n",
       "      <td>90.0</td>\n",
       "      <td>88.0</td>\n",
       "      <td>68.0</td>\n",
       "      <td>53.0</td>\n",
       "      <td>65.0</td>\n",
       "      <td>75.0</td>\n",
       "      <td>91.0</td>\n",
       "      <td>...</td>\n",
       "      <td>86.0</td>\n",
       "      <td>90.3</td>\n",
       "      <td>85.8</td>\n",
       "      <td>59.8</td>\n",
       "      <td>75.0</td>\n",
       "      <td>410000.0</td>\n",
       "      <td>181</td>\n",
       "      <td>70</td>\n",
       "      <td>30</td>\n",
       "      <td>1</td>\n",
       "    </tr>\n",
       "  </tbody>\n",
       "</table>\n",
       "<p>5 rows × 48 columns</p>\n",
       "</div>"
      ],
      "text/plain": [
       "   Overall Score  Potential Score  Market Value  Ball Control  Dribbling  \\\n",
       "0           93.0             93.0    92000000.0          96.0       96.0   \n",
       "1           92.0             92.0   141500000.0          88.0       85.0   \n",
       "2           91.0             95.0   229000000.0          91.0       93.0   \n",
       "3           91.0             93.0   132500000.0          30.0       12.0   \n",
       "4           91.0             91.0   148000000.0          90.0       88.0   \n",
       "\n",
       "   Marking  Slide Tackle  Stand Tackle  Aggression  Reactions  ...  Shooting  \\\n",
       "0     20.0          24.0          35.0        44.0       94.0  ...      88.5   \n",
       "1     35.0          19.0          42.0        81.0       93.0  ...      90.8   \n",
       "2     26.0          32.0          34.0        62.0       93.0  ...      85.8   \n",
       "3     27.0          18.0          12.0        34.0       88.0  ...      19.5   \n",
       "4     68.0          53.0          65.0        75.0       91.0  ...      86.0   \n",
       "\n",
       "   Passing  Dribbling_Ovr  Defending  Physical    Salary  Height  Weight  Age  \\\n",
       "0     91.5           94.7       42.2      63.2  380000.0     170      72   34   \n",
       "1     78.5           85.5       50.0      82.0  320000.0     185      81   33   \n",
       "2     77.5           90.0       44.0      76.2  270000.0     182      73   22   \n",
       "3     31.3           52.3       16.0      57.8  150000.0     188      87   28   \n",
       "4     90.3           85.8       59.8      75.0  410000.0     181      70   30   \n",
       "\n",
       "   Preferred Foot  \n",
       "0               0  \n",
       "1               1  \n",
       "2               1  \n",
       "3               1  \n",
       "4               1  \n",
       "\n",
       "[5 rows x 48 columns]"
      ]
     },
     "execution_count": 29,
     "metadata": {},
     "output_type": "execute_result"
    }
   ],
   "source": [
    "df_full = df_stat.join(df_info.drop('Market Value', axis=1), how='inner')\n",
    "df_full.head()"
   ]
  },
  {
   "cell_type": "code",
   "execution_count": 30,
   "id": "appreciated-findings",
   "metadata": {
    "ExecuteTime": {
     "end_time": "2021-12-14T00:00:06.702484Z",
     "start_time": "2021-12-14T00:00:06.676215Z"
    }
   },
   "outputs": [
    {
     "data": {
      "text/plain": [
       "ExtraTreeRegressor(random_state=0)"
      ]
     },
     "execution_count": 30,
     "metadata": {},
     "output_type": "execute_result"
    }
   ],
   "source": [
    "feat_import_tree = ExtraTreeRegressor(random_state=SEED)\n",
    "\n",
    "temp_X = df_full.drop('Market Value', axis=1)\n",
    "temp_y = df_full['Market Value']\n",
    "feat_import_tree.fit(temp_X, temp_y)"
   ]
  },
  {
   "cell_type": "code",
   "execution_count": 31,
   "id": "cooked-amendment",
   "metadata": {
    "ExecuteTime": {
     "end_time": "2021-12-14T00:00:07.254306Z",
     "start_time": "2021-12-14T00:00:06.705208Z"
    },
    "scrolled": false
   },
   "outputs": [
    {
     "data": {
      "image/png": "[encoded data removed]",
      "text/plain": [
       "<Figure size 1152x432 with 1 Axes>"
      ]
     },
     "metadata": {
      "needs_background": "light"
     },
     "output_type": "display_data"
    }
   ],
   "source": [
    "plt.figure(figsize=(16,6))\n",
    "plt.xticks(rotation=90)\n",
    "sns.barplot(y=feat_import_tree.feature_importances_, x=temp_X.columns)\n",
    "plt.title('Tree-Based Feature Importances')\n",
    "plt.xlabel('Feature Name')\n",
    "plt.ylabel('Feature Importance')\n",
    "plt.show()"
   ]
  },
  {
   "cell_type": "code",
   "execution_count": 32,
   "id": "adjustable-armenia",
   "metadata": {
    "ExecuteTime": {
     "end_time": "2021-12-14T00:00:07.276579Z",
     "start_time": "2021-12-14T00:00:07.255808Z"
    },
    "scrolled": false
   },
   "outputs": [
    {
     "data": {
      "text/plain": [
       "Market Value       1.000000\n",
       "Overall Score      0.830664\n",
       "Potential Score    0.768756\n",
       "Salary             0.745820\n",
       "Reactions          0.639481\n",
       "Composure          0.369874\n",
       "Dribbling_Ovr      0.301930\n",
       "Vision             0.293824\n",
       "Short Pass         0.259410\n",
       "Age               -0.241776\n",
       "Name: Market Value, dtype: float64"
      ]
     },
     "execution_count": 32,
     "metadata": {},
     "output_type": "execute_result"
    }
   ],
   "source": [
    "df_full.corr()['Market Value'].sort_values(key=abs, ascending=False)[:10]"
   ]
  },
  {
   "cell_type": "markdown",
   "id": "bronze-lodging",
   "metadata": {},
   "source": [
    "**Observation**: We wish to pick features with a correlation threshold of at least 0.25, hence we will pick the top 7 features for df_stat. However, since `Salary` is the only feature from `df_info` included under this threshold, we will also include `Age` as well for proper feature comparison."
   ]
  },
  {
   "cell_type": "markdown",
   "id": "pending-vanilla",
   "metadata": {},
   "source": [
    "# Initial Model Building"
   ]
  },
  {
   "cell_type": "markdown",
   "id": "frozen-layer",
   "metadata": {},
   "source": [
    "In this section, we will use a simple train-test split to gauge the initial effectiveness of different regression models. This is **NOT** the final evaluation and simply a method to test how different models are performing with the given data. We will then carry forward the two baseline models along with 3-4 well performing models and conduct a more thorough analysis in the next section."
   ]
  },
  {
   "cell_type": "markdown",
   "id": "indoor-victoria",
   "metadata": {},
   "source": [
    "## Train-Test Split and Scaling"
   ]
  },
  {
   "cell_type": "markdown",
   "id": "color-tension",
   "metadata": {},
   "source": [
    "### df_stat"
   ]
  },
  {
   "cell_type": "code",
   "execution_count": 33,
   "id": "comparable-conjunction",
   "metadata": {
    "ExecuteTime": {
     "end_time": "2021-12-14T00:00:07.304423Z",
     "start_time": "2021-12-14T00:00:07.278231Z"
    }
   },
   "outputs": [
    {
     "data": {
      "text/html": [
       "<div>\n",
       "<style scoped>\n",
       "    .dataframe tbody tr th:only-of-type {\n",
       "        vertical-align: middle;\n",
       "    }\n",
       "\n",
       "    .dataframe tbody tr th {\n",
       "        vertical-align: top;\n",
       "    }\n",
       "\n",
       "    .dataframe thead th {\n",
       "        text-align: right;\n",
       "    }\n",
       "</style>\n",
       "<table border=\"1\" class=\"dataframe\">\n",
       "  <thead>\n",
       "    <tr style=\"text-align: right;\">\n",
       "      <th></th>\n",
       "      <th>Market Value</th>\n",
       "      <th>Overall Score</th>\n",
       "      <th>Potential Score</th>\n",
       "      <th>Reactions</th>\n",
       "      <th>Composure</th>\n",
       "      <th>Dribbling_Ovr</th>\n",
       "      <th>Vision</th>\n",
       "    </tr>\n",
       "  </thead>\n",
       "  <tbody>\n",
       "    <tr>\n",
       "      <th>0</th>\n",
       "      <td>92000000.0</td>\n",
       "      <td>93.0</td>\n",
       "      <td>93.0</td>\n",
       "      <td>94.0</td>\n",
       "      <td>96.0</td>\n",
       "      <td>94.7</td>\n",
       "      <td>95.0</td>\n",
       "    </tr>\n",
       "    <tr>\n",
       "      <th>1</th>\n",
       "      <td>141500000.0</td>\n",
       "      <td>92.0</td>\n",
       "      <td>92.0</td>\n",
       "      <td>93.0</td>\n",
       "      <td>88.0</td>\n",
       "      <td>85.5</td>\n",
       "      <td>81.0</td>\n",
       "    </tr>\n",
       "    <tr>\n",
       "      <th>2</th>\n",
       "      <td>229000000.0</td>\n",
       "      <td>91.0</td>\n",
       "      <td>95.0</td>\n",
       "      <td>93.0</td>\n",
       "      <td>88.0</td>\n",
       "      <td>90.0</td>\n",
       "      <td>82.0</td>\n",
       "    </tr>\n",
       "    <tr>\n",
       "      <th>3</th>\n",
       "      <td>132500000.0</td>\n",
       "      <td>91.0</td>\n",
       "      <td>93.0</td>\n",
       "      <td>88.0</td>\n",
       "      <td>68.0</td>\n",
       "      <td>52.3</td>\n",
       "      <td>65.0</td>\n",
       "    </tr>\n",
       "    <tr>\n",
       "      <th>4</th>\n",
       "      <td>148000000.0</td>\n",
       "      <td>91.0</td>\n",
       "      <td>91.0</td>\n",
       "      <td>91.0</td>\n",
       "      <td>89.0</td>\n",
       "      <td>85.8</td>\n",
       "      <td>94.0</td>\n",
       "    </tr>\n",
       "  </tbody>\n",
       "</table>\n",
       "</div>"
      ],
      "text/plain": [
       "   Market Value  Overall Score  Potential Score  Reactions  Composure  \\\n",
       "0    92000000.0           93.0             93.0       94.0       96.0   \n",
       "1   141500000.0           92.0             92.0       93.0       88.0   \n",
       "2   229000000.0           91.0             95.0       93.0       88.0   \n",
       "3   132500000.0           91.0             93.0       88.0       68.0   \n",
       "4   148000000.0           91.0             91.0       91.0       89.0   \n",
       "\n",
       "   Dribbling_Ovr  Vision  \n",
       "0           94.7    95.0  \n",
       "1           85.5    81.0  \n",
       "2           90.0    82.0  \n",
       "3           52.3    65.0  \n",
       "4           85.8    94.0  "
      ]
     },
     "execution_count": 33,
     "metadata": {},
     "output_type": "execute_result"
    }
   ],
   "source": [
    "df_stat_final = df_stat[df_stat.corr()['Market Value'].sort_values(key=abs, ascending=False)[:7].index]\n",
    "df_stat_final.head()"
   ]
  },
  {
   "cell_type": "code",
   "execution_count": 34,
   "id": "indirect-watershed",
   "metadata": {
    "ExecuteTime": {
     "end_time": "2021-12-14T00:00:07.310317Z",
     "start_time": "2021-12-14T00:00:07.306314Z"
    }
   },
   "outputs": [],
   "source": [
    "X_stat = df_stat_final.drop('Market Value', axis=1)\n",
    "y_stat = df_stat_final['Market Value']"
   ]
  },
  {
   "cell_type": "code",
   "execution_count": 35,
   "id": "transsexual-spectacular",
   "metadata": {
    "ExecuteTime": {
     "end_time": "2021-12-14T00:00:07.316882Z",
     "start_time": "2021-12-14T00:00:07.312343Z"
    }
   },
   "outputs": [],
   "source": [
    "X_stat_train, X_stat_test, y_stat_train, y_stat_test = train_test_split(X_stat, y_stat, random_state=SEED)"
   ]
  },
  {
   "cell_type": "code",
   "execution_count": 36,
   "id": "pressed-anaheim",
   "metadata": {
    "ExecuteTime": {
     "end_time": "2021-12-14T00:00:07.326218Z",
     "start_time": "2021-12-14T00:00:07.318338Z"
    }
   },
   "outputs": [],
   "source": [
    "scaler = MinMaxScaler()\n",
    "X_stat_train_scaled = scaler.fit_transform(X_stat_train)\n",
    "X_stat_test_scaled = scaler.transform(X_stat_test)"
   ]
  },
  {
   "cell_type": "markdown",
   "id": "filled-burton",
   "metadata": {},
   "source": [
    "### df_full"
   ]
  },
  {
   "cell_type": "code",
   "execution_count": 37,
   "id": "conservative-liberty",
   "metadata": {
    "ExecuteTime": {
     "end_time": "2021-12-14T00:00:07.358631Z",
     "start_time": "2021-12-14T00:00:07.327653Z"
    },
    "scrolled": true
   },
   "outputs": [
    {
     "data": {
      "text/html": [
       "<div>\n",
       "<style scoped>\n",
       "    .dataframe tbody tr th:only-of-type {\n",
       "        vertical-align: middle;\n",
       "    }\n",
       "\n",
       "    .dataframe tbody tr th {\n",
       "        vertical-align: top;\n",
       "    }\n",
       "\n",
       "    .dataframe thead th {\n",
       "        text-align: right;\n",
       "    }\n",
       "</style>\n",
       "<table border=\"1\" class=\"dataframe\">\n",
       "  <thead>\n",
       "    <tr style=\"text-align: right;\">\n",
       "      <th></th>\n",
       "      <th>Market Value</th>\n",
       "      <th>Overall Score</th>\n",
       "      <th>Potential Score</th>\n",
       "      <th>Salary</th>\n",
       "      <th>Reactions</th>\n",
       "      <th>Composure</th>\n",
       "      <th>Dribbling_Ovr</th>\n",
       "      <th>Vision</th>\n",
       "      <th>Short Pass</th>\n",
       "      <th>Age</th>\n",
       "    </tr>\n",
       "  </thead>\n",
       "  <tbody>\n",
       "    <tr>\n",
       "      <th>0</th>\n",
       "      <td>92000000.0</td>\n",
       "      <td>93.0</td>\n",
       "      <td>93.0</td>\n",
       "      <td>380000.0</td>\n",
       "      <td>94.0</td>\n",
       "      <td>96.0</td>\n",
       "      <td>94.7</td>\n",
       "      <td>95.0</td>\n",
       "      <td>91.0</td>\n",
       "      <td>34</td>\n",
       "    </tr>\n",
       "    <tr>\n",
       "      <th>1</th>\n",
       "      <td>141500000.0</td>\n",
       "      <td>92.0</td>\n",
       "      <td>92.0</td>\n",
       "      <td>320000.0</td>\n",
       "      <td>93.0</td>\n",
       "      <td>88.0</td>\n",
       "      <td>85.5</td>\n",
       "      <td>81.0</td>\n",
       "      <td>85.0</td>\n",
       "      <td>33</td>\n",
       "    </tr>\n",
       "    <tr>\n",
       "      <th>2</th>\n",
       "      <td>229000000.0</td>\n",
       "      <td>91.0</td>\n",
       "      <td>95.0</td>\n",
       "      <td>270000.0</td>\n",
       "      <td>93.0</td>\n",
       "      <td>88.0</td>\n",
       "      <td>90.0</td>\n",
       "      <td>82.0</td>\n",
       "      <td>85.0</td>\n",
       "      <td>22</td>\n",
       "    </tr>\n",
       "    <tr>\n",
       "      <th>3</th>\n",
       "      <td>132500000.0</td>\n",
       "      <td>91.0</td>\n",
       "      <td>93.0</td>\n",
       "      <td>150000.0</td>\n",
       "      <td>88.0</td>\n",
       "      <td>68.0</td>\n",
       "      <td>52.3</td>\n",
       "      <td>65.0</td>\n",
       "      <td>43.0</td>\n",
       "      <td>28</td>\n",
       "    </tr>\n",
       "    <tr>\n",
       "      <th>4</th>\n",
       "      <td>148000000.0</td>\n",
       "      <td>91.0</td>\n",
       "      <td>91.0</td>\n",
       "      <td>410000.0</td>\n",
       "      <td>91.0</td>\n",
       "      <td>89.0</td>\n",
       "      <td>85.8</td>\n",
       "      <td>94.0</td>\n",
       "      <td>93.0</td>\n",
       "      <td>30</td>\n",
       "    </tr>\n",
       "  </tbody>\n",
       "</table>\n",
       "</div>"
      ],
      "text/plain": [
       "   Market Value  Overall Score  Potential Score    Salary  Reactions  \\\n",
       "0    92000000.0           93.0             93.0  380000.0       94.0   \n",
       "1   141500000.0           92.0             92.0  320000.0       93.0   \n",
       "2   229000000.0           91.0             95.0  270000.0       93.0   \n",
       "3   132500000.0           91.0             93.0  150000.0       88.0   \n",
       "4   148000000.0           91.0             91.0  410000.0       91.0   \n",
       "\n",
       "   Composure  Dribbling_Ovr  Vision  Short Pass  Age  \n",
       "0       96.0           94.7    95.0        91.0   34  \n",
       "1       88.0           85.5    81.0        85.0   33  \n",
       "2       88.0           90.0    82.0        85.0   22  \n",
       "3       68.0           52.3    65.0        43.0   28  \n",
       "4       89.0           85.8    94.0        93.0   30  "
      ]
     },
     "execution_count": 37,
     "metadata": {},
     "output_type": "execute_result"
    }
   ],
   "source": [
    "df_full_final = df_full[df_full.corr()['Market Value'].sort_values(key=abs, ascending=False)[:10].index]\n",
    "df_full_final.head()"
   ]
  },
  {
   "cell_type": "code",
   "execution_count": 38,
   "id": "instant-gossip",
   "metadata": {
    "ExecuteTime": {
     "end_time": "2021-12-14T00:00:07.363526Z",
     "start_time": "2021-12-14T00:00:07.360236Z"
    }
   },
   "outputs": [],
   "source": [
    "X_full = df_full_final.drop('Market Value', axis=1)\n",
    "y_full = df_full_final['Market Value']"
   ]
  },
  {
   "cell_type": "code",
   "execution_count": 39,
   "id": "greenhouse-receptor",
   "metadata": {
    "ExecuteTime": {
     "end_time": "2021-12-14T00:00:07.371908Z",
     "start_time": "2021-12-14T00:00:07.365254Z"
    }
   },
   "outputs": [],
   "source": [
    "X_full_train, X_full_test, y_full_train, y_full_test = train_test_split(X_full, y_full, random_state=SEED)"
   ]
  },
  {
   "cell_type": "code",
   "execution_count": 40,
   "id": "bottom-replica",
   "metadata": {
    "ExecuteTime": {
     "end_time": "2021-12-14T00:00:07.384591Z",
     "start_time": "2021-12-14T00:00:07.374536Z"
    }
   },
   "outputs": [],
   "source": [
    "scaler = MinMaxScaler()\n",
    "X_full_train_scaled = scaler.fit_transform(X_full_train)\n",
    "X_full_test_scaled = scaler.transform(X_full_test)"
   ]
  },
  {
   "cell_type": "markdown",
   "id": "reduced-bernard",
   "metadata": {},
   "source": [
    "### Base Model Building"
   ]
  },
  {
   "cell_type": "markdown",
   "id": "preceding-density",
   "metadata": {},
   "source": [
    "#### With df_stats"
   ]
  },
  {
   "cell_type": "code",
   "execution_count": 41,
   "id": "empirical-music",
   "metadata": {
    "ExecuteTime": {
     "end_time": "2021-12-14T00:00:09.341715Z",
     "start_time": "2021-12-14T00:00:07.386092Z"
    }
   },
   "outputs": [
    {
     "name": "stdout",
     "output_type": "stream",
     "text": [
      "DummyRegressor         R2:  -0.0,   MAE: 10925138.94,   MSE: 277044879016142.56\n",
      "GaussianNB             R2: 0.797,   MAE:  3836074.93,   MSE: 56234150559945.51\n",
      "LinearRegression       R2: 0.766,   MAE:  5223573.24,   MSE: 64779538012872.66\n",
      "Lasso                  R2: 0.766,   MAE:  5223569.88,   MSE: 64779506859676.19\n",
      "Ridge                  R2: 0.767,   MAE:  5180633.92,   MSE: 64438419940671.86\n",
      "DecisionTreeRegressor  R2: 0.801,   MAE:  2688664.85,   MSE: 55148226634877.38\n",
      "RandomForestRegressor  R2: 0.921,   MAE:  1970027.54,   MSE: 21806023027576.19\n",
      "SVR                    R2: -0.166,   MAE:  9676765.73,   MSE: 323048867835332.0\n",
      "KNeighborsRegressor    R2: 0.913,   MAE:  2397575.75,   MSE: 24194214110572.2\n"
     ]
    }
   ],
   "source": [
    "dummy = DummyRegressor()\n",
    "nb = GaussianNB()\n",
    "lr = LinearRegression()\n",
    "lasso = Lasso()\n",
    "ridge = Ridge()\n",
    "dt = DecisionTreeRegressor()\n",
    "rf = RandomForestRegressor()\n",
    "svr = SVR()\n",
    "knn = KNeighborsRegressor()\n",
    "\n",
    "model_list = [dummy, nb, lr, lasso, ridge, dt, rf, svr, knn]\n",
    "\n",
    "for model in model_list:\n",
    "    model.fit(X_stat_train_scaled, y_stat_train)\n",
    "    y_pred = model.predict(X_stat_test_scaled)\n",
    "\n",
    "    r2 = r2_score(y_stat_test, y_pred)\n",
    "    mae = mean_absolute_error(y_stat_test, y_pred)\n",
    "    mse = mean_squared_error(y_stat_test, y_pred)\n",
    "    print(f'{str(model)[:-2]:22} R2: {round(r2, 3):5},   MAE: {round(mae,2):11},   MSE: {round(mse,2)}')"
   ]
  },
  {
   "cell_type": "markdown",
   "id": "interim-nicaragua",
   "metadata": {},
   "source": [
    "#### With df_full"
   ]
  },
  {
   "cell_type": "code",
   "execution_count": 42,
   "id": "center-greek",
   "metadata": {
    "ExecuteTime": {
     "end_time": "2021-12-14T00:00:10.347555Z",
     "start_time": "2021-12-14T00:00:09.343909Z"
    }
   },
   "outputs": [
    {
     "name": "stdout",
     "output_type": "stream",
     "text": [
      "DummyRegressor         R2:  -0.0,   MAE: 10925138.94,   MSE: 277044879016142.56\n",
      "GaussianNB             R2: 0.824,   MAE:  3311246.59,   MSE: 48696598739782.02\n",
      "LinearRegression       R2:  0.83,   MAE:  4758991.88,   MSE: 47210649041883.88\n",
      "Lasso                  R2:  0.83,   MAE:  4758986.91,   MSE: 47210621164569.83\n",
      "Ridge                  R2: 0.831,   MAE:  4709423.74,   MSE: 46888478299351.2\n",
      "DecisionTreeRegressor  R2: 0.944,   MAE:  1350211.17,   MSE: 15555965292915.53\n",
      "RandomForestRegressor  R2: 0.982,   MAE:   940664.22,   MSE: 4870248020158.31\n",
      "SVR                    R2: -0.166,   MAE:   9676806.8,   MSE: 323050221990760.1\n",
      "KNeighborsRegressor    R2: 0.958,   MAE:  1702988.01,   MSE: 11646628309318.8\n"
     ]
    }
   ],
   "source": [
    "dummy = DummyRegressor()\n",
    "nb = GaussianNB()\n",
    "lr = LinearRegression()\n",
    "lasso = Lasso()\n",
    "ridge = Ridge()\n",
    "dt = DecisionTreeRegressor()\n",
    "rf = RandomForestRegressor()\n",
    "svr = SVR()\n",
    "knn = KNeighborsRegressor()\n",
    "\n",
    "model_list = [dummy, nb, lr, lasso, ridge, dt, rf, svr, knn]\n",
    "\n",
    "for model in model_list:\n",
    "    model.fit(X_full_train_scaled, y_full_train)\n",
    "    y_pred = model.predict(X_full_test_scaled)\n",
    "\n",
    "    r2 = r2_score(y_full_test, y_pred)\n",
    "    mae = mean_absolute_error(y_full_test, y_pred)\n",
    "    mse = mean_squared_error(y_full_test, y_pred)\n",
    "    print(f'{str(model)[:-2]:22} R2: {round(r2, 3):5},   MAE: {round(mae,2):11},   MSE: {round(mse,2)}')"
   ]
  },
  {
   "cell_type": "markdown",
   "id": "animated-worship",
   "metadata": {},
   "source": [
    "### Model Evaluation"
   ]
  },
  {
   "cell_type": "markdown",
   "id": "assumed-hardwood",
   "metadata": {},
   "source": [
    "In this section we will evaluate the models selected from the previous section and perform an evaluation across three metrics: ${R}^2$, RMSE and MAE across a 5-fold cross validation."
   ]
  },
  {
   "cell_type": "code",
   "execution_count": 43,
   "id": "private-minnesota",
   "metadata": {
    "ExecuteTime": {
     "end_time": "2021-12-14T00:00:10.356813Z",
     "start_time": "2021-12-14T00:00:10.349960Z"
    }
   },
   "outputs": [],
   "source": [
    "def evaluate_model(df, model_tuple, metric, poly_deg=None):\n",
    "    kfold = KFold(n_splits=5, shuffle=True, random_state=SEED)\n",
    "    model = model_tuple[1]\n",
    "    \n",
    "    scores = []\n",
    "    \n",
    "    X = df.drop('Market Value', axis=1)\n",
    "    y = df['Market Value']\n",
    "    \n",
    "    for train_idx, test_idx in kfold.split(X):\n",
    "        \n",
    "        X_train = X.iloc[train_idx]\n",
    "        X_test = X.iloc[test_idx]\n",
    "        \n",
    "        y_train = y.iloc[train_idx]\n",
    "        y_test = y.iloc[test_idx]\n",
    "        \n",
    "        scaler = MinMaxScaler()\n",
    "        X_train_scaled = scaler.fit_transform(X_train)\n",
    "        X_test_scaled = scaler.transform(X_test)\n",
    "        \n",
    "        if model_tuple[0].startswith('Poly'):\n",
    "            poly = PolynomialFeatures(poly_deg)\n",
    "            X_train_poly = poly.fit_transform(X_train_scaled)\n",
    "            X_test_poly = poly.transform(X_test_scaled)\n",
    "\n",
    "            model.fit(X_train_poly, y_train)\n",
    "            y_pred = model.predict(X_test_poly)\n",
    "\n",
    "        else:\n",
    "            model.fit(X_train_scaled, y_train)\n",
    "            y_pred = model.predict(X_test_scaled)\n",
    "        \n",
    "        if metric=='r2':\n",
    "            scores.append(r2_score(y_test, y_pred))\n",
    "        elif metric=='rmse':\n",
    "            scores.append(mean_squared_error(y_test, y_pred, squared=False))\n",
    "        elif metric=='mae':\n",
    "            scores.append(mean_absolute_error(y_test, y_pred))\n",
    "    \n",
    "    mean_score = round(np.mean(scores), 3)\n",
    "    std_score = round(np.std(scores), 3)\n",
    "    \n",
    "    return (mean_score, std_score)"
   ]
  },
  {
   "cell_type": "code",
   "execution_count": 44,
   "id": "sitting-variance",
   "metadata": {
    "ExecuteTime": {
     "end_time": "2021-12-14T00:00:10.361881Z",
     "start_time": "2021-12-14T00:00:10.358340Z"
    }
   },
   "outputs": [],
   "source": [
    "nb = GaussianNB()\n",
    "lr = LinearRegression()\n",
    "# pr = LinearRegression()\n",
    "dt = DecisionTreeRegressor(random_state=SEED)\n",
    "rf = RandomForestRegressor(random_state=SEED)\n",
    "knn = KNeighborsRegressor()\n",
    "\n",
    "updated_model_dict = {'DummyRegressor':dummy,\n",
    "                      'NaiveBayes': nb,\n",
    "                      'LinearRegression': lr,\n",
    "#                       'PolynomialRegression': pr,\n",
    "                      'DecisionTree': dt,\n",
    "                      'RandomForest': rf,\n",
    "                      'KNN': knn}"
   ]
  },
  {
   "cell_type": "markdown",
   "id": "religious-gallery",
   "metadata": {},
   "source": [
    "#### For df_stat"
   ]
  },
  {
   "cell_type": "code",
   "execution_count": 45,
   "id": "beautiful-profile",
   "metadata": {
    "ExecuteTime": {
     "end_time": "2021-12-14T00:00:59.565021Z",
     "start_time": "2021-12-14T00:00:10.363243Z"
    }
   },
   "outputs": [
    {
     "name": "stdout",
     "output_type": "stream",
     "text": [
      "DummyRegressor R^2: (-0.0, 0.0)\n",
      "DummyRegressor RMSE: (18207190.152, 1236168.269)\n",
      "DummyRegressor MAE: (11411453.811, 482498.539)\n",
      "\n",
      "\n",
      "NaiveBayes R^2: (0.457, 0.076)\n",
      "NaiveBayes RMSE: (13351085.783, 868956.543)\n",
      "NaiveBayes MAE: (7461524.901, 615183.371)\n",
      "\n",
      "\n",
      "LinearRegression R^2: (0.756, 0.021)\n",
      "LinearRegression RMSE: (8994860.271, 922445.904)\n",
      "LinearRegression MAE: (5344937.106, 215792.864)\n",
      "\n",
      "\n",
      "DecisionTree R^2: (0.746, 0.039)\n",
      "DecisionTree RMSE: (9150829.874, 966146.796)\n",
      "DecisionTree MAE: (2947461.729, 178503.185)\n",
      "\n",
      "\n",
      "RandomForest R^2: (0.92, 0.021)\n",
      "RandomForest RMSE: (5146502.048, 946558.626)\n",
      "RandomForest MAE: (1942032.583, 159973.477)\n",
      "\n",
      "\n",
      "KNN R^2: (0.783, 0.033)\n",
      "KNN RMSE: (8481324.608, 1057572.252)\n",
      "KNN MAE: (4043155.092, 231468.532)\n",
      "\n",
      "\n"
     ]
    }
   ],
   "source": [
    "for name, model in updated_model_dict.items():\n",
    "    print(f'{name} R^2:', evaluate_model(df_stat, (name, model), 'r2'))\n",
    "    print(f'{name} RMSE:', evaluate_model(df_stat, (name, model), 'rmse'))\n",
    "    print(f'{name} MAE:', evaluate_model(df_stat, (name, model), 'mae'))\n",
    "    print('\\n')"
   ]
  },
  {
   "cell_type": "markdown",
   "id": "three-tooth",
   "metadata": {},
   "source": [
    "### For df_full"
   ]
  },
  {
   "cell_type": "code",
   "execution_count": 46,
   "id": "biblical-lightweight",
   "metadata": {
    "ExecuteTime": {
     "end_time": "2021-12-14T00:01:49.236166Z",
     "start_time": "2021-12-14T00:00:59.581554Z"
    }
   },
   "outputs": [
    {
     "name": "stdout",
     "output_type": "stream",
     "text": [
      "DummyRegressor R^2: (-0.0, 0.0)\n",
      "DummyRegressor RMSE: (18207190.152, 1236168.269)\n",
      "DummyRegressor MAE: (11411453.811, 482498.539)\n",
      "\n",
      "\n",
      "NaiveBayes R^2: (0.527, 0.089)\n",
      "NaiveBayes RMSE: (12425794.42, 1207226.186)\n",
      "NaiveBayes MAE: (7657330.254, 568828.367)\n",
      "\n",
      "\n",
      "LinearRegression R^2: (0.807, 0.011)\n",
      "LinearRegression RMSE: (8010778.393, 739012.61)\n",
      "LinearRegression MAE: (4827108.496, 127664.914)\n",
      "\n",
      "\n",
      "DecisionTree R^2: (0.823, 0.058)\n",
      "DecisionTree RMSE: (7580223.879, 1416795.137)\n",
      "DecisionTree MAE: (1969282.796, 172899.799)\n",
      "\n",
      "\n",
      "RandomForest R^2: (0.95, 0.021)\n",
      "RandomForest RMSE: (4023256.839, 1114006.297)\n",
      "RandomForest MAE: (1141869.342, 131333.372)\n",
      "\n",
      "\n",
      "KNN R^2: (0.773, 0.03)\n",
      "KNN RMSE: (8686194.982, 1094698.648)\n",
      "KNN MAE: (4128000.373, 211809.599)\n",
      "\n",
      "\n"
     ]
    }
   ],
   "source": [
    "for name, model in updated_model_dict.items():\n",
    "    print(f'{name} R^2:', evaluate_model(df_full, (name, model), 'r2'))\n",
    "    print(f'{name} RMSE:', evaluate_model(df_full, (name, model), 'rmse'))\n",
    "    print(f'{name} MAE:', evaluate_model(df_full, (name, model), 'mae'))\n",
    "    print('\\n')"
   ]
  },
  {
   "cell_type": "markdown",
   "id": "christian-thriller",
   "metadata": {},
   "source": [
    "### Hyper Parameter Tuning"
   ]
  },
  {
   "cell_type": "markdown",
   "id": "empty-valve",
   "metadata": {},
   "source": [
    "#### For Polynomial Regression"
   ]
  },
  {
   "cell_type": "markdown",
   "id": "behind-soundtrack",
   "metadata": {},
   "source": [
    "Performing hyperparameter tuning over a 5-fold CV for different exponents for Polynomial REgression was proving to be too computationally challenging. Hence, only for this model, we have selected a hyperparameter using a simple train test split. Note that the final model will still be evaluated using a train-test split."
   ]
  },
  {
   "cell_type": "code",
   "execution_count": 49,
   "id": "educational-cartoon",
   "metadata": {
    "ExecuteTime": {
     "end_time": "2021-12-14T00:01:56.789233Z",
     "start_time": "2021-12-14T00:01:49.246061Z"
    }
   },
   "outputs": [],
   "source": [
    "# df_stat\n",
    "scores_stat = []\n",
    "for degree in range(1,10):\n",
    "    poly = PolynomialFeatures(degree)\n",
    "    X_stat_train_poly = poly.fit_transform(X_stat_train_scaled)\n",
    "    X_stat_test_poly = poly.transform(X_stat_test_scaled)\n",
    "    \n",
    "    lr = LinearRegression().fit(X_stat_train_poly, y_stat_train)\n",
    "    scores_stat.append(r2_score(y_stat_test, lr.predict(X_stat_test_poly)))"
   ]
  },
  {
   "cell_type": "code",
   "execution_count": 50,
   "id": "developing-kitty",
   "metadata": {
    "ExecuteTime": {
     "end_time": "2021-12-14T00:01:57.127300Z",
     "start_time": "2021-12-14T00:01:56.791139Z"
    }
   },
   "outputs": [
    {
     "data": {
      "image/png": "[encoded data removed]",
      "text/plain": [
       "<Figure size 1152x288 with 2 Axes>"
      ]
     },
     "metadata": {
      "needs_background": "light"
     },
     "output_type": "display_data"
    }
   ],
   "source": [
    "plt.figure(figsize=(16,4))\n",
    "plt.subplot(1,2,1)\n",
    "sns.lineplot(x=list(range(1,6)), y=scores_stat[:5])\n",
    "plt.title('R^2 Scores for df_stat data (deg 1-5)')\n",
    "\n",
    "plt.subplot(1,2,2)\n",
    "sns.lineplot(x=list(range(6,10)), y=scores_stat[5:])\n",
    "plt.title('R^2 Scores for df_stat data (deg 6-9)')\n",
    "\n",
    "plt.show()"
   ]
  },
  {
   "cell_type": "code",
   "execution_count": 51,
   "id": "correct-hierarchy",
   "metadata": {
    "ExecuteTime": {
     "end_time": "2021-12-14T00:02:21.728916Z",
     "start_time": "2021-12-14T00:01:57.130339Z"
    }
   },
   "outputs": [],
   "source": [
    "# df_full\n",
    "scores_full = []\n",
    "for degree in range(1,10):\n",
    "    poly = PolynomialFeatures(degree)\n",
    "    X_full_train_poly = poly.fit_transform(X_full_train_scaled)\n",
    "    X_full_test_poly = poly.transform(X_full_test_scaled)\n",
    "    \n",
    "    lr = LinearRegression().fit(X_full_train_poly, y_full_train)\n",
    "    scores_full.append(r2_score(y_full_test, lr.predict(X_full_test_poly)))"
   ]
  },
  {
   "cell_type": "code",
   "execution_count": 52,
   "id": "sitting-premises",
   "metadata": {
    "ExecuteTime": {
     "end_time": "2021-12-14T00:02:22.031638Z",
     "start_time": "2021-12-14T00:02:21.730661Z"
    }
   },
   "outputs": [
    {
     "data": {
      "image/png": "[encoded data removed]",
      "text/plain": [
       "<Figure size 1152x288 with 2 Axes>"
      ]
     },
     "metadata": {
      "needs_background": "light"
     },
     "output_type": "display_data"
    }
   ],
   "source": [
    "plt.figure(figsize=(16,4))\n",
    "plt.subplot(1,2,1)\n",
    "sns.lineplot(x=list(range(1,5)), y=scores_full[:4])\n",
    "plt.title('R^2 Scores for df_full data (deg 1-5)')\n",
    "\n",
    "plt.subplot(1,2,2)\n",
    "sns.lineplot(x=list(range(5,10)), y=scores_full[4:])\n",
    "plt.title('R^2 Scores for df_full data (deg 6-9)')\n",
    "\n",
    "plt.show()"
   ]
  },
  {
   "cell_type": "markdown",
   "id": "apart-confidence",
   "metadata": {},
   "source": [
    "**BEST HYPER-PARAMTER(S)**: Polynomial Degree = 3"
   ]
  },
  {
   "cell_type": "code",
   "execution_count": 53,
   "id": "limiting-macedonia",
   "metadata": {
    "ExecuteTime": {
     "end_time": "2021-12-14T00:02:22.040331Z",
     "start_time": "2021-12-14T00:02:22.034089Z"
    },
    "code_folding": [
     0
    ]
   },
   "outputs": [],
   "source": [
    "def get_best_params(df, model, params, is_poly=False):\n",
    "    best_params = []\n",
    "    \n",
    "    kfold = KFold(n_splits=5, shuffle=True, random_state=SEED)\n",
    "    \n",
    "    X = df.drop('Market Value', axis=1)\n",
    "    y = df['Market Value']\n",
    "    for train_idx, test_idx in kfold.split(X):\n",
    "        \n",
    "        X_train = X.iloc[train_idx]\n",
    "        X_test = X.iloc[test_idx]\n",
    "        \n",
    "        y_train = y.iloc[train_idx]\n",
    "        y_test = y.iloc[test_idx]\n",
    "        \n",
    "        scaler = MinMaxScaler()\n",
    "        X_train_scaled = scaler.fit_transform(X_train)\n",
    "        X_test_scaled = scaler.transform(X_test)\n",
    "        \n",
    "        gs = GridSearchCV(model, param_grid=params, cv=5, scoring='r2')\n",
    "        gs.fit(X_train_scaled, y_train)\n",
    "        best_params.append(gs.best_params_)\n",
    "        \n",
    "    return best_params"
   ]
  },
  {
   "cell_type": "code",
   "execution_count": 54,
   "id": "civil-georgia",
   "metadata": {
    "ExecuteTime": {
     "end_time": "2021-12-14T00:04:06.532036Z",
     "start_time": "2021-12-14T00:02:22.042165Z"
    }
   },
   "outputs": [
    {
     "data": {
      "text/plain": [
       "[{'criterion': 'mse', 'min_samples_split': 9},\n",
       " {'criterion': 'mae', 'min_samples_split': 7},\n",
       " {'criterion': 'mae', 'min_samples_split': 5},\n",
       " {'criterion': 'mae', 'min_samples_split': 5},\n",
       " {'criterion': 'mae', 'min_samples_split': 9}]"
      ]
     },
     "execution_count": 54,
     "metadata": {},
     "output_type": "execute_result"
    }
   ],
   "source": [
    "get_best_params(df_stat, dt, params={'min_samples_split': range(2, 10), 'criterion': ['r2', 'mse', 'mae']})"
   ]
  },
  {
   "cell_type": "code",
   "execution_count": 55,
   "id": "victorian-marble",
   "metadata": {
    "ExecuteTime": {
     "end_time": "2021-12-14T00:05:54.188815Z",
     "start_time": "2021-12-14T00:04:06.533931Z"
    }
   },
   "outputs": [
    {
     "data": {
      "text/plain": [
       "[{'criterion': 'mae', 'min_samples_split': 5},\n",
       " {'criterion': 'mse', 'min_samples_split': 9},\n",
       " {'criterion': 'mse', 'min_samples_split': 6},\n",
       " {'criterion': 'mae', 'min_samples_split': 8},\n",
       " {'criterion': 'mae', 'min_samples_split': 7}]"
      ]
     },
     "execution_count": 55,
     "metadata": {},
     "output_type": "execute_result"
    }
   ],
   "source": [
    "get_best_params(df_full, dt, params={'min_samples_split': range(2, 10), 'criterion': ['r2', 'mse', 'mae']})"
   ]
  },
  {
   "cell_type": "markdown",
   "id": "alien-voluntary",
   "metadata": {},
   "source": [
    "**BEST HYPER-PARAMTER(S)**: `criterion` = mae, `min_samples_split` = 7"
   ]
  },
  {
   "cell_type": "code",
   "execution_count": 56,
   "id": "elementary-gospel",
   "metadata": {
    "ExecuteTime": {
     "end_time": "2021-12-14T00:06:14.533860Z",
     "start_time": "2021-12-14T00:05:54.190756Z"
    }
   },
   "outputs": [
    {
     "data": {
      "text/plain": [
       "[{'n_neighbors': 8},\n",
       " {'n_neighbors': 7},\n",
       " {'n_neighbors': 8},\n",
       " {'n_neighbors': 7},\n",
       " {'n_neighbors': 6}]"
      ]
     },
     "execution_count": 56,
     "metadata": {},
     "output_type": "execute_result"
    }
   ],
   "source": [
    "get_best_params(df_stat, knn, params={'n_neighbors': list(range(1,21))})"
   ]
  },
  {
   "cell_type": "code",
   "execution_count": 57,
   "id": "greenhouse-stock",
   "metadata": {
    "ExecuteTime": {
     "end_time": "2021-12-14T00:06:34.019027Z",
     "start_time": "2021-12-14T00:06:14.535882Z"
    }
   },
   "outputs": [
    {
     "data": {
      "text/plain": [
       "[{'n_neighbors': 5},\n",
       " {'n_neighbors': 6},\n",
       " {'n_neighbors': 6},\n",
       " {'n_neighbors': 8},\n",
       " {'n_neighbors': 6}]"
      ]
     },
     "execution_count": 57,
     "metadata": {},
     "output_type": "execute_result"
    }
   ],
   "source": [
    "get_best_params(df_full, knn, params={'n_neighbors': list(range(1,21))})"
   ]
  },
  {
   "cell_type": "markdown",
   "id": "rational-declaration",
   "metadata": {},
   "source": [
    "**BEST HYPER-PARAMTER(S)**: `n_neighbors` = 6"
   ]
  },
  {
   "cell_type": "code",
   "execution_count": 58,
   "id": "intense-particle",
   "metadata": {
    "ExecuteTime": {
     "end_time": "2021-12-14T00:13:17.174269Z",
     "start_time": "2021-12-14T00:06:34.020644Z"
    }
   },
   "outputs": [
    {
     "data": {
      "text/plain": [
       "[{'criterion': 'mae', 'max_depth': 8, 'n_estimators': 15},\n",
       " {'criterion': 'mse', 'max_depth': 8, 'n_estimators': 15},\n",
       " {'criterion': 'mse', 'max_depth': 8, 'n_estimators': 10},\n",
       " {'criterion': 'mse', 'max_depth': 8, 'n_estimators': 15},\n",
       " {'criterion': 'mse', 'max_depth': 8, 'n_estimators': 5}]"
      ]
     },
     "execution_count": 58,
     "metadata": {},
     "output_type": "execute_result"
    }
   ],
   "source": [
    "get_best_params(df_stat, rf, params={'n_estimators': list(range(5, 20, 5)), 'max_depth': [4, 6, 8], 'criterion':['r2', 'mse', 'mae']})"
   ]
  },
  {
   "cell_type": "code",
   "execution_count": 59,
   "id": "sorted-hanging",
   "metadata": {
    "ExecuteTime": {
     "end_time": "2021-12-14T00:21:09.931100Z",
     "start_time": "2021-12-14T00:13:17.175775Z"
    }
   },
   "outputs": [
    {
     "data": {
      "text/plain": [
       "[{'criterion': 'mae', 'max_depth': 8, 'n_estimators': 15},\n",
       " {'criterion': 'mse', 'max_depth': 8, 'n_estimators': 15},\n",
       " {'criterion': 'mse', 'max_depth': 8, 'n_estimators': 10},\n",
       " {'criterion': 'mse', 'max_depth': 8, 'n_estimators': 15},\n",
       " {'criterion': 'mse', 'max_depth': 8, 'n_estimators': 5}]"
      ]
     },
     "execution_count": 59,
     "metadata": {},
     "output_type": "execute_result"
    }
   ],
   "source": [
    "get_best_params(df_full, rf, params={'n_estimators': list(range(5, 20, 5)), 'max_depth': [4, 6, 8], 'criterion':['r2', 'mse', 'mae']})"
   ]
  },
  {
   "cell_type": "markdown",
   "id": "aggregate-decrease",
   "metadata": {},
   "source": [
    "**BEST HYPER-PARAMTER(S)**: `criterion` = mse, `max_depth` = 8, `n_estimators` = 15"
   ]
  },
  {
   "cell_type": "markdown",
   "id": "acknowledged-component",
   "metadata": {},
   "source": [
    "### Final Model Evaluation"
   ]
  },
  {
   "cell_type": "code",
   "execution_count": 60,
   "id": "adjacent-emission",
   "metadata": {
    "ExecuteTime": {
     "end_time": "2021-12-14T00:21:09.938111Z",
     "start_time": "2021-12-14T00:21:09.932979Z"
    }
   },
   "outputs": [],
   "source": [
    "nb = GaussianNB()\n",
    "pr = LinearRegression()\n",
    "dt = DecisionTreeRegressor(criterion='mae', min_samples_split=7, random_state=SEED)\n",
    "rf = RandomForestRegressor(criterion = 'mse', max_depth = 8, n_estimators = 15, random_state=SEED)\n",
    "knn = KNeighborsRegressor(n_neighbors=6)\n",
    "\n",
    "updated_model_dict = {'DummyRegressor':dummy,\n",
    "                      'NaiveBayes': nb,\n",
    "                      'PolynomialRegression': pr,\n",
    "                      'DecisionTree': dt,\n",
    "                      'RandomForest': rf,\n",
    "                      'KNN': knn}"
   ]
  },
  {
   "cell_type": "markdown",
   "id": "parental-peoples",
   "metadata": {},
   "source": [
    "#### Evaluating on df_stat"
   ]
  },
  {
   "cell_type": "code",
   "execution_count": 61,
   "id": "nonprofit-entity",
   "metadata": {
    "ExecuteTime": {
     "end_time": "2021-12-14T00:21:37.640552Z",
     "start_time": "2021-12-14T00:21:09.939831Z"
    }
   },
   "outputs": [
    {
     "name": "stdout",
     "output_type": "stream",
     "text": [
      "DummyRegressor            Mean R2: -0.0,   STD: 0.0\n",
      "NaiveBayes                Mean R2: 0.457,   STD: 0.076\n",
      "PolynomialRegression      Mean R2: 0.817,   STD: 0.027\n",
      "DecisionTree              Mean R2: 0.844,   STD: 0.026\n",
      "RandomForest              Mean R2: 0.917,   STD: 0.025\n",
      "KNN                       Mean R2: 0.779,   STD: 0.027\n"
     ]
    }
   ],
   "source": [
    "for name, model in updated_model_dict.items():\n",
    "    if name.startswith('Poly'):\n",
    "        eval_tuple = evaluate_model(df_stat, (name, model), 'r2', poly_deg=3)\n",
    "    else:\n",
    "        eval_tuple = evaluate_model(df_stat, (name, model), 'r2')\n",
    "        \n",
    "    print(f'{name:25} Mean R2: {eval_tuple[0]},   STD: {eval_tuple[1]}')"
   ]
  },
  {
   "cell_type": "code",
   "execution_count": 62,
   "id": "measured-hygiene",
   "metadata": {
    "ExecuteTime": {
     "end_time": "2021-12-14T00:22:06.019614Z",
     "start_time": "2021-12-14T00:21:37.642085Z"
    }
   },
   "outputs": [
    {
     "name": "stdout",
     "output_type": "stream",
     "text": [
      "DummyRegressor            Mean RMSE: 18207190.152,   STD: 1236168.269\n",
      "NaiveBayes                Mean RMSE: 13351085.783,   STD: 868956.543\n",
      "PolynomialRegression      Mean RMSE: 7741599.158,   STD: 506841.129\n",
      "DecisionTree              Mean RMSE: 7179426.079,   STD: 873139.182\n",
      "RandomForest              Mean RMSE: 5235527.316,   STD: 1098967.549\n",
      "KNN                       Mean RMSE: 8574314.425,   STD: 1033394.889\n"
     ]
    }
   ],
   "source": [
    "for name, model in updated_model_dict.items():\n",
    "    if name.startswith('Poly'):\n",
    "        eval_tuple = evaluate_model(df_stat, (name, model), 'rmse', poly_deg=3)\n",
    "    else:\n",
    "        eval_tuple = evaluate_model(df_stat, (name, model), 'rmse')\n",
    "        \n",
    "    print(f'{name:25} Mean RMSE: {eval_tuple[0]},   STD: {eval_tuple[1]}')"
   ]
  },
  {
   "cell_type": "code",
   "execution_count": 63,
   "id": "turkish-trinity",
   "metadata": {
    "ExecuteTime": {
     "end_time": "2021-12-14T00:22:34.191064Z",
     "start_time": "2021-12-14T00:22:06.022670Z"
    }
   },
   "outputs": [
    {
     "name": "stdout",
     "output_type": "stream",
     "text": [
      "DummyRegressor            Mean MAE: 11411453.811,   STD: 482498.539\n",
      "NaiveBayes                Mean MAE: 7461524.901,   STD: 615183.371\n",
      "PolynomialRegression      Mean MAE: 4944883.634,   STD: 139701.007\n",
      "DecisionTree              Mean MAE: 2756386.414,   STD: 162955.902\n",
      "RandomForest              Mean MAE: 2052633.321,   STD: 197428.037\n",
      "KNN                       Mean MAE: 4022419.016,   STD: 196409.718\n"
     ]
    }
   ],
   "source": [
    "for name, model in updated_model_dict.items():\n",
    "    if name.startswith('Poly'):\n",
    "        eval_tuple = evaluate_model(df_stat, (name, model), 'mae', poly_deg=3)\n",
    "    else:\n",
    "        eval_tuple = evaluate_model(df_stat, (name, model), 'mae')\n",
    "        \n",
    "    print(f'{name:25} Mean MAE: {eval_tuple[0]},   STD: {eval_tuple[1]}')"
   ]
  },
  {
   "cell_type": "markdown",
   "id": "cathedral-webster",
   "metadata": {},
   "source": [
    "#### Evaluating on df_full"
   ]
  },
  {
   "cell_type": "code",
   "execution_count": 64,
   "id": "resident-chemical",
   "metadata": {
    "ExecuteTime": {
     "end_time": "2021-12-14T00:23:07.366090Z",
     "start_time": "2021-12-14T00:22:34.192983Z"
    }
   },
   "outputs": [
    {
     "name": "stdout",
     "output_type": "stream",
     "text": [
      "DummyRegressor            Mean R2: -0.0,   STD: 0.0\n",
      "NaiveBayes                Mean R2: 0.527,   STD: 0.089\n",
      "PolynomialRegression      Mean R2: 0.957,   STD: 0.01\n",
      "DecisionTree              Mean R2: 0.916,   STD: 0.016\n",
      "RandomForest              Mean R2: 0.942,   STD: 0.027\n",
      "KNN                       Mean R2: 0.776,   STD: 0.023\n"
     ]
    }
   ],
   "source": [
    "for name, model in updated_model_dict.items():\n",
    "    if name.startswith('Poly'):\n",
    "        eval_tuple = evaluate_model(df_full, (name, model), 'r2', poly_deg=3)\n",
    "    else:\n",
    "        eval_tuple = evaluate_model(df_full, (name, model), 'r2')\n",
    "        \n",
    "    print(f'{name:25} Mean R2: {eval_tuple[0]},   STD: {eval_tuple[1]}')"
   ]
  },
  {
   "cell_type": "code",
   "execution_count": 65,
   "id": "clean-thanksgiving",
   "metadata": {
    "ExecuteTime": {
     "end_time": "2021-12-14T00:23:42.043287Z",
     "start_time": "2021-12-14T00:23:07.368005Z"
    }
   },
   "outputs": [
    {
     "name": "stdout",
     "output_type": "stream",
     "text": [
      "DummyRegressor            Mean RMSE: 18207190.152,   STD: 1236168.269\n",
      "NaiveBayes                Mean RMSE: 12425794.42,   STD: 1207226.186\n",
      "PolynomialRegression      Mean RMSE: 3752405.533,   STD: 423138.456\n",
      "DecisionTree              Mean RMSE: 5283267.022,   STD: 824396.619\n",
      "RandomForest              Mean RMSE: 4316806.086,   STD: 1346253.746\n",
      "KNN                       Mean RMSE: 8621742.897,   STD: 964872.533\n"
     ]
    }
   ],
   "source": [
    "for name, model in updated_model_dict.items():\n",
    "    if name.startswith('Poly'):\n",
    "        eval_tuple = evaluate_model(df_full, (name, model), 'rmse', poly_deg=3)\n",
    "    else:\n",
    "        eval_tuple = evaluate_model(df_full, (name, model), 'rmse')\n",
    "        \n",
    "    print(f'{name:25} Mean RMSE: {eval_tuple[0]},   STD: {eval_tuple[1]}')"
   ]
  },
  {
   "cell_type": "code",
   "execution_count": 66,
   "id": "undefined-frequency",
   "metadata": {
    "ExecuteTime": {
     "end_time": "2021-12-14T00:24:15.467458Z",
     "start_time": "2021-12-14T00:23:42.045261Z"
    }
   },
   "outputs": [
    {
     "name": "stdout",
     "output_type": "stream",
     "text": [
      "DummyRegressor            Mean MAE: 11411453.811,   STD: 482498.539\n",
      "NaiveBayes                Mean MAE: 7657330.254,   STD: 568828.367\n",
      "PolynomialRegression      Mean MAE: 2332422.456,   STD: 46184.688\n",
      "DecisionTree              Mean MAE: 1729830.805,   STD: 84507.329\n",
      "RandomForest              Mean MAE: 1339820.248,   STD: 168666.022\n",
      "KNN                       Mean MAE: 4074139.263,   STD: 168605.889\n"
     ]
    }
   ],
   "source": [
    "for name, model in updated_model_dict.items():\n",
    "    if name.startswith('Poly'):\n",
    "        eval_tuple = evaluate_model(df_full, (name, model), 'mae', poly_deg=3)\n",
    "    else:\n",
    "        eval_tuple = evaluate_model(df_full, (name, model), 'mae')\n",
    "        \n",
    "    print(f'{name:25} Mean MAE: {eval_tuple[0]},   STD: {eval_tuple[1]}')"
   ]
  },
  {
   "cell_type": "markdown",
   "id": "sexual-duplicate",
   "metadata": {},
   "source": [
    "**Observation**: Polynomial Regression (PR) and Random Forest (RF) were the two best performing metrics. While PR edged out in ${R^2}$ and RMSE, RF had better MAE. PR, however, took longer to build and execute - although this maybe down to the fact that the polynomial feature creation was also included in the model evaluation function."
   ]
  },
  {
   "cell_type": "code",
   "execution_count": 67,
   "id": "hybrid-battle",
   "metadata": {
    "ExecuteTime": {
     "end_time": "2021-12-14T00:24:15.472458Z",
     "start_time": "2021-12-14T00:24:15.469394Z"
    }
   },
   "outputs": [],
   "source": [
    "pr = LinearRegression()\n",
    "dt = DecisionTreeRegressor(criterion='mae', min_samples_split=7, random_state=SEED)\n",
    "rf = RandomForestRegressor(criterion = 'mse', max_depth = 8, n_estimators = 15, random_state=SEED)\n",
    "\n",
    "final_model_dict = {'PolynomialRegression': pr,\n",
    "                    'DecisionTree': dt,\n",
    "                    'RandomForest': rf}"
   ]
  },
  {
   "cell_type": "markdown",
   "id": "whole-presentation",
   "metadata": {},
   "source": [
    "### Tradeoff Analysis"
   ]
  },
  {
   "cell_type": "markdown",
   "id": "civilian-haven",
   "metadata": {},
   "source": [
    "#### Bias vs Variance"
   ]
  },
  {
   "cell_type": "code",
   "execution_count": 68,
   "id": "threaded-constant",
   "metadata": {
    "ExecuteTime": {
     "end_time": "2021-12-14T00:24:15.506986Z",
     "start_time": "2021-12-14T00:24:15.501363Z"
    },
    "code_folding": [
     0
    ]
   },
   "outputs": [],
   "source": [
    "def calc_tradeoff(df, model, is_poly=False):\n",
    "#     bias_list = []\n",
    "#     variance_list = []\n",
    "    \n",
    "    X = df.drop('Market Value', axis=1).values\n",
    "    y = df['Market Value'].values\n",
    "    \n",
    "    X_train, X_test, y_train, y_test = train_test_split(X, y)\n",
    "    scaler = MinMaxScaler()\n",
    "    X_train_scaled = scaler.fit_transform(X_train)\n",
    "    X_test_scaled = scaler.transform(X_test)\n",
    "\n",
    "    if is_poly:\n",
    "        poly = PolynomialFeatures(3)\n",
    "        X_train_poly = poly.fit_transform(X_train_scaled)\n",
    "        X_test_poly = poly.transform(X_test_scaled)\n",
    "        mse, bias, var = bias_variance_decomp(model, X_train_poly, y_train, X_test_poly, y_test,\n",
    "                                              loss='mse', random_seed=SEED)\n",
    "\n",
    "    else:\n",
    "        mse, bias, var = bias_variance_decomp(model, X_train_scaled, y_train, X_test_scaled, y_test,\n",
    "                                              loss='mse', random_seed=SEED)\n",
    "\n",
    "#     bias_list.append(bias/mse)\n",
    "#     variance_list.append(var/mse)\n",
    "#         if metric=='r2':\n",
    "#             scores.append(r2_score(y_test, y_pred))\n",
    "#         elif metric=='rmse':\n",
    "#             scores.append(mean_squared_error(y_test, y_pred, squared=False))\n",
    "#         elif metric=='mae':\n",
    "#             scores.append(mean_absolute_error(y_test, y_pred))\n",
    "    \n",
    "#     mean_bias = round(np.mean(bias_list), 3)\n",
    "#     mean_variance = round(np.std(variance_list), 3)\n",
    "    mean_bias = round(bias/mse)\n",
    "    mean_variance = round(var/mse)\n",
    "#     rmse_mean = np.format_float_scientific(np.mean(rmse_scores), precision = 2, exp_digits=1)\n",
    "#     mae_mean = np.format_float_scientific(np.mean(mae_scores), precision = 2, exp_digits=1)\n",
    "    \n",
    "    return (mean_bias, mean_variance)"
   ]
  },
  {
   "cell_type": "code",
   "execution_count": 69,
   "id": "downtown-probe",
   "metadata": {
    "ExecuteTime": {
     "end_time": "2021-12-14T00:25:17.629743Z",
     "start_time": "2021-12-14T00:24:15.517805Z"
    }
   },
   "outputs": [],
   "source": [
    "bias_pct_list = []\n",
    "var_pct_list = []\n",
    "\n",
    "# PR\n",
    "poly = PolynomialFeatures(3)\n",
    "X_train_poly = poly.fit_transform(X_full_train_scaled)\n",
    "X_test_poly = poly.transform(X_full_test_scaled)\n",
    "\n",
    "mse, bias, var = bias_variance_decomp(updated_model_dict['DecisionTree'], X_full_train_scaled, y_full_train.values,\n",
    "                                      X_full_test_scaled, y_full_test.values,\n",
    "                                      loss='mse', random_seed=SEED)\n",
    "\n",
    "bias_pct_list.append(bias/mse)\n",
    "var_pct_list.append(var/mse)\n",
    "\n",
    "# DT\n",
    "mse, bias, var = bias_variance_decomp(updated_model_dict['DecisionTree'], X_full_train_scaled, y_full_train.values,\n",
    "                                      X_full_test_scaled, y_full_test.values,\n",
    "                                      loss='mse', random_seed=SEED)\n",
    "\n",
    "bias_pct_list.append(bias/mse)\n",
    "var_pct_list.append(var/mse)\n",
    "\n",
    "# RF\n",
    "mse, bias, var = bias_variance_decomp(updated_model_dict['RandomForest'], X_full_train_scaled, y_full_train.values,\n",
    "                                      X_full_test_scaled, y_full_test.values,\n",
    "                                      loss='mse', random_seed=SEED)\n",
    "\n",
    "bias_pct_list.append(bias/mse)\n",
    "var_pct_list.append(var/mse)"
   ]
  },
  {
   "cell_type": "code",
   "execution_count": 70,
   "id": "internal-stretch",
   "metadata": {
    "ExecuteTime": {
     "end_time": "2021-12-14T00:25:17.635138Z",
     "start_time": "2021-12-14T00:25:17.631803Z"
    }
   },
   "outputs": [
    {
     "name": "stdout",
     "output_type": "stream",
     "text": [
      "[0.24170583321803665, 0.24170583321803665, 0.6432355455648452]\n",
      "[0.7582941667819633, 0.7582941667819633, 0.356764454435155]\n"
     ]
    }
   ],
   "source": [
    "print(bias_pct_list)\n",
    "print(var_pct_list)"
   ]
  },
  {
   "cell_type": "code",
   "execution_count": 71,
   "id": "compliant-alliance",
   "metadata": {
    "ExecuteTime": {
     "end_time": "2021-12-14T00:25:17.648312Z",
     "start_time": "2021-12-14T00:25:17.641653Z"
    }
   },
   "outputs": [],
   "source": [
    "bias_var_df = pd.DataFrame(index=['Polynomial Regression', 'Decision Tree','Random Forest'],\n",
    "                          data={'Bias %':bias_pct_list, 'Variance %':var_pct_list})\n",
    "\n",
    "bias_var_df['Bias %'] = bias_var_df['Bias %']* 100\n",
    "bias_var_df['Variance %'] = bias_var_df['Variance %']* 100"
   ]
  },
  {
   "cell_type": "code",
   "execution_count": 110,
   "id": "continuous-government",
   "metadata": {
    "ExecuteTime": {
     "end_time": "2021-12-14T03:44:40.284142Z",
     "start_time": "2021-12-14T03:44:40.117503Z"
    }
   },
   "outputs": [
    {
     "data": {
      "image/png": "[encoded data removed]",
      "text/plain": [
       "<Figure size 432x288 with 1 Axes>"
      ]
     },
     "metadata": {
      "needs_background": "light"
     },
     "output_type": "display_data"
    }
   ],
   "source": [
    "bias_var_df.plot(kind='bar', stacked=True)\n",
    "plt.xticks(rotation=15)\n",
    "plt.ylabel('% of Total Error')\n",
    "plt.title('Bias-Variance Tradeoff')\n",
    "plt.show()"
   ]
  },
  {
   "cell_type": "markdown",
   "id": "beautiful-trick",
   "metadata": {},
   "source": [
    "### Sensitivity Analysis"
   ]
  },
  {
   "cell_type": "markdown",
   "id": "improving-riverside",
   "metadata": {},
   "source": [
    "For this section we will look at the effect of tweaking one **key** hyperparameter for each of our 3 best performing models. The parameters we will tune are:\n",
    "\n",
    "1. Polynomial Regression - Polynomial Degree\n",
    "2. Decision Tree - `min_sample_split`\n",
    "2. Random Forest - `n_estimators`"
   ]
  },
  {
   "cell_type": "code",
   "execution_count": 82,
   "id": "stone-referral",
   "metadata": {
    "ExecuteTime": {
     "end_time": "2021-12-14T01:36:54.586039Z",
     "start_time": "2021-12-14T01:29:32.343795Z"
    },
    "code_folding": [
     0
    ]
   },
   "outputs": [
    {
     "ename": "KeyboardInterrupt",
     "evalue": "",
     "output_type": "error",
     "traceback": [
      "\u001b[0;31m---------------------------------------------------------------------------\u001b[0m",
      "\u001b[0;31mKeyboardInterrupt\u001b[0m                         Traceback (most recent call last)",
      "\u001b[0;32m<ipython-input-82-bfb47fa1c387>\u001b[0m in \u001b[0;36m<module>\u001b[0;34m\u001b[0m\n\u001b[1;32m     26\u001b[0m         \u001b[0mX_test_poly\u001b[0m \u001b[0;34m=\u001b[0m \u001b[0mpoly\u001b[0m\u001b[0;34m.\u001b[0m\u001b[0mtransform\u001b[0m\u001b[0;34m(\u001b[0m\u001b[0mX_test_scaled\u001b[0m\u001b[0;34m)\u001b[0m\u001b[0;34m\u001b[0m\u001b[0;34m\u001b[0m\u001b[0m\n\u001b[1;32m     27\u001b[0m \u001b[0;34m\u001b[0m\u001b[0m\n\u001b[0;32m---> 28\u001b[0;31m         \u001b[0mmodel\u001b[0m\u001b[0;34m.\u001b[0m\u001b[0mfit\u001b[0m\u001b[0;34m(\u001b[0m\u001b[0mX_train_poly\u001b[0m\u001b[0;34m,\u001b[0m \u001b[0my_train\u001b[0m\u001b[0;34m)\u001b[0m\u001b[0;34m\u001b[0m\u001b[0;34m\u001b[0m\u001b[0m\n\u001b[0m\u001b[1;32m     29\u001b[0m         \u001b[0my_pred\u001b[0m \u001b[0;34m=\u001b[0m \u001b[0mmodel\u001b[0m\u001b[0;34m.\u001b[0m\u001b[0mpredict\u001b[0m\u001b[0;34m(\u001b[0m\u001b[0mX_test_poly\u001b[0m\u001b[0;34m)\u001b[0m\u001b[0;34m\u001b[0m\u001b[0;34m\u001b[0m\u001b[0m\n\u001b[1;32m     30\u001b[0m         \u001b[0mdeg_r2_score\u001b[0m\u001b[0;34m.\u001b[0m\u001b[0mappend\u001b[0m\u001b[0;34m(\u001b[0m\u001b[0mr2_score\u001b[0m\u001b[0;34m(\u001b[0m\u001b[0my_test\u001b[0m\u001b[0;34m,\u001b[0m \u001b[0my_pred\u001b[0m\u001b[0;34m)\u001b[0m\u001b[0;34m)\u001b[0m\u001b[0;34m\u001b[0m\u001b[0;34m\u001b[0m\u001b[0m\n",
      "\u001b[0;32m/opt/anaconda3/lib/python3.8/site-packages/sklearn/linear_model/_base.py\u001b[0m in \u001b[0;36mfit\u001b[0;34m(self, X, y, sample_weight)\u001b[0m\n\u001b[1;32m    545\u001b[0m         \u001b[0;32melse\u001b[0m\u001b[0;34m:\u001b[0m\u001b[0;34m\u001b[0m\u001b[0;34m\u001b[0m\u001b[0m\n\u001b[1;32m    546\u001b[0m             \u001b[0mself\u001b[0m\u001b[0;34m.\u001b[0m\u001b[0mcoef_\u001b[0m\u001b[0;34m,\u001b[0m \u001b[0mself\u001b[0m\u001b[0;34m.\u001b[0m\u001b[0m_residues\u001b[0m\u001b[0;34m,\u001b[0m \u001b[0mself\u001b[0m\u001b[0;34m.\u001b[0m\u001b[0mrank_\u001b[0m\u001b[0;34m,\u001b[0m \u001b[0mself\u001b[0m\u001b[0;34m.\u001b[0m\u001b[0msingular_\u001b[0m \u001b[0;34m=\u001b[0m\u001b[0;31m \u001b[0m\u001b[0;31m\\\u001b[0m\u001b[0;34m\u001b[0m\u001b[0;34m\u001b[0m\u001b[0m\n\u001b[0;32m--> 547\u001b[0;31m                 \u001b[0mlinalg\u001b[0m\u001b[0;34m.\u001b[0m\u001b[0mlstsq\u001b[0m\u001b[0;34m(\u001b[0m\u001b[0mX\u001b[0m\u001b[0;34m,\u001b[0m \u001b[0my\u001b[0m\u001b[0;34m)\u001b[0m\u001b[0;34m\u001b[0m\u001b[0;34m\u001b[0m\u001b[0m\n\u001b[0m\u001b[1;32m    548\u001b[0m             \u001b[0mself\u001b[0m\u001b[0;34m.\u001b[0m\u001b[0mcoef_\u001b[0m \u001b[0;34m=\u001b[0m \u001b[0mself\u001b[0m\u001b[0;34m.\u001b[0m\u001b[0mcoef_\u001b[0m\u001b[0;34m.\u001b[0m\u001b[0mT\u001b[0m\u001b[0;34m\u001b[0m\u001b[0;34m\u001b[0m\u001b[0m\n\u001b[1;32m    549\u001b[0m \u001b[0;34m\u001b[0m\u001b[0m\n",
      "\u001b[0;32m/opt/anaconda3/lib/python3.8/site-packages/scipy/linalg/basic.py\u001b[0m in \u001b[0;36mlstsq\u001b[0;34m(a, b, cond, overwrite_a, overwrite_b, check_finite, lapack_driver)\u001b[0m\n\u001b[1;32m   1197\u001b[0m             \u001b[0;32mif\u001b[0m \u001b[0mreal_data\u001b[0m\u001b[0;34m:\u001b[0m\u001b[0;34m\u001b[0m\u001b[0;34m\u001b[0m\u001b[0m\n\u001b[1;32m   1198\u001b[0m                 \u001b[0mlwork\u001b[0m\u001b[0;34m,\u001b[0m \u001b[0miwork\u001b[0m \u001b[0;34m=\u001b[0m \u001b[0m_compute_lwork\u001b[0m\u001b[0;34m(\u001b[0m\u001b[0mlapack_lwork\u001b[0m\u001b[0;34m,\u001b[0m \u001b[0mm\u001b[0m\u001b[0;34m,\u001b[0m \u001b[0mn\u001b[0m\u001b[0;34m,\u001b[0m \u001b[0mnrhs\u001b[0m\u001b[0;34m,\u001b[0m \u001b[0mcond\u001b[0m\u001b[0;34m)\u001b[0m\u001b[0;34m\u001b[0m\u001b[0;34m\u001b[0m\u001b[0m\n\u001b[0;32m-> 1199\u001b[0;31m                 x, s, rank, info = lapack_func(a1, b1, lwork,\n\u001b[0m\u001b[1;32m   1200\u001b[0m                                                iwork, cond, False, False)\n\u001b[1;32m   1201\u001b[0m             \u001b[0;32melse\u001b[0m\u001b[0;34m:\u001b[0m  \u001b[0;31m# complex data\u001b[0m\u001b[0;34m\u001b[0m\u001b[0;34m\u001b[0m\u001b[0m\n",
      "\u001b[0;31mKeyboardInterrupt\u001b[0m: "
     ]
    }
   ],
   "source": [
    "# deg = list(range(2,5))\n",
    "\n",
    "# kfold = KFold(n_splits=5, shuffle=True, random_state=SEED)\n",
    "\n",
    "# X = df_full.drop('Market Value', axis=1)\n",
    "# y = df_full['Market Value']\n",
    "\n",
    "# model = final_model_dict['PolynomialRegression']\n",
    "\n",
    "# for i in deg:\n",
    "#     deg_r2_score = []\n",
    "#     for train_idx, test_idx in kfold.split(X):\n",
    "\n",
    "#         X_train = X.iloc[train_idx]\n",
    "#         X_test = X.iloc[test_idx]\n",
    "\n",
    "#         y_train = y.iloc[train_idx]\n",
    "#         y_test = y.iloc[test_idx]\n",
    "\n",
    "#         scaler = MinMaxScaler()\n",
    "#         X_train_scaled = scaler.fit_transform(X_train)\n",
    "#         X_test_scaled = scaler.transform(X_test)\n",
    "\n",
    "#         poly = PolynomialFeatures(i)\n",
    "#         X_train_poly = poly.fit_transform(X_train_scaled)\n",
    "#         X_test_poly = poly.transform(X_test_scaled)\n",
    "\n",
    "#         model.fit(X_train_poly, y_train)\n",
    "#         y_pred = model.predict(X_test_poly)\n",
    "#         deg_r2_score.append(r2_score(y_test, y_pred))"
   ]
  },
  {
   "cell_type": "code",
   "execution_count": 73,
   "id": "convertible-lawsuit",
   "metadata": {
    "ExecuteTime": {
     "end_time": "2021-12-14T01:12:23.856702Z",
     "start_time": "2021-12-14T01:12:21.748058Z"
    }
   },
   "outputs": [],
   "source": [
    "min_samples = range(2, 10)\n",
    "\n",
    "kfold = KFold(n_splits=5, shuffle=True, random_state=SEED)\n",
    "\n",
    "X = df_full.drop('Market Value', axis=1)\n",
    "y = df_full['Market Value']\n",
    "\n",
    "dt_r2_scores = []\n",
    "for i in min_samples:\n",
    "    model = DecisionTreeRegressor(min_samples_split=i)\n",
    "    min_samp_r2_score = []\n",
    "    for train_idx, test_idx in kfold.split(X):\n",
    "\n",
    "        X_train = X.iloc[train_idx]\n",
    "        X_test = X.iloc[test_idx]\n",
    "\n",
    "        y_train = y.iloc[train_idx]\n",
    "        y_test = y.iloc[test_idx]\n",
    "\n",
    "        scaler = MinMaxScaler()\n",
    "        X_train_scaled = scaler.fit_transform(X_train)\n",
    "        X_test_scaled = scaler.transform(X_test)\n",
    "        \n",
    "        model.fit(X_train_scaled, y_train)\n",
    "        y_pred = model.predict(X_test_scaled)\n",
    "        min_samp_r2_score.append(r2_score(y_test, y_pred))\n",
    "\n",
    "    dt_r2_scores.append(np.mean(min_samp_r2_score))"
   ]
  },
  {
   "cell_type": "code",
   "execution_count": 74,
   "id": "destroyed-stock",
   "metadata": {
    "ExecuteTime": {
     "end_time": "2021-12-14T01:12:25.325022Z",
     "start_time": "2021-12-14T01:12:25.321250Z"
    }
   },
   "outputs": [
    {
     "data": {
      "text/plain": [
       "[0.8765003316608351,\n",
       " 0.8681749325733226,\n",
       " 0.8402717551138071,\n",
       " 0.8744938412672738,\n",
       " 0.8856228588826838,\n",
       " 0.8784197037724695,\n",
       " 0.878224305987402,\n",
       " 0.8871133856824291]"
      ]
     },
     "execution_count": 74,
     "metadata": {},
     "output_type": "execute_result"
    }
   ],
   "source": [
    "dt_r2_scores"
   ]
  },
  {
   "cell_type": "code",
   "execution_count": 80,
   "id": "underlying-capital",
   "metadata": {
    "ExecuteTime": {
     "end_time": "2021-12-14T01:27:20.503447Z",
     "start_time": "2021-12-14T01:27:20.296997Z"
    }
   },
   "outputs": [
    {
     "data": {
      "text/plain": [
       "Text(0, 0.5, 'Mean R2 Score')"
      ]
     },
     "execution_count": 80,
     "metadata": {},
     "output_type": "execute_result"
    },
    {
     "data": {
      "image/png": "[encoded data removed]",
      "text/plain": [
       "<Figure size 720x432 with 1 Axes>"
      ]
     },
     "metadata": {
      "needs_background": "light"
     },
     "output_type": "display_data"
    }
   ],
   "source": [
    "plt.figure(figsize=(10,6))\n",
    "sns.lineplot(x=list(range(2, 10)), y=dt_r2_scores)\n",
    "plt.xlabel('min_samples_split')\n",
    "plt.ylabel('Mean R2 Score')"
   ]
  },
  {
   "cell_type": "code",
   "execution_count": 76,
   "id": "elementary-incident",
   "metadata": {
    "ExecuteTime": {
     "end_time": "2021-12-14T01:12:33.844756Z",
     "start_time": "2021-12-14T01:12:28.434513Z"
    }
   },
   "outputs": [],
   "source": [
    "n_estims = range(1, 21, 5)\n",
    "\n",
    "kfold = KFold(n_splits=5, shuffle=True, random_state=SEED)\n",
    "\n",
    "X = df_full.drop('Market Value', axis=1)\n",
    "y = df_full['Market Value']\n",
    "\n",
    "rf_r2_scores = []\n",
    "for i in n_estims:\n",
    "    model = RandomForestRegressor(n_estimators=i)\n",
    "    n_estim_r2_score = []\n",
    "    for train_idx, test_idx in kfold.split(X):\n",
    "\n",
    "        X_train = X.iloc[train_idx]\n",
    "        X_test = X.iloc[test_idx]\n",
    "\n",
    "        y_train = y.iloc[train_idx]\n",
    "        y_test = y.iloc[test_idx]\n",
    "\n",
    "        scaler = MinMaxScaler()\n",
    "        X_train_scaled = scaler.fit_transform(X_train)\n",
    "        X_test_scaled = scaler.transform(X_test)\n",
    "        \n",
    "        model.fit(X_train_scaled, y_train)\n",
    "        y_pred = model.predict(X_test_scaled)\n",
    "        n_estim_r2_score.append(r2_score(y_test, y_pred))\n",
    "\n",
    "    rf_r2_scores.append(np.mean(n_estim_r2_score))"
   ]
  },
  {
   "cell_type": "code",
   "execution_count": 81,
   "id": "worth-liberty",
   "metadata": {
    "ExecuteTime": {
     "end_time": "2021-12-14T01:27:24.548272Z",
     "start_time": "2021-12-14T01:27:24.389979Z"
    }
   },
   "outputs": [
    {
     "data": {
      "text/plain": [
       "Text(0, 0.5, 'Mean R2 Score')"
      ]
     },
     "execution_count": 81,
     "metadata": {},
     "output_type": "execute_result"
    },
    {
     "data": {
      "image/png": "[encoded data removed]",
      "text/plain": [
       "<Figure size 720x432 with 1 Axes>"
      ]
     },
     "metadata": {
      "needs_background": "light"
     },
     "output_type": "display_data"
    }
   ],
   "source": [
    "plt.figure(figsize=(10,6))\n",
    "sns.lineplot(x=list(range(1, 21, 5)), y=rf_r2_scores)\n",
    "plt.xlabel('n_estimators')\n",
    "plt.ylabel('Mean R2 Score')"
   ]
  },
  {
   "cell_type": "markdown",
   "id": "aggressive-complex",
   "metadata": {},
   "source": [
    "### Feature Importance"
   ]
  },
  {
   "cell_type": "code",
   "execution_count": null,
   "id": "sunset-laser",
   "metadata": {},
   "outputs": [],
   "source": [
    "n_estims = range(1, 21, 5)\n",
    "\n",
    "kfold = KFold(n_splits=5, shuffle=True, random_state=SEED)\n",
    "\n",
    "X = df_full.drop('Market Value', axis=1)\n",
    "y = df_full['Market Value']\n",
    "\n",
    "rf_r2_scores = []\n",
    "for i in n_estims:\n",
    "    model = RandomForestRegressor(n_estimators=i)\n",
    "    n_estim_r2_score = []\n",
    "    for train_idx, test_idx in kfold.split(X):\n",
    "\n",
    "        X_train = X.iloc[train_idx]\n",
    "        X_test = X.iloc[test_idx]\n",
    "\n",
    "        y_train = y.iloc[train_idx]\n",
    "        y_test = y.iloc[test_idx]\n",
    "\n",
    "        scaler = MinMaxScaler()\n",
    "        X_train_scaled = scaler.fit_transform(X_train)\n",
    "        X_test_scaled = scaler.transform(X_test)\n",
    "        \n",
    "        model.fit(X_train_scaled, y_train)\n",
    "        y_pred = model.predict(X_test_scaled)\n",
    "        n_estim_r2_score.append(r2_score(y_test, y_pred))\n",
    "\n",
    "    rf_r2_scores.append(np.mean(n_estim_r2_score))"
   ]
  },
  {
   "cell_type": "code",
   "execution_count": 85,
   "id": "satisfied-entrepreneur",
   "metadata": {
    "ExecuteTime": {
     "end_time": "2021-12-14T01:45:38.911483Z",
     "start_time": "2021-12-14T01:45:38.668778Z"
    }
   },
   "outputs": [
    {
     "data": {
      "image/png": "[encoded data removed]",
      "text/plain": [
       "<Figure size 1152x432 with 1 Axes>"
      ]
     },
     "metadata": {
      "needs_background": "light"
     },
     "output_type": "display_data"
    }
   ],
   "source": [
    "plt.figure(figsize=(16,6))\n",
    "plt.xticks(rotation=90)\n",
    "rf_feat = final_model_dict['RandomForest'].fit(X_full_train_scaled, y_full_train)\n",
    "sns.barplot(y=rf_feat.feature_importances_, x=X_full_train.columns, palette='Blues_r')\n",
    "plt.title('Tree-Based Feature Importances')\n",
    "plt.xlabel('Feature Name')\n",
    "plt.ylabel('Feature Importance')\n",
    "plt.show()"
   ]
  },
  {
   "cell_type": "markdown",
   "id": "funded-future",
   "metadata": {},
   "source": [
    "### Failure Analysis"
   ]
  },
  {
   "cell_type": "code",
   "execution_count": 86,
   "id": "dominant-mapping",
   "metadata": {
    "ExecuteTime": {
     "end_time": "2021-12-14T03:06:32.568346Z",
     "start_time": "2021-12-14T03:06:32.479839Z"
    }
   },
   "outputs": [],
   "source": [
    "rf_final = final_model_dict['RandomForest'].fit(X_full_train_scaled, y_full_train)\n",
    "y_full_pred = rf_final.predict(X_full_test_scaled)"
   ]
  },
  {
   "cell_type": "code",
   "execution_count": 87,
   "id": "liberal-hormone",
   "metadata": {
    "ExecuteTime": {
     "end_time": "2021-12-14T03:07:58.388770Z",
     "start_time": "2021-12-14T03:07:58.380518Z"
    }
   },
   "outputs": [
    {
     "data": {
      "text/html": [
       "<div>\n",
       "<style scoped>\n",
       "    .dataframe tbody tr th:only-of-type {\n",
       "        vertical-align: middle;\n",
       "    }\n",
       "\n",
       "    .dataframe tbody tr th {\n",
       "        vertical-align: top;\n",
       "    }\n",
       "\n",
       "    .dataframe thead th {\n",
       "        text-align: right;\n",
       "    }\n",
       "</style>\n",
       "<table border=\"1\" class=\"dataframe\">\n",
       "  <thead>\n",
       "    <tr style=\"text-align: right;\">\n",
       "      <th></th>\n",
       "      <th>True Value</th>\n",
       "      <th>Predicted Value</th>\n",
       "    </tr>\n",
       "  </thead>\n",
       "  <tbody>\n",
       "    <tr>\n",
       "      <th>913</th>\n",
       "      <td>18000000.0</td>\n",
       "      <td>1.750085e+07</td>\n",
       "    </tr>\n",
       "    <tr>\n",
       "      <th>2307</th>\n",
       "      <td>4100000.0</td>\n",
       "      <td>3.952055e+06</td>\n",
       "    </tr>\n",
       "    <tr>\n",
       "      <th>2558</th>\n",
       "      <td>6500000.0</td>\n",
       "      <td>6.958323e+06</td>\n",
       "    </tr>\n",
       "    <tr>\n",
       "      <th>1119</th>\n",
       "      <td>18500000.0</td>\n",
       "      <td>1.869492e+07</td>\n",
       "    </tr>\n",
       "    <tr>\n",
       "      <th>2900</th>\n",
       "      <td>1900000.0</td>\n",
       "      <td>2.343969e+06</td>\n",
       "    </tr>\n",
       "  </tbody>\n",
       "</table>\n",
       "</div>"
      ],
      "text/plain": [
       "      True Value  Predicted Value\n",
       "913   18000000.0     1.750085e+07\n",
       "2307   4100000.0     3.952055e+06\n",
       "2558   6500000.0     6.958323e+06\n",
       "1119  18500000.0     1.869492e+07\n",
       "2900   1900000.0     2.343969e+06"
      ]
     },
     "execution_count": 87,
     "metadata": {},
     "output_type": "execute_result"
    }
   ],
   "source": [
    "comp_df = pd.DataFrame({'True Value': y_full_test, 'Predicted Value': y_full_pred})\n",
    "comp_df.head()"
   ]
  },
  {
   "cell_type": "code",
   "execution_count": 94,
   "id": "internal-marble",
   "metadata": {
    "ExecuteTime": {
     "end_time": "2021-12-14T03:10:12.200504Z",
     "start_time": "2021-12-14T03:10:12.194276Z"
    }
   },
   "outputs": [],
   "source": [
    "comp_df['Difference'] = abs(comp_df['True Value'] - comp_df['Predicted Value'])"
   ]
  },
  {
   "cell_type": "code",
   "execution_count": 99,
   "id": "preliminary-economy",
   "metadata": {
    "ExecuteTime": {
     "end_time": "2021-12-14T03:12:07.607795Z",
     "start_time": "2021-12-14T03:12:07.603318Z"
    }
   },
   "outputs": [],
   "source": [
    "comp_df.sort_values(by=['Difference'], inplace=True, ascending=False)"
   ]
  },
  {
   "cell_type": "code",
   "execution_count": 104,
   "id": "prescribed-steel",
   "metadata": {
    "ExecuteTime": {
     "end_time": "2021-12-14T03:14:35.920455Z",
     "start_time": "2021-12-14T03:14:35.905996Z"
    }
   },
   "outputs": [
    {
     "data": {
      "text/html": [
       "<div>\n",
       "<style scoped>\n",
       "    .dataframe tbody tr th:only-of-type {\n",
       "        vertical-align: middle;\n",
       "    }\n",
       "\n",
       "    .dataframe tbody tr th {\n",
       "        vertical-align: top;\n",
       "    }\n",
       "\n",
       "    .dataframe thead th {\n",
       "        text-align: right;\n",
       "    }\n",
       "</style>\n",
       "<table border=\"1\" class=\"dataframe\">\n",
       "  <thead>\n",
       "    <tr style=\"text-align: right;\">\n",
       "      <th></th>\n",
       "      <th>True Value</th>\n",
       "      <th>Predicted Value</th>\n",
       "      <th>Difference</th>\n",
       "      <th>Player</th>\n",
       "    </tr>\n",
       "  </thead>\n",
       "  <tbody>\n",
       "    <tr>\n",
       "      <th>15</th>\n",
       "      <td>101000000.0</td>\n",
       "      <td>1.264467e+08</td>\n",
       "      <td>2.544667e+07</td>\n",
       "      <td>Thibaut Courtois</td>\n",
       "    </tr>\n",
       "    <tr>\n",
       "      <th>22</th>\n",
       "      <td>53000000.0</td>\n",
       "      <td>7.686000e+07</td>\n",
       "      <td>2.386000e+07</td>\n",
       "      <td>Luis Suárez</td>\n",
       "    </tr>\n",
       "    <tr>\n",
       "      <th>27</th>\n",
       "      <td>111000000.0</td>\n",
       "      <td>8.922367e+07</td>\n",
       "      <td>2.177633e+07</td>\n",
       "      <td>Raheem Sterling</td>\n",
       "    </tr>\n",
       "    <tr>\n",
       "      <th>4</th>\n",
       "      <td>148000000.0</td>\n",
       "      <td>1.272000e+08</td>\n",
       "      <td>2.080000e+07</td>\n",
       "      <td>Kevin De Bruyne</td>\n",
       "    </tr>\n",
       "    <tr>\n",
       "      <th>9</th>\n",
       "      <td>96500000.0</td>\n",
       "      <td>1.152341e+08</td>\n",
       "      <td>1.873410e+07</td>\n",
       "      <td>Alisson</td>\n",
       "    </tr>\n",
       "  </tbody>\n",
       "</table>\n",
       "</div>"
      ],
      "text/plain": [
       "     True Value  Predicted Value    Difference            Player\n",
       "15  101000000.0     1.264467e+08  2.544667e+07  Thibaut Courtois\n",
       "22   53000000.0     7.686000e+07  2.386000e+07       Luis Suárez\n",
       "27  111000000.0     8.922367e+07  2.177633e+07   Raheem Sterling\n",
       "4   148000000.0     1.272000e+08  2.080000e+07   Kevin De Bruyne\n",
       "9    96500000.0     1.152341e+08  1.873410e+07           Alisson"
      ]
     },
     "execution_count": 104,
     "metadata": {},
     "output_type": "execute_result"
    }
   ],
   "source": [
    "comp_df.merge(df['Player'],left_index=True, right_index=True).head()"
   ]
  },
  {
   "cell_type": "code",
   "execution_count": 107,
   "id": "classical-georgia",
   "metadata": {
    "ExecuteTime": {
     "end_time": "2021-12-14T03:22:53.989340Z",
     "start_time": "2021-12-14T03:22:53.806734Z"
    }
   },
   "outputs": [
    {
     "data": {
      "image/png": "[encoded data removed]",
      "text/plain": [
       "<Figure size 1152x720 with 1 Axes>"
      ]
     },
     "metadata": {
      "needs_background": "light"
     },
     "output_type": "display_data"
    }
   ],
   "source": [
    "plt.figure(figsize=(16,10))\n",
    "sns.scatterplot('True Value', 'Difference', data=comp_df)\n",
    "plt.title('True Value vs Value Difference')\n",
    "plt.show()"
   ]
  },
  {
   "cell_type": "code",
   "execution_count": null,
   "id": "muslim-diagnosis",
   "metadata": {},
   "outputs": [],
   "source": []
  }
 ],
 "metadata": {
  "kernelspec": {
   "display_name": "Python 3",
   "language": "python",
   "name": "python3"
  },
  "language_info": {
   "codemirror_mode": {
    "name": "ipython",
    "version": 3
   },
   "file_extension": ".py",
   "mimetype": "text/x-python",
   "name": "python",
   "nbconvert_exporter": "python",
   "pygments_lexer": "ipython3",
   "version": "3.8.2"
  },
  "varInspector": {
   "cols": {
    "lenName": 16,
    "lenType": 16,
    "lenVar": 40
   },
   "kernels_config": {
    "python": {
     "delete_cmd_postfix": "",
     "delete_cmd_prefix": "del ",
     "library": "var_list.py",
     "varRefreshCmd": "print(var_dic_list())"
    },
    "r": {
     "delete_cmd_postfix": ") ",
     "delete_cmd_prefix": "rm(",
     "library": "var_list.r",
     "varRefreshCmd": "cat(var_dic_list()) "
    }
   },
   "types_to_exclude": [
    "module",
    "function",
    "builtin_function_or_method",
    "instance",
    "_Feature"
   ],
   "window_display": false
  }
 },
 "nbformat": 4,
 "nbformat_minor": 5
}
