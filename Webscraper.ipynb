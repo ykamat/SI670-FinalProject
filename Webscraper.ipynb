{
 "cells": [
  {
   "cell_type": "code",
   "execution_count": 1,
   "id": "limited-certificate",
   "metadata": {
    "ExecuteTime": {
     "end_time": "2021-12-14T04:44:06.299000Z",
     "start_time": "2021-12-14T04:44:05.491513Z"
    }
   },
   "outputs": [],
   "source": [
    "import numpy as np\n",
    "from bs4 import BeautifulSoup\n",
    "import requests\n",
    "import pandas as pd\n",
    "import json\n",
    "from time import sleep"
   ]
  },
  {
   "cell_type": "code",
   "execution_count": 11,
   "id": "fuzzy-database",
   "metadata": {
    "ExecuteTime": {
     "end_time": "2021-12-09T16:28:43.435841Z",
     "start_time": "2021-12-09T16:14:19.851408Z"
    }
   },
   "outputs": [],
   "source": [
    "# Using Scraping\n",
    "# player_list = []\n",
    "# url = 'https://www.fifaindex.com/players/'\n",
    "\n",
    "# pageno = 1\n",
    "\n",
    "# page_dict = {}\n",
    "# cache = {}\n",
    "# for pageno in range(1, 101):\n",
    "#     response1 = requests.get('https://www.fifaindex.com/players/'+str(pageno))\n",
    "#     mainsoup = BeautifulSoup(response1.text)\n",
    "\n",
    "#     page_dict[str(pageno)] = []\n",
    "#     cache[str(pageno)] = []\n",
    "#     for tag in mainsoup.find_all('td', attrs={'data-title': 'Name'}):\n",
    "#         webpage2 = 'https://www.fifaindex.com'+str(tag.find('a')['href'])\n",
    "#         response2 = requests.get(webpage2)\n",
    "#         cache[str(pageno)].append(response2.text)\n",
    "        \n",
    "#         soup = BeautifulSoup(response2.text)\n",
    "#         page_dict[str(pageno)].append(soup)\n",
    "\n",
    "#     sleep(3)"
   ]
  },
  {
   "cell_type": "code",
   "execution_count": 2,
   "id": "loving-grain",
   "metadata": {
    "ExecuteTime": {
     "end_time": "2021-12-14T04:44:13.232858Z",
     "start_time": "2021-12-14T04:44:11.520279Z"
    }
   },
   "outputs": [],
   "source": [
    "# Using cache\n",
    "with open('fifa_index_cache.json', 'r') as file_obj:\n",
    "    cache = json.load(file_obj)\n",
    "\n",
    "page_dict = {}\n",
    "for key in cache.keys():\n",
    "    page_dict[key] = [BeautifulSoup(element) for element in cache[key]]"
   ]
  },
  {
   "cell_type": "code",
   "execution_count": 4,
   "id": "controversial-remark",
   "metadata": {
    "ExecuteTime": {
     "end_time": "2021-12-14T04:49:24.839821Z",
     "start_time": "2021-12-14T04:46:32.536044Z"
    }
   },
   "outputs": [
    {
     "ename": "KeyboardInterrupt",
     "evalue": "",
     "output_type": "error",
     "traceback": [
      "\u001b[0;31m---------------------------------------------------------------------------\u001b[0m",
      "\u001b[0;31mKeyboardInterrupt\u001b[0m                         Traceback (most recent call last)",
      "\u001b[0;32m<ipython-input-4-d050227a2824>\u001b[0m in \u001b[0;36m<module>\u001b[0;34m\u001b[0m\n\u001b[1;32m     27\u001b[0m         \u001b[0;31m# Player Attributes\u001b[0m\u001b[0;34m\u001b[0m\u001b[0;34m\u001b[0m\u001b[0;34m\u001b[0m\u001b[0m\n\u001b[1;32m     28\u001b[0m         \u001b[0mheight\u001b[0m \u001b[0;34m=\u001b[0m \u001b[0mint\u001b[0m\u001b[0;34m(\u001b[0m\u001b[0msoup\u001b[0m\u001b[0;34m.\u001b[0m\u001b[0mfind_all\u001b[0m\u001b[0;34m(\u001b[0m\u001b[0;34m'span'\u001b[0m\u001b[0;34m,\u001b[0m \u001b[0mclass_\u001b[0m\u001b[0;34m=\u001b[0m\u001b[0;34m\"data-units data-units-metric\"\u001b[0m\u001b[0;34m)\u001b[0m\u001b[0;34m[\u001b[0m\u001b[0;36m0\u001b[0m\u001b[0;34m]\u001b[0m\u001b[0;34m.\u001b[0m\u001b[0mtext\u001b[0m\u001b[0;34m.\u001b[0m\u001b[0msplit\u001b[0m\u001b[0;34m(\u001b[0m\u001b[0;34m)\u001b[0m\u001b[0;34m[\u001b[0m\u001b[0;36m0\u001b[0m\u001b[0;34m]\u001b[0m\u001b[0;34m)\u001b[0m\u001b[0;34m\u001b[0m\u001b[0;34m\u001b[0m\u001b[0m\n\u001b[0;32m---> 29\u001b[0;31m         \u001b[0mweight\u001b[0m \u001b[0;34m=\u001b[0m \u001b[0mint\u001b[0m\u001b[0;34m(\u001b[0m\u001b[0msoup\u001b[0m\u001b[0;34m.\u001b[0m\u001b[0mfind_all\u001b[0m\u001b[0;34m(\u001b[0m\u001b[0;34m'span'\u001b[0m\u001b[0;34m,\u001b[0m \u001b[0mclass_\u001b[0m\u001b[0;34m=\u001b[0m\u001b[0;34m\"data-units data-units-metric\"\u001b[0m\u001b[0;34m)\u001b[0m\u001b[0;34m[\u001b[0m\u001b[0;36m1\u001b[0m\u001b[0;34m]\u001b[0m\u001b[0;34m.\u001b[0m\u001b[0mtext\u001b[0m\u001b[0;34m.\u001b[0m\u001b[0msplit\u001b[0m\u001b[0;34m(\u001b[0m\u001b[0;34m)\u001b[0m\u001b[0;34m[\u001b[0m\u001b[0;36m0\u001b[0m\u001b[0;34m]\u001b[0m\u001b[0;34m)\u001b[0m\u001b[0;34m\u001b[0m\u001b[0;34m\u001b[0m\u001b[0m\n\u001b[0m\u001b[1;32m     30\u001b[0m         \u001b[0mage\u001b[0m \u001b[0;34m=\u001b[0m \u001b[0mint\u001b[0m\u001b[0;34m(\u001b[0m\u001b[0msoup\u001b[0m\u001b[0;34m.\u001b[0m\u001b[0mfind\u001b[0m\u001b[0;34m(\u001b[0m\u001b[0mtext\u001b[0m\u001b[0;34m=\u001b[0m\u001b[0;34m'Age '\u001b[0m\u001b[0;34m)\u001b[0m\u001b[0;34m.\u001b[0m\u001b[0mfindNext\u001b[0m\u001b[0;34m(\u001b[0m\u001b[0;34m)\u001b[0m\u001b[0;34m.\u001b[0m\u001b[0mtext\u001b[0m\u001b[0;34m)\u001b[0m\u001b[0;34m\u001b[0m\u001b[0;34m\u001b[0m\u001b[0m\n\u001b[1;32m     31\u001b[0m         \u001b[0mpreferred_foot\u001b[0m \u001b[0;34m=\u001b[0m \u001b[0msoup\u001b[0m\u001b[0;34m.\u001b[0m\u001b[0mfind\u001b[0m\u001b[0;34m(\u001b[0m\u001b[0mtext\u001b[0m\u001b[0;34m=\u001b[0m\u001b[0;34m'Preferred Foot '\u001b[0m\u001b[0;34m)\u001b[0m\u001b[0;34m.\u001b[0m\u001b[0mfindNext\u001b[0m\u001b[0;34m(\u001b[0m\u001b[0;34m)\u001b[0m\u001b[0;34m.\u001b[0m\u001b[0mtext\u001b[0m\u001b[0;34m\u001b[0m\u001b[0;34m\u001b[0m\u001b[0m\n",
      "\u001b[0;32m/opt/anaconda3/lib/python3.8/site-packages/bs4/element.py\u001b[0m in \u001b[0;36mfind_all\u001b[0;34m(self, name, attrs, recursive, text, limit, **kwargs)\u001b[0m\n\u001b[1;32m   1786\u001b[0m         \u001b[0;32mif\u001b[0m \u001b[0;32mnot\u001b[0m \u001b[0mrecursive\u001b[0m\u001b[0;34m:\u001b[0m\u001b[0;34m\u001b[0m\u001b[0;34m\u001b[0m\u001b[0m\n\u001b[1;32m   1787\u001b[0m             \u001b[0mgenerator\u001b[0m \u001b[0;34m=\u001b[0m \u001b[0mself\u001b[0m\u001b[0;34m.\u001b[0m\u001b[0mchildren\u001b[0m\u001b[0;34m\u001b[0m\u001b[0;34m\u001b[0m\u001b[0m\n\u001b[0;32m-> 1788\u001b[0;31m         \u001b[0;32mreturn\u001b[0m \u001b[0mself\u001b[0m\u001b[0;34m.\u001b[0m\u001b[0m_find_all\u001b[0m\u001b[0;34m(\u001b[0m\u001b[0mname\u001b[0m\u001b[0;34m,\u001b[0m \u001b[0mattrs\u001b[0m\u001b[0;34m,\u001b[0m \u001b[0mtext\u001b[0m\u001b[0;34m,\u001b[0m \u001b[0mlimit\u001b[0m\u001b[0;34m,\u001b[0m \u001b[0mgenerator\u001b[0m\u001b[0;34m,\u001b[0m \u001b[0;34m**\u001b[0m\u001b[0mkwargs\u001b[0m\u001b[0;34m)\u001b[0m\u001b[0;34m\u001b[0m\u001b[0;34m\u001b[0m\u001b[0m\n\u001b[0m\u001b[1;32m   1789\u001b[0m     \u001b[0mfindAll\u001b[0m \u001b[0;34m=\u001b[0m \u001b[0mfind_all\u001b[0m       \u001b[0;31m# BS3\u001b[0m\u001b[0;34m\u001b[0m\u001b[0;34m\u001b[0m\u001b[0m\n\u001b[1;32m   1790\u001b[0m     \u001b[0mfindChildren\u001b[0m \u001b[0;34m=\u001b[0m \u001b[0mfind_all\u001b[0m  \u001b[0;31m# BS2\u001b[0m\u001b[0;34m\u001b[0m\u001b[0;34m\u001b[0m\u001b[0m\n",
      "\u001b[0;32m/opt/anaconda3/lib/python3.8/site-packages/bs4/element.py\u001b[0m in \u001b[0;36m_find_all\u001b[0;34m(self, name, attrs, text, limit, generator, **kwargs)\u001b[0m\n\u001b[1;32m    780\u001b[0m             \u001b[0;32mexcept\u001b[0m \u001b[0mStopIteration\u001b[0m\u001b[0;34m:\u001b[0m\u001b[0;34m\u001b[0m\u001b[0;34m\u001b[0m\u001b[0m\n\u001b[1;32m    781\u001b[0m                 \u001b[0;32mbreak\u001b[0m\u001b[0;34m\u001b[0m\u001b[0;34m\u001b[0m\u001b[0m\n\u001b[0;32m--> 782\u001b[0;31m             \u001b[0;32mif\u001b[0m \u001b[0mi\u001b[0m\u001b[0;34m:\u001b[0m\u001b[0;34m\u001b[0m\u001b[0;34m\u001b[0m\u001b[0m\n\u001b[0m\u001b[1;32m    783\u001b[0m                 \u001b[0mfound\u001b[0m \u001b[0;34m=\u001b[0m \u001b[0mstrainer\u001b[0m\u001b[0;34m.\u001b[0m\u001b[0msearch\u001b[0m\u001b[0;34m(\u001b[0m\u001b[0mi\u001b[0m\u001b[0;34m)\u001b[0m\u001b[0;34m\u001b[0m\u001b[0;34m\u001b[0m\u001b[0m\n\u001b[1;32m    784\u001b[0m                 \u001b[0;32mif\u001b[0m \u001b[0mfound\u001b[0m\u001b[0;34m:\u001b[0m\u001b[0;34m\u001b[0m\u001b[0;34m\u001b[0m\u001b[0m\n",
      "\u001b[0;32m/opt/anaconda3/lib/python3.8/site-packages/bs4/element.py\u001b[0m in \u001b[0;36m__bool__\u001b[0;34m(self)\u001b[0m\n\u001b[1;32m   1417\u001b[0m         \u001b[0;32mreturn\u001b[0m \u001b[0mx\u001b[0m \u001b[0;32min\u001b[0m \u001b[0mself\u001b[0m\u001b[0;34m.\u001b[0m\u001b[0mcontents\u001b[0m\u001b[0;34m\u001b[0m\u001b[0;34m\u001b[0m\u001b[0m\n\u001b[1;32m   1418\u001b[0m \u001b[0;34m\u001b[0m\u001b[0m\n\u001b[0;32m-> 1419\u001b[0;31m     \u001b[0;32mdef\u001b[0m \u001b[0m__bool__\u001b[0m\u001b[0;34m(\u001b[0m\u001b[0mself\u001b[0m\u001b[0;34m)\u001b[0m\u001b[0;34m:\u001b[0m\u001b[0;34m\u001b[0m\u001b[0;34m\u001b[0m\u001b[0m\n\u001b[0m\u001b[1;32m   1420\u001b[0m         \u001b[0;34m\"A tag is non-None even if it has no contents.\"\u001b[0m\u001b[0;34m\u001b[0m\u001b[0;34m\u001b[0m\u001b[0m\n\u001b[1;32m   1421\u001b[0m         \u001b[0;32mreturn\u001b[0m \u001b[0;32mTrue\u001b[0m\u001b[0;34m\u001b[0m\u001b[0;34m\u001b[0m\u001b[0m\n",
      "\u001b[0;31mKeyboardInterrupt\u001b[0m: "
     ]
    }
   ],
   "source": [
    "player_list2 = []\n",
    "for key in page_dict2.keys():\n",
    "    for soup in page_dict2[key]:\n",
    "        player_content = soup.find_all('h5', class_='card-header')[0]\n",
    "\n",
    "        if str(player_content.contents[0]) != '<a href=\"/rankings/\">FIFA 22 Rankings <i class=\"fas fa-caret-right\"></i></a>':\n",
    "            player = player_content.contents[0]\n",
    "            overall = player_content.contents[1].contents[0].text\n",
    "            potential = player_content.contents[1].contents[-1].text\n",
    "        else:\n",
    "            player_content = soup.find_all('h5', class_='card-header')[1]\n",
    "            player = player_content.contents[0]\n",
    "            overall = player_content.contents[1].contents[0].text\n",
    "            potential = player_content.contents[1].contents[-1].text\n",
    "\n",
    "        try:\n",
    "            market_value = float(soup.find_all('p', class_='data-currency data-currency-dollar')[0].contents[1].contents[0][1:].replace('.',''))\n",
    "        except:\n",
    "            market_value = np.nan\n",
    "        \n",
    "        try:\n",
    "            salary = float(soup.find_all('p', class_='data-currency data-currency-dollar')[1].contents[1].contents[0][1:].replace('.',''))\n",
    "        except:\n",
    "            salary = np.nan\n",
    "        \n",
    "        # Player Attributes\n",
    "        height = int(soup.find_all('span', class_=\"data-units data-units-metric\")[0].text.split()[0])\n",
    "        weight = int(soup.find_all('span', class_=\"data-units data-units-metric\")[1].text.split()[0])\n",
    "        age = int(soup.find(text='Age ').findNext().text)\n",
    "        preferred_foot = soup.find(text='Preferred Foot ').findNext().text\n",
    "        \n",
    "        player = {'Player':player,'Overall Score':overall,'Potential Score':potential,\n",
    "                  'Market Value': market_value, 'Salary':salary,\n",
    "                  'Height': height, 'Weight': weight, 'Age': age,\n",
    "                  'Preferred Foot': preferred_foot}\n",
    "        \n",
    "        attrs = ['Ball Control', 'Dribbling',\n",
    "                'Marking', 'Slide Tackle', 'Stand Tackle',\n",
    "                'Aggression', 'Reactions', 'Att. Position', 'Interceptions', 'Vision', 'Composure',\n",
    "                'Crossing', 'Short Pass', 'Long Pass',\n",
    "                'Acceleration', 'Stamina', 'Strength', 'Balance', 'Sprint Speed', 'Agility', 'Jumping',\n",
    "                'Heading', 'Shot Power', 'Finishing', 'Long Shots', 'Curve', 'FK Acc.', 'Penalties', 'Volleys',\n",
    "                'GK Positioning', 'GK Diving', 'GK Handling', 'GK Kicking', 'GK Reflexes']\n",
    "        \n",
    "        for attr in attrs:\n",
    "            try:\n",
    "                player.update({attr:float(soup.find(text=attr+str(' ')).findNext().text)})\n",
    "            except:\n",
    "                player.update({attr:np.nan})\n",
    "                                                   \n",
    "        player_list2.append(player)"
   ]
  },
  {
   "cell_type": "code",
   "execution_count": 23,
   "id": "spanish-wealth",
   "metadata": {
    "ExecuteTime": {
     "end_time": "2021-12-13T12:26:50.669399Z",
     "start_time": "2021-12-13T12:26:50.624970Z"
    },
    "code_folding": []
   },
   "outputs": [
    {
     "ename": "AttributeError",
     "evalue": "'NoneType' object has no attribute 'findNext'",
     "output_type": "error",
     "traceback": [
      "\u001b[0;31m---------------------------------------------------------------------------\u001b[0m",
      "\u001b[0;31mAttributeError\u001b[0m                            Traceback (most recent call last)",
      "\u001b[0;32m<ipython-input-23-fbfd9996e4dd>\u001b[0m in \u001b[0;36m<module>\u001b[0;34m\u001b[0m\n\u001b[1;32m     29\u001b[0m         \u001b[0mweight\u001b[0m \u001b[0;34m=\u001b[0m \u001b[0mint\u001b[0m\u001b[0;34m(\u001b[0m\u001b[0msoup\u001b[0m\u001b[0;34m.\u001b[0m\u001b[0mfind_all\u001b[0m\u001b[0;34m(\u001b[0m\u001b[0;34m'span'\u001b[0m\u001b[0;34m,\u001b[0m \u001b[0mclass_\u001b[0m\u001b[0;34m=\u001b[0m\u001b[0;34m\"data-units data-units-metric\"\u001b[0m\u001b[0;34m)\u001b[0m\u001b[0;34m[\u001b[0m\u001b[0;36m1\u001b[0m\u001b[0;34m]\u001b[0m\u001b[0;34m.\u001b[0m\u001b[0mtext\u001b[0m\u001b[0;34m.\u001b[0m\u001b[0msplit\u001b[0m\u001b[0;34m(\u001b[0m\u001b[0;34m)\u001b[0m\u001b[0;34m[\u001b[0m\u001b[0;36m0\u001b[0m\u001b[0;34m]\u001b[0m\u001b[0;34m)\u001b[0m\u001b[0;34m\u001b[0m\u001b[0;34m\u001b[0m\u001b[0m\n\u001b[1;32m     30\u001b[0m         \u001b[0mage\u001b[0m \u001b[0;34m=\u001b[0m \u001b[0mint\u001b[0m\u001b[0;34m(\u001b[0m\u001b[0msoup\u001b[0m\u001b[0;34m.\u001b[0m\u001b[0mfind\u001b[0m\u001b[0;34m(\u001b[0m\u001b[0mtext\u001b[0m\u001b[0;34m=\u001b[0m\u001b[0;34m'Age '\u001b[0m\u001b[0;34m)\u001b[0m\u001b[0;34m.\u001b[0m\u001b[0mfindNext\u001b[0m\u001b[0;34m(\u001b[0m\u001b[0;34m)\u001b[0m\u001b[0;34m.\u001b[0m\u001b[0mtext\u001b[0m\u001b[0;34m)\u001b[0m\u001b[0;34m\u001b[0m\u001b[0;34m\u001b[0m\u001b[0m\n\u001b[0;32m---> 31\u001b[0;31m         \u001b[0mposition\u001b[0m \u001b[0;34m=\u001b[0m \u001b[0msoup\u001b[0m\u001b[0;34m.\u001b[0m\u001b[0mfind\u001b[0m\u001b[0;34m(\u001b[0m\u001b[0mtext\u001b[0m\u001b[0;34m=\u001b[0m\u001b[0;34m'Preferred Position '\u001b[0m\u001b[0;34m)\u001b[0m\u001b[0;34m.\u001b[0m\u001b[0mfindNext\u001b[0m\u001b[0;34m(\u001b[0m\u001b[0;34m)\u001b[0m\u001b[0;34m.\u001b[0m\u001b[0mtext\u001b[0m\u001b[0;34m\u001b[0m\u001b[0;34m\u001b[0m\u001b[0m\n\u001b[0m\u001b[1;32m     32\u001b[0m         \u001b[0mprint\u001b[0m\u001b[0;34m(\u001b[0m\u001b[0mposition\u001b[0m\u001b[0;34m)\u001b[0m\u001b[0;34m\u001b[0m\u001b[0;34m\u001b[0m\u001b[0m\n\u001b[1;32m     33\u001b[0m         \u001b[0mpreferred_foot\u001b[0m \u001b[0;34m=\u001b[0m \u001b[0msoup\u001b[0m\u001b[0;34m.\u001b[0m\u001b[0mfind\u001b[0m\u001b[0;34m(\u001b[0m\u001b[0mtext\u001b[0m\u001b[0;34m=\u001b[0m\u001b[0;34m'Preferred Foot '\u001b[0m\u001b[0;34m)\u001b[0m\u001b[0;34m.\u001b[0m\u001b[0mfindNext\u001b[0m\u001b[0;34m(\u001b[0m\u001b[0;34m)\u001b[0m\u001b[0;34m.\u001b[0m\u001b[0mtext\u001b[0m\u001b[0;34m\u001b[0m\u001b[0;34m\u001b[0m\u001b[0m\n",
      "\u001b[0;31mAttributeError\u001b[0m: 'NoneType' object has no attribute 'findNext'"
     ]
    }
   ],
   "source": [
    "player_list = []\n",
    "for key in page_dict.keys():\n",
    "    for soup in page_dict[key]:\n",
    "#         for soup in mainßsoup.find_all('td', attrs={'data-title':'Name'}):\n",
    "        player_content = soup.find_all('h5', class_='card-header')[0]\n",
    "\n",
    "        if str(player_content.contents[0]) != '<a href=\"/rankings/\">FIFA 22 Rankings <i class=\"fas fa-caret-right\"></i></a>':\n",
    "            player = player_content.contents[0]\n",
    "            overall = player_content.contents[1].contents[0].text\n",
    "            potential = player_content.contents[1].contents[-1].text\n",
    "        else:\n",
    "            player_content = soup.find_all('h5', class_='card-header')[1]\n",
    "            player = player_content.contents[0]\n",
    "            overall = player_content.contents[1].contents[0].text\n",
    "            potential = player_content.contents[1].contents[-1].text\n",
    "\n",
    "        try:\n",
    "            market_value = float(soup.find_all('p', class_='data-currency data-currency-dollar')[0].contents[1].contents[0][1:].replace('.',''))\n",
    "        except:\n",
    "            market_value = np.nan\n",
    "        \n",
    "        try:\n",
    "            salary = float(soup.find_all('p', class_='data-currency data-currency-dollar')[1].contents[1].contents[0][1:].replace('.',''))\n",
    "        except:\n",
    "            salary = np.nan\n",
    "        \n",
    "        # Player Attributes\n",
    "        height = int(soup.find_all('span', class_=\"data-units data-units-metric\")[0].text.split()[0])\n",
    "        weight = int(soup.find_all('span', class_=\"data-units data-units-metric\")[1].text.split()[0])\n",
    "        age = int(soup.find(text='Age ').findNext().text)\n",
    "        preferred_foot = soup.find(text='Preferred Foot ').findNext().text\n",
    "        \n",
    "        player = {'Player':player,'Overall Score':overall,'Potential Score':potential,\n",
    "                  'Market Value': market_value, 'Salary':salary,\n",
    "                  'Height': height, 'Weight': weight, 'Age': age,\n",
    "                  'Preferred Foot': preferred_foot}\n",
    "        \n",
    "        attrs = ['Ball Control', 'Dribbling',\n",
    "                'Marking', 'Slide Tackle', 'Stand Tackle',\n",
    "                'Aggression', 'Reactions', 'Att. Position', 'Interceptions', 'Vision', 'Composure',\n",
    "                'Crossing', 'Short Pass', 'Long Pass',\n",
    "                'Acceleration', 'Stamina', 'Strength', 'Balance', 'Sprint Speed', 'Agility', 'Jumping',\n",
    "                'Heading', 'Shot Power', 'Finishing', 'Long Shots', 'Curve', 'FK Acc.', 'Penalties', 'Volleys',\n",
    "                'GK Positioning', 'GK Diving', 'GK Handling', 'GK Kicking', 'GK Reflexes']\n",
    "        \n",
    "        for attr in attrs:\n",
    "            try:\n",
    "                player.update({attr:float(soup.find(text=attr+str(' ')).findNext().text)})\n",
    "            except:\n",
    "                player.update({attr:np.nan})\n",
    "                                                   \n",
    "        player_list.append(player)"
   ]
  },
  {
   "cell_type": "code",
   "execution_count": 13,
   "id": "tested-implementation",
   "metadata": {
    "ExecuteTime": {
     "end_time": "2021-12-09T17:58:55.452280Z",
     "start_time": "2021-12-09T17:58:55.363820Z"
    },
    "code_folding": []
   },
   "outputs": [
    {
     "data": {
      "text/html": [
       "<div>\n",
       "<style scoped>\n",
       "    .dataframe tbody tr th:only-of-type {\n",
       "        vertical-align: middle;\n",
       "    }\n",
       "\n",
       "    .dataframe tbody tr th {\n",
       "        vertical-align: top;\n",
       "    }\n",
       "\n",
       "    .dataframe thead th {\n",
       "        text-align: right;\n",
       "    }\n",
       "</style>\n",
       "<table border=\"1\" class=\"dataframe\">\n",
       "  <thead>\n",
       "    <tr style=\"text-align: right;\">\n",
       "      <th></th>\n",
       "      <th>Player</th>\n",
       "      <th>Overall Score</th>\n",
       "      <th>Potential Score</th>\n",
       "      <th>Market Value</th>\n",
       "      <th>Salary</th>\n",
       "      <th>Height</th>\n",
       "      <th>Weight</th>\n",
       "      <th>Age</th>\n",
       "      <th>Preferred Foot</th>\n",
       "      <th>Ball Control</th>\n",
       "      <th>...</th>\n",
       "      <th>Long Shots</th>\n",
       "      <th>Curve</th>\n",
       "      <th>FK Acc.</th>\n",
       "      <th>Penalties</th>\n",
       "      <th>Volleys</th>\n",
       "      <th>GK Positioning</th>\n",
       "      <th>GK Diving</th>\n",
       "      <th>GK Handling</th>\n",
       "      <th>GK Kicking</th>\n",
       "      <th>GK Reflexes</th>\n",
       "    </tr>\n",
       "  </thead>\n",
       "  <tbody>\n",
       "    <tr>\n",
       "      <th>0</th>\n",
       "      <td>Lionel Messi</td>\n",
       "      <td>93</td>\n",
       "      <td>93</td>\n",
       "      <td>92000000.0</td>\n",
       "      <td>380000.0</td>\n",
       "      <td>170</td>\n",
       "      <td>72</td>\n",
       "      <td>34</td>\n",
       "      <td>Left</td>\n",
       "      <td>96.0</td>\n",
       "      <td>...</td>\n",
       "      <td>94.0</td>\n",
       "      <td>93.0</td>\n",
       "      <td>94.0</td>\n",
       "      <td>75.0</td>\n",
       "      <td>88.0</td>\n",
       "      <td>14.0</td>\n",
       "      <td>6.0</td>\n",
       "      <td>11.0</td>\n",
       "      <td>15.0</td>\n",
       "      <td>8.0</td>\n",
       "    </tr>\n",
       "    <tr>\n",
       "      <th>1</th>\n",
       "      <td>Robert Lewandowski</td>\n",
       "      <td>92</td>\n",
       "      <td>92</td>\n",
       "      <td>141500000.0</td>\n",
       "      <td>320000.0</td>\n",
       "      <td>185</td>\n",
       "      <td>81</td>\n",
       "      <td>33</td>\n",
       "      <td>Right</td>\n",
       "      <td>88.0</td>\n",
       "      <td>...</td>\n",
       "      <td>87.0</td>\n",
       "      <td>79.0</td>\n",
       "      <td>85.0</td>\n",
       "      <td>89.0</td>\n",
       "      <td>89.0</td>\n",
       "      <td>8.0</td>\n",
       "      <td>15.0</td>\n",
       "      <td>6.0</td>\n",
       "      <td>12.0</td>\n",
       "      <td>10.0</td>\n",
       "    </tr>\n",
       "    <tr>\n",
       "      <th>2</th>\n",
       "      <td>Kylian Mbappé</td>\n",
       "      <td>91</td>\n",
       "      <td>95</td>\n",
       "      <td>229000000.0</td>\n",
       "      <td>270000.0</td>\n",
       "      <td>182</td>\n",
       "      <td>73</td>\n",
       "      <td>22</td>\n",
       "      <td>Right</td>\n",
       "      <td>91.0</td>\n",
       "      <td>...</td>\n",
       "      <td>82.0</td>\n",
       "      <td>80.0</td>\n",
       "      <td>69.0</td>\n",
       "      <td>79.0</td>\n",
       "      <td>83.0</td>\n",
       "      <td>11.0</td>\n",
       "      <td>13.0</td>\n",
       "      <td>5.0</td>\n",
       "      <td>7.0</td>\n",
       "      <td>6.0</td>\n",
       "    </tr>\n",
       "    <tr>\n",
       "      <th>3</th>\n",
       "      <td>Jan Oblak</td>\n",
       "      <td>91</td>\n",
       "      <td>93</td>\n",
       "      <td>132500000.0</td>\n",
       "      <td>150000.0</td>\n",
       "      <td>188</td>\n",
       "      <td>87</td>\n",
       "      <td>28</td>\n",
       "      <td>Right</td>\n",
       "      <td>30.0</td>\n",
       "      <td>...</td>\n",
       "      <td>12.0</td>\n",
       "      <td>13.0</td>\n",
       "      <td>14.0</td>\n",
       "      <td>11.0</td>\n",
       "      <td>13.0</td>\n",
       "      <td>90.0</td>\n",
       "      <td>87.0</td>\n",
       "      <td>92.0</td>\n",
       "      <td>78.0</td>\n",
       "      <td>90.0</td>\n",
       "    </tr>\n",
       "    <tr>\n",
       "      <th>4</th>\n",
       "      <td>Kevin De Bruyne</td>\n",
       "      <td>91</td>\n",
       "      <td>91</td>\n",
       "      <td>148000000.0</td>\n",
       "      <td>410000.0</td>\n",
       "      <td>181</td>\n",
       "      <td>70</td>\n",
       "      <td>30</td>\n",
       "      <td>Right</td>\n",
       "      <td>90.0</td>\n",
       "      <td>...</td>\n",
       "      <td>91.0</td>\n",
       "      <td>85.0</td>\n",
       "      <td>83.0</td>\n",
       "      <td>83.0</td>\n",
       "      <td>82.0</td>\n",
       "      <td>10.0</td>\n",
       "      <td>15.0</td>\n",
       "      <td>13.0</td>\n",
       "      <td>5.0</td>\n",
       "      <td>13.0</td>\n",
       "    </tr>\n",
       "  </tbody>\n",
       "</table>\n",
       "<p>5 rows × 43 columns</p>\n",
       "</div>"
      ],
      "text/plain": [
       "               Player Overall Score Potential Score  Market Value    Salary  \\\n",
       "0        Lionel Messi            93              93    92000000.0  380000.0   \n",
       "1  Robert Lewandowski            92              92   141500000.0  320000.0   \n",
       "2       Kylian Mbappé            91              95   229000000.0  270000.0   \n",
       "3           Jan Oblak            91              93   132500000.0  150000.0   \n",
       "4     Kevin De Bruyne            91              91   148000000.0  410000.0   \n",
       "\n",
       "   Height  Weight  Age Preferred Foot  Ball Control  ...  Long Shots  Curve  \\\n",
       "0     170      72   34           Left          96.0  ...        94.0   93.0   \n",
       "1     185      81   33          Right          88.0  ...        87.0   79.0   \n",
       "2     182      73   22          Right          91.0  ...        82.0   80.0   \n",
       "3     188      87   28          Right          30.0  ...        12.0   13.0   \n",
       "4     181      70   30          Right          90.0  ...        91.0   85.0   \n",
       "\n",
       "   FK Acc.  Penalties  Volleys  GK Positioning  GK Diving  GK Handling  \\\n",
       "0     94.0       75.0     88.0            14.0        6.0         11.0   \n",
       "1     85.0       89.0     89.0             8.0       15.0          6.0   \n",
       "2     69.0       79.0     83.0            11.0       13.0          5.0   \n",
       "3     14.0       11.0     13.0            90.0       87.0         92.0   \n",
       "4     83.0       83.0     82.0            10.0       15.0         13.0   \n",
       "\n",
       "   GK Kicking  GK Reflexes  \n",
       "0        15.0          8.0  \n",
       "1        12.0         10.0  \n",
       "2         7.0          6.0  \n",
       "3        78.0         90.0  \n",
       "4         5.0         13.0  \n",
       "\n",
       "[5 rows x 43 columns]"
      ]
     },
     "execution_count": 13,
     "metadata": {},
     "output_type": "execute_result"
    }
   ],
   "source": [
    "df = pd.DataFrame(player_list)\n",
    "df.head()"
   ]
  },
  {
   "cell_type": "code",
   "execution_count": 14,
   "id": "acknowledged-thanks",
   "metadata": {
    "ExecuteTime": {
     "end_time": "2021-12-09T17:59:39.288235Z",
     "start_time": "2021-12-09T17:59:39.255172Z"
    },
    "scrolled": true
   },
   "outputs": [
    {
     "name": "stdout",
     "output_type": "stream",
     "text": [
      "<class 'pandas.core.frame.DataFrame'>\n",
      "RangeIndex: 3000 entries, 0 to 2999\n",
      "Data columns (total 43 columns):\n",
      " #   Column           Non-Null Count  Dtype  \n",
      "---  ------           --------------  -----  \n",
      " 0   Player           3000 non-null   object \n",
      " 1   Overall Score    3000 non-null   object \n",
      " 2   Potential Score  3000 non-null   object \n",
      " 3   Market Value     2933 non-null   float64\n",
      " 4   Salary           2945 non-null   float64\n",
      " 5   Height           3000 non-null   int64  \n",
      " 6   Weight           3000 non-null   int64  \n",
      " 7   Age              3000 non-null   int64  \n",
      " 8   Preferred Foot   3000 non-null   object \n",
      " 9   Ball Control     2973 non-null   float64\n",
      " 10  Dribbling        2979 non-null   float64\n",
      " 11  Marking          2975 non-null   float64\n",
      " 12  Slide Tackle     2980 non-null   float64\n",
      " 13  Stand Tackle     2977 non-null   float64\n",
      " 14  Aggression       2984 non-null   float64\n",
      " 15  Reactions        2962 non-null   float64\n",
      " 16  Att. Position    2980 non-null   float64\n",
      " 17  Interceptions    2974 non-null   float64\n",
      " 18  Vision           2981 non-null   float64\n",
      " 19  Composure        2981 non-null   float64\n",
      " 20  Crossing         2981 non-null   float64\n",
      " 21  Short Pass       2968 non-null   float64\n",
      " 22  Long Pass        2982 non-null   float64\n",
      " 23  Acceleration     2980 non-null   float64\n",
      " 24  Stamina          2976 non-null   float64\n",
      " 25  Strength         2975 non-null   float64\n",
      " 26  Balance          2994 non-null   float64\n",
      " 27  Sprint Speed     2979 non-null   float64\n",
      " 28  Agility          2986 non-null   float64\n",
      " 29  Jumping          2992 non-null   float64\n",
      " 30  Heading          2984 non-null   float64\n",
      " 31  Shot Power       2988 non-null   float64\n",
      " 32  Finishing        2978 non-null   float64\n",
      " 33  Long Shots       2987 non-null   float64\n",
      " 34  Curve            2990 non-null   float64\n",
      " 35  FK Acc.          2989 non-null   float64\n",
      " 36  Penalties        2996 non-null   float64\n",
      " 37  Volleys          2991 non-null   float64\n",
      " 38  GK Positioning   2998 non-null   float64\n",
      " 39  GK Diving        2999 non-null   float64\n",
      " 40  GK Handling      2999 non-null   float64\n",
      " 41  GK Kicking       3000 non-null   float64\n",
      " 42  GK Reflexes      2998 non-null   float64\n",
      "dtypes: float64(36), int64(3), object(4)\n",
      "memory usage: 1007.9+ KB\n"
     ]
    }
   ],
   "source": [
    "df.info()"
   ]
  },
  {
   "cell_type": "code",
   "execution_count": 21,
   "id": "excellent-republic",
   "metadata": {
    "ExecuteTime": {
     "end_time": "2021-12-09T18:07:10.166014Z",
     "start_time": "2021-12-09T18:07:09.262905Z"
    }
   },
   "outputs": [],
   "source": [
    "with open('fifa_index_cache.json', 'w') as file_obj:\n",
    "    json.dump(cache, file_obj, indent=4)"
   ]
  },
  {
   "cell_type": "code",
   "execution_count": 20,
   "id": "respiratory-deviation",
   "metadata": {
    "ExecuteTime": {
     "end_time": "2021-12-09T18:02:31.219045Z",
     "start_time": "2021-12-09T18:02:31.115956Z"
    }
   },
   "outputs": [],
   "source": [
    "df.to_csv('fifa_data.csv', index=False)"
   ]
  }
 ],
 "metadata": {
  "kernelspec": {
   "display_name": "Python 3",
   "language": "python",
   "name": "python3"
  },
  "language_info": {
   "codemirror_mode": {
    "name": "ipython",
    "version": 3
   },
   "file_extension": ".py",
   "mimetype": "text/x-python",
   "name": "python",
   "nbconvert_exporter": "python",
   "pygments_lexer": "ipython3",
   "version": "3.8.2"
  },
  "varInspector": {
   "cols": {
    "lenName": 16,
    "lenType": 16,
    "lenVar": 40
   },
   "kernels_config": {
    "python": {
     "delete_cmd_postfix": "",
     "delete_cmd_prefix": "del ",
     "library": "var_list.py",
     "varRefreshCmd": "print(var_dic_list())"
    },
    "r": {
     "delete_cmd_postfix": ") ",
     "delete_cmd_prefix": "rm(",
     "library": "var_list.r",
     "varRefreshCmd": "cat(var_dic_list()) "
    }
   },
   "position": {
    "height": "745.844px",
    "left": "1521px",
    "right": "20px",
    "top": "131px",
    "width": "359px"
   },
   "types_to_exclude": [
    "module",
    "function",
    "builtin_function_or_method",
    "instance",
    "_Feature"
   ],
   "window_display": false
  }
 },
 "nbformat": 4,
 "nbformat_minor": 5
}
